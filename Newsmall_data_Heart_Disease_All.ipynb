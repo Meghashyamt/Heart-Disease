{
  "nbformat": 4,
  "nbformat_minor": 0,
  "metadata": {
    "colab": {
      "name": "Newsmall data Heart_Disease_All.ipynb",
      "version": "0.3.2",
      "provenance": [],
      "collapsed_sections": []
    },
    "kernelspec": {
      "display_name": "Python 3",
      "language": "python",
      "name": "python3"
    },
    "language_info": {
      "codemirror_mode": {
        "name": "ipython",
        "version": 3
      },
      "file_extension": ".py",
      "mimetype": "text/x-python",
      "name": "python",
      "nbconvert_exporter": "python",
      "pygments_lexer": "ipython3",
      "version": "3.7.3"
    }
  },
  "cells": [
    {
      "cell_type": "markdown",
      "metadata": {
        "colab_type": "text",
        "id": "view-in-github"
      },
      "source": [
        "<a href=\"https://colab.research.google.com/github/Meghashyamt/Heart-Disease/blob/master/Heart_Disease_All.ipynb\" target=\"_parent\"><img src=\"https://colab.research.google.com/assets/colab-badge.svg\" alt=\"Open In Colab\"/></a>"
      ]
    },
    {
      "cell_type": "markdown",
      "metadata": {
        "colab_type": "text",
        "id": "aFrLWkzfO4s0"
      },
      "source": [
        "# Heart Disease Data to Improve Process\n"
      ]
    },
    {
      "cell_type": "markdown",
      "metadata": {
        "colab_type": "text",
        "id": "Tsxr2LjsvNHa"
      },
      "source": [
        "**Data Description**\n",
        "\n",
        "**age:** The person's age in years\n",
        "\n",
        "**sex**: The person's sex (1 = male, 0 = female)\n",
        "\n",
        "**cp**: The chest pain experienced (Value 1: typical angina, Value 2: atypical angina, Value 3: non-anginal pain, Value 4: asymptomatic)\n",
        "\n",
        "**trestbps**: The person's resting blood pressure (mm Hg on admission to the hospital)\n",
        "\n",
        "**chol**: The person's cholesterol measurement in mg/dl\n",
        "\n",
        "**fbs**: The person's fasting blood sugar (> 120 mg/dl, 1 = true; 0 = false)\n",
        "\n",
        "**restecg**: Resting electrocardiographic measurement (0 = normal, 1 = having ST-T wave abnormality, 2 = showing probable or definite left ventricular hypertrophy by Estes' criteria)\n",
        "\n",
        "**thalach**: The person's maximum heart rate achieved\n",
        "\n",
        "**exang**: Exercise induced angina (1 = yes; 0 = no)\n",
        "\n",
        "**oldpeak**: ST depression induced by exercise relative to rest ('ST' relates to positions on the ECG plot. See more here)\n",
        "\n",
        "**slope**: the slope of the peak exercise ST segment (Value 1: upsloping, Value 2: flat, Value 3: downsloping)\n",
        "\n",
        "**ca**: The number of major vessels (0-3)\n",
        "\n",
        "**thal**: A blood disorder called thalassemia (3 = normal; 6 = fixed defect; 7 = reversable defect)\n",
        "\n",
        "**target**: Heart disease (0 = no, 1 = yes)"
      ]
    },
    {
      "cell_type": "code",
      "metadata": {
        "colab_type": "code",
        "id": "M8on1iVuPAN-",
        "colab": {}
      },
      "source": [
        "#!git clone https://github.com/Humeraafroz/Heart-Disease"
      ],
      "execution_count": 0,
      "outputs": []
    },
    {
      "cell_type": "markdown",
      "metadata": {
        "colab_type": "text",
        "id": "rWYAj3ZWbXtk"
      },
      "source": [
        "# Importing Libraries"
      ]
    },
    {
      "cell_type": "code",
      "metadata": {
        "colab_type": "code",
        "id": "wsRj3jNPPHnZ",
        "colab": {}
      },
      "source": [
        "#Importing Libraries\n",
        "\n",
        "import seaborn as sb\n",
        "import matplotlib.pyplot as plt\n",
        "\n",
        "\n",
        "import numpy as np\n",
        "import pandas as pd\n"
      ],
      "execution_count": 0,
      "outputs": []
    },
    {
      "cell_type": "code",
      "metadata": {
        "colab_type": "code",
        "id": "OLAjxLXsn-x3",
        "outputId": "8a8697e7-238e-497d-9d93-aaecf85928e2",
        "colab": {
          "base_uri": "https://localhost:8080/",
          "height": 204
        }
      },
      "source": [
        "#data = pd.read_csv(\"C:\\\\Users\\\\HP\\\\Downloads\\\\Heart-Disease-master\\\\Heart-Disease-master\\\\heart.csv\")\n",
        "data=pd.read_csv(\"data.csv\")\n",
        "data.head()"
      ],
      "execution_count": 3,
      "outputs": [
        {
          "output_type": "execute_result",
          "data": {
            "text/html": [
              "<div>\n",
              "<style scoped>\n",
              "    .dataframe tbody tr th:only-of-type {\n",
              "        vertical-align: middle;\n",
              "    }\n",
              "\n",
              "    .dataframe tbody tr th {\n",
              "        vertical-align: top;\n",
              "    }\n",
              "\n",
              "    .dataframe thead th {\n",
              "        text-align: right;\n",
              "    }\n",
              "</style>\n",
              "<table border=\"1\" class=\"dataframe\">\n",
              "  <thead>\n",
              "    <tr style=\"text-align: right;\">\n",
              "      <th></th>\n",
              "      <th>age</th>\n",
              "      <th>sex</th>\n",
              "      <th>cp</th>\n",
              "      <th>trestbps</th>\n",
              "      <th>chol</th>\n",
              "      <th>fbs</th>\n",
              "      <th>restecg</th>\n",
              "      <th>thalach</th>\n",
              "      <th>exang</th>\n",
              "      <th>oldpeak</th>\n",
              "      <th>slope</th>\n",
              "      <th>ca</th>\n",
              "      <th>thal</th>\n",
              "      <th>num</th>\n",
              "    </tr>\n",
              "  </thead>\n",
              "  <tbody>\n",
              "    <tr>\n",
              "      <th>0</th>\n",
              "      <td>28</td>\n",
              "      <td>1</td>\n",
              "      <td>2</td>\n",
              "      <td>130</td>\n",
              "      <td>132</td>\n",
              "      <td>0</td>\n",
              "      <td>2</td>\n",
              "      <td>185</td>\n",
              "      <td>0</td>\n",
              "      <td>0.0</td>\n",
              "      <td>?</td>\n",
              "      <td>?</td>\n",
              "      <td>?</td>\n",
              "      <td>0</td>\n",
              "    </tr>\n",
              "    <tr>\n",
              "      <th>1</th>\n",
              "      <td>29</td>\n",
              "      <td>1</td>\n",
              "      <td>2</td>\n",
              "      <td>120</td>\n",
              "      <td>243</td>\n",
              "      <td>0</td>\n",
              "      <td>0</td>\n",
              "      <td>160</td>\n",
              "      <td>0</td>\n",
              "      <td>0.0</td>\n",
              "      <td>?</td>\n",
              "      <td>?</td>\n",
              "      <td>?</td>\n",
              "      <td>0</td>\n",
              "    </tr>\n",
              "    <tr>\n",
              "      <th>2</th>\n",
              "      <td>29</td>\n",
              "      <td>1</td>\n",
              "      <td>2</td>\n",
              "      <td>140</td>\n",
              "      <td>?</td>\n",
              "      <td>0</td>\n",
              "      <td>0</td>\n",
              "      <td>170</td>\n",
              "      <td>0</td>\n",
              "      <td>0.0</td>\n",
              "      <td>?</td>\n",
              "      <td>?</td>\n",
              "      <td>?</td>\n",
              "      <td>0</td>\n",
              "    </tr>\n",
              "    <tr>\n",
              "      <th>3</th>\n",
              "      <td>30</td>\n",
              "      <td>0</td>\n",
              "      <td>1</td>\n",
              "      <td>170</td>\n",
              "      <td>237</td>\n",
              "      <td>0</td>\n",
              "      <td>1</td>\n",
              "      <td>170</td>\n",
              "      <td>0</td>\n",
              "      <td>0.0</td>\n",
              "      <td>?</td>\n",
              "      <td>?</td>\n",
              "      <td>6</td>\n",
              "      <td>0</td>\n",
              "    </tr>\n",
              "    <tr>\n",
              "      <th>4</th>\n",
              "      <td>31</td>\n",
              "      <td>0</td>\n",
              "      <td>2</td>\n",
              "      <td>100</td>\n",
              "      <td>219</td>\n",
              "      <td>0</td>\n",
              "      <td>1</td>\n",
              "      <td>150</td>\n",
              "      <td>0</td>\n",
              "      <td>0.0</td>\n",
              "      <td>?</td>\n",
              "      <td>?</td>\n",
              "      <td>?</td>\n",
              "      <td>0</td>\n",
              "    </tr>\n",
              "  </tbody>\n",
              "</table>\n",
              "</div>"
            ],
            "text/plain": [
              "   age  sex  cp trestbps chol fbs  ... exang oldpeak slope  ca thal num       \n",
              "0   28    1   2      130  132   0  ...     0     0.0     ?   ?    ?          0\n",
              "1   29    1   2      120  243   0  ...     0     0.0     ?   ?    ?          0\n",
              "2   29    1   2      140    ?   0  ...     0     0.0     ?   ?    ?          0\n",
              "3   30    0   1      170  237   0  ...     0     0.0     ?   ?    6          0\n",
              "4   31    0   2      100  219   0  ...     0     0.0     ?   ?    ?          0\n",
              "\n",
              "[5 rows x 14 columns]"
            ]
          },
          "metadata": {
            "tags": []
          },
          "execution_count": 3
        }
      ]
    },
    {
      "cell_type": "code",
      "metadata": {
        "colab_type": "code",
        "id": "93H2RBu0W3sk",
        "outputId": "85e3d370-79ae-43b4-8c26-805692122ae9",
        "colab": {
          "base_uri": "https://localhost:8080/",
          "height": 34
        }
      },
      "source": [
        "data.shape"
      ],
      "execution_count": 4,
      "outputs": [
        {
          "output_type": "execute_result",
          "data": {
            "text/plain": [
              "(294, 14)"
            ]
          },
          "metadata": {
            "tags": []
          },
          "execution_count": 4
        }
      ]
    },
    {
      "cell_type": "code",
      "metadata": {
        "id": "5CeH7knWNlZt",
        "colab_type": "code",
        "colab": {}
      },
      "source": [
        "\n",
        "data.columns=['age','sex','cp','trestbps','chol','fbs','restecg','thalch','exang','oldpeak','slope','ca','thal','target']"
      ],
      "execution_count": 0,
      "outputs": []
    },
    {
      "cell_type": "code",
      "metadata": {
        "colab_type": "code",
        "id": "YhH7WbNwoKIW",
        "outputId": "65e0ea91-01e7-44c9-f218-3c44d56423cb",
        "colab": {
          "base_uri": "https://localhost:8080/",
          "height": 272
        }
      },
      "source": [
        "data.isnull().sum()"
      ],
      "execution_count": 6,
      "outputs": [
        {
          "output_type": "execute_result",
          "data": {
            "text/plain": [
              "age         0\n",
              "sex         0\n",
              "cp          0\n",
              "trestbps    0\n",
              "chol        0\n",
              "fbs         0\n",
              "restecg     0\n",
              "thalch      0\n",
              "exang       0\n",
              "oldpeak     0\n",
              "slope       0\n",
              "ca          0\n",
              "thal        0\n",
              "target      0\n",
              "dtype: int64"
            ]
          },
          "metadata": {
            "tags": []
          },
          "execution_count": 6
        }
      ]
    },
    {
      "cell_type": "code",
      "metadata": {
        "id": "zaF91sDiz94s",
        "colab_type": "code",
        "colab": {}
      },
      "source": [
        "#pData=data.as_matrix()"
      ],
      "execution_count": 0,
      "outputs": []
    },
    {
      "cell_type": "code",
      "metadata": {
        "id": "MqnLonXP0Ky7",
        "colab_type": "code",
        "colab": {}
      },
      "source": [
        "#lab = pData[0,:];\n",
        "#pData = np.delete(pData, (0), axis=0)\n",
        "#pData[pData == '?'] = np.nan;\n",
        "#pData = pData.astype('float32')\n",
        "# pData = pData[~np.isnan(pData).any(axis=1)]"
      ],
      "execution_count": 0,
      "outputs": []
    },
    {
      "cell_type": "code",
      "metadata": {
        "id": "TKE2ZsWg0YR4",
        "colab_type": "code",
        "colab": {}
      },
      "source": [
        "#pData"
      ],
      "execution_count": 0,
      "outputs": []
    },
    {
      "cell_type": "code",
      "metadata": {
        "id": "_3ZX0yao0ZdM",
        "colab_type": "code",
        "outputId": "d44d3af1-6119-4792-a833-69c7a4288809",
        "colab": {
          "base_uri": "https://localhost:8080/",
          "height": 122
        }
      },
      "source": [
        "data = data.convert_objects(convert_numeric=True)\n",
        "\n",
        "X = data.iloc[:, :-1].values\n",
        "y = data.iloc[:, 13].values\n",
        "\n",
        "\n",
        "from sklearn.preprocessing import Imputer\n",
        "imputer = Imputer(missing_values = \"NaN\", strategy =\"mean\", axis = 0)\n",
        "imputer = imputer.fit(X[:,0:13])   \n",
        "X[:, 0:13] = imputer.transform(X[:, 0:13])"
      ],
      "execution_count": 11,
      "outputs": [
        {
          "output_type": "stream",
          "text": [
            "/usr/local/lib/python3.6/dist-packages/ipykernel_launcher.py:1: FutureWarning: convert_objects is deprecated.  To re-infer data dtypes for object columns, use DataFrame.infer_objects()\n",
            "For all other conversions use the data-type specific converters pd.to_datetime, pd.to_timedelta and pd.to_numeric.\n",
            "  \"\"\"Entry point for launching an IPython kernel.\n",
            "/usr/local/lib/python3.6/dist-packages/sklearn/utils/deprecation.py:66: DeprecationWarning: Class Imputer is deprecated; Imputer was deprecated in version 0.20 and will be removed in 0.22. Import impute.SimpleImputer from sklearn instead.\n",
            "  warnings.warn(msg, category=DeprecationWarning)\n"
          ],
          "name": "stderr"
        }
      ]
    },
    {
      "cell_type": "code",
      "metadata": {
        "id": "CpjkYwyu1Df4",
        "colab_type": "code",
        "outputId": "d66b22ad-5ccf-467c-ffe2-2f672f864016",
        "colab": {
          "base_uri": "https://localhost:8080/",
          "height": 204
        }
      },
      "source": [
        "data.head()"
      ],
      "execution_count": 12,
      "outputs": [
        {
          "output_type": "execute_result",
          "data": {
            "text/html": [
              "<div>\n",
              "<style scoped>\n",
              "    .dataframe tbody tr th:only-of-type {\n",
              "        vertical-align: middle;\n",
              "    }\n",
              "\n",
              "    .dataframe tbody tr th {\n",
              "        vertical-align: top;\n",
              "    }\n",
              "\n",
              "    .dataframe thead th {\n",
              "        text-align: right;\n",
              "    }\n",
              "</style>\n",
              "<table border=\"1\" class=\"dataframe\">\n",
              "  <thead>\n",
              "    <tr style=\"text-align: right;\">\n",
              "      <th></th>\n",
              "      <th>age</th>\n",
              "      <th>sex</th>\n",
              "      <th>cp</th>\n",
              "      <th>trestbps</th>\n",
              "      <th>chol</th>\n",
              "      <th>fbs</th>\n",
              "      <th>restecg</th>\n",
              "      <th>thalch</th>\n",
              "      <th>exang</th>\n",
              "      <th>oldpeak</th>\n",
              "      <th>slope</th>\n",
              "      <th>ca</th>\n",
              "      <th>thal</th>\n",
              "      <th>target</th>\n",
              "    </tr>\n",
              "  </thead>\n",
              "  <tbody>\n",
              "    <tr>\n",
              "      <th>0</th>\n",
              "      <td>28</td>\n",
              "      <td>1</td>\n",
              "      <td>2</td>\n",
              "      <td>130.0</td>\n",
              "      <td>132.0</td>\n",
              "      <td>0.0</td>\n",
              "      <td>2.0</td>\n",
              "      <td>185.0</td>\n",
              "      <td>0.0</td>\n",
              "      <td>0.0</td>\n",
              "      <td>NaN</td>\n",
              "      <td>NaN</td>\n",
              "      <td>NaN</td>\n",
              "      <td>0</td>\n",
              "    </tr>\n",
              "    <tr>\n",
              "      <th>1</th>\n",
              "      <td>29</td>\n",
              "      <td>1</td>\n",
              "      <td>2</td>\n",
              "      <td>120.0</td>\n",
              "      <td>243.0</td>\n",
              "      <td>0.0</td>\n",
              "      <td>0.0</td>\n",
              "      <td>160.0</td>\n",
              "      <td>0.0</td>\n",
              "      <td>0.0</td>\n",
              "      <td>NaN</td>\n",
              "      <td>NaN</td>\n",
              "      <td>NaN</td>\n",
              "      <td>0</td>\n",
              "    </tr>\n",
              "    <tr>\n",
              "      <th>2</th>\n",
              "      <td>29</td>\n",
              "      <td>1</td>\n",
              "      <td>2</td>\n",
              "      <td>140.0</td>\n",
              "      <td>NaN</td>\n",
              "      <td>0.0</td>\n",
              "      <td>0.0</td>\n",
              "      <td>170.0</td>\n",
              "      <td>0.0</td>\n",
              "      <td>0.0</td>\n",
              "      <td>NaN</td>\n",
              "      <td>NaN</td>\n",
              "      <td>NaN</td>\n",
              "      <td>0</td>\n",
              "    </tr>\n",
              "    <tr>\n",
              "      <th>3</th>\n",
              "      <td>30</td>\n",
              "      <td>0</td>\n",
              "      <td>1</td>\n",
              "      <td>170.0</td>\n",
              "      <td>237.0</td>\n",
              "      <td>0.0</td>\n",
              "      <td>1.0</td>\n",
              "      <td>170.0</td>\n",
              "      <td>0.0</td>\n",
              "      <td>0.0</td>\n",
              "      <td>NaN</td>\n",
              "      <td>NaN</td>\n",
              "      <td>6.0</td>\n",
              "      <td>0</td>\n",
              "    </tr>\n",
              "    <tr>\n",
              "      <th>4</th>\n",
              "      <td>31</td>\n",
              "      <td>0</td>\n",
              "      <td>2</td>\n",
              "      <td>100.0</td>\n",
              "      <td>219.0</td>\n",
              "      <td>0.0</td>\n",
              "      <td>1.0</td>\n",
              "      <td>150.0</td>\n",
              "      <td>0.0</td>\n",
              "      <td>0.0</td>\n",
              "      <td>NaN</td>\n",
              "      <td>NaN</td>\n",
              "      <td>NaN</td>\n",
              "      <td>0</td>\n",
              "    </tr>\n",
              "  </tbody>\n",
              "</table>\n",
              "</div>"
            ],
            "text/plain": [
              "   age  sex  cp  trestbps   chol  fbs  ...  exang  oldpeak  slope  ca  thal  target\n",
              "0   28    1   2     130.0  132.0  0.0  ...    0.0      0.0    NaN NaN   NaN       0\n",
              "1   29    1   2     120.0  243.0  0.0  ...    0.0      0.0    NaN NaN   NaN       0\n",
              "2   29    1   2     140.0    NaN  0.0  ...    0.0      0.0    NaN NaN   NaN       0\n",
              "3   30    0   1     170.0  237.0  0.0  ...    0.0      0.0    NaN NaN   6.0       0\n",
              "4   31    0   2     100.0  219.0  0.0  ...    0.0      0.0    NaN NaN   NaN       0\n",
              "\n",
              "[5 rows x 14 columns]"
            ]
          },
          "metadata": {
            "tags": []
          },
          "execution_count": 12
        }
      ]
    },
    {
      "cell_type": "code",
      "metadata": {
        "id": "c_cmAgzg2Kmo",
        "colab_type": "code",
        "colab": {}
      },
      "source": [
        "data['trestbps']=data['trestbps'].fillna(data['trestbps'].mean())\n",
        "data['chol']=data['chol'].fillna(data['chol'].mean())\n",
        "data['fbs']=data['fbs'].fillna(data['fbs'].mean())\n",
        "data['restecg']=data['restecg'].fillna(data['restecg'].mean())\n",
        "data['thalch']=data['thalch'].fillna(data['thalch'].mean())\n",
        "data['exang']=data['exang'].fillna(data['exang'].mean())\n",
        "data['slope']=data['slope'].fillna(data['slope'].mean())\n",
        "data['ca']=data['ca'].fillna(data['ca'].mean())\n",
        "data['thal']=data['thal'].fillna(data['thal'].mean())"
      ],
      "execution_count": 0,
      "outputs": []
    },
    {
      "cell_type": "code",
      "metadata": {
        "id": "70pFot--2asF",
        "colab_type": "code",
        "outputId": "e3c9f259-2560-4458-9cc0-ad157c499165",
        "colab": {
          "base_uri": "https://localhost:8080/",
          "height": 204
        }
      },
      "source": [
        "data.head()"
      ],
      "execution_count": 40,
      "outputs": [
        {
          "output_type": "execute_result",
          "data": {
            "text/html": [
              "<div>\n",
              "<style scoped>\n",
              "    .dataframe tbody tr th:only-of-type {\n",
              "        vertical-align: middle;\n",
              "    }\n",
              "\n",
              "    .dataframe tbody tr th {\n",
              "        vertical-align: top;\n",
              "    }\n",
              "\n",
              "    .dataframe thead th {\n",
              "        text-align: right;\n",
              "    }\n",
              "</style>\n",
              "<table border=\"1\" class=\"dataframe\">\n",
              "  <thead>\n",
              "    <tr style=\"text-align: right;\">\n",
              "      <th></th>\n",
              "      <th>age</th>\n",
              "      <th>sex</th>\n",
              "      <th>cp</th>\n",
              "      <th>trestbps</th>\n",
              "      <th>chol</th>\n",
              "      <th>fbs</th>\n",
              "      <th>restecg</th>\n",
              "      <th>thalch</th>\n",
              "      <th>exang</th>\n",
              "      <th>oldpeak</th>\n",
              "      <th>slope</th>\n",
              "      <th>ca</th>\n",
              "      <th>thal</th>\n",
              "      <th>target</th>\n",
              "      <th>Age-Group</th>\n",
              "    </tr>\n",
              "  </thead>\n",
              "  <tbody>\n",
              "    <tr>\n",
              "      <th>0</th>\n",
              "      <td>28</td>\n",
              "      <td>1</td>\n",
              "      <td>2</td>\n",
              "      <td>130.0</td>\n",
              "      <td>132.000000</td>\n",
              "      <td>0.0</td>\n",
              "      <td>2.0</td>\n",
              "      <td>185.0</td>\n",
              "      <td>0.0</td>\n",
              "      <td>0.0</td>\n",
              "      <td>1.894231</td>\n",
              "      <td>0.0</td>\n",
              "      <td>5.642857</td>\n",
              "      <td>0</td>\n",
              "      <td>2</td>\n",
              "    </tr>\n",
              "    <tr>\n",
              "      <th>1</th>\n",
              "      <td>29</td>\n",
              "      <td>1</td>\n",
              "      <td>2</td>\n",
              "      <td>120.0</td>\n",
              "      <td>243.000000</td>\n",
              "      <td>0.0</td>\n",
              "      <td>0.0</td>\n",
              "      <td>160.0</td>\n",
              "      <td>0.0</td>\n",
              "      <td>0.0</td>\n",
              "      <td>1.894231</td>\n",
              "      <td>0.0</td>\n",
              "      <td>5.642857</td>\n",
              "      <td>0</td>\n",
              "      <td>0</td>\n",
              "    </tr>\n",
              "    <tr>\n",
              "      <th>2</th>\n",
              "      <td>29</td>\n",
              "      <td>1</td>\n",
              "      <td>2</td>\n",
              "      <td>140.0</td>\n",
              "      <td>250.848708</td>\n",
              "      <td>0.0</td>\n",
              "      <td>0.0</td>\n",
              "      <td>170.0</td>\n",
              "      <td>0.0</td>\n",
              "      <td>0.0</td>\n",
              "      <td>1.894231</td>\n",
              "      <td>0.0</td>\n",
              "      <td>5.642857</td>\n",
              "      <td>0</td>\n",
              "      <td>0</td>\n",
              "    </tr>\n",
              "    <tr>\n",
              "      <th>3</th>\n",
              "      <td>30</td>\n",
              "      <td>0</td>\n",
              "      <td>1</td>\n",
              "      <td>170.0</td>\n",
              "      <td>237.000000</td>\n",
              "      <td>0.0</td>\n",
              "      <td>1.0</td>\n",
              "      <td>170.0</td>\n",
              "      <td>0.0</td>\n",
              "      <td>0.0</td>\n",
              "      <td>1.894231</td>\n",
              "      <td>0.0</td>\n",
              "      <td>6.000000</td>\n",
              "      <td>0</td>\n",
              "      <td>0</td>\n",
              "    </tr>\n",
              "    <tr>\n",
              "      <th>4</th>\n",
              "      <td>31</td>\n",
              "      <td>0</td>\n",
              "      <td>2</td>\n",
              "      <td>100.0</td>\n",
              "      <td>219.000000</td>\n",
              "      <td>0.0</td>\n",
              "      <td>1.0</td>\n",
              "      <td>150.0</td>\n",
              "      <td>0.0</td>\n",
              "      <td>0.0</td>\n",
              "      <td>1.894231</td>\n",
              "      <td>0.0</td>\n",
              "      <td>5.642857</td>\n",
              "      <td>0</td>\n",
              "      <td>0</td>\n",
              "    </tr>\n",
              "  </tbody>\n",
              "</table>\n",
              "</div>"
            ],
            "text/plain": [
              "   age  sex  cp  trestbps  ...   ca      thal  target  Age-Group\n",
              "0   28    1   2     130.0  ...  0.0  5.642857       0          2\n",
              "1   29    1   2     120.0  ...  0.0  5.642857       0          0\n",
              "2   29    1   2     140.0  ...  0.0  5.642857       0          0\n",
              "3   30    0   1     170.0  ...  0.0  6.000000       0          0\n",
              "4   31    0   2     100.0  ...  0.0  5.642857       0          0\n",
              "\n",
              "[5 rows x 15 columns]"
            ]
          },
          "metadata": {
            "tags": []
          },
          "execution_count": 40
        }
      ]
    },
    {
      "cell_type": "code",
      "metadata": {
        "id": "JS7JlwsssSX5",
        "colab_type": "code",
        "colab": {
          "base_uri": "https://localhost:8080/",
          "height": 289
        },
        "outputId": "b77b01c0-87b0-475c-897a-181c48dba54e"
      },
      "source": [
        "data.isnull().sum()"
      ],
      "execution_count": 42,
      "outputs": [
        {
          "output_type": "execute_result",
          "data": {
            "text/plain": [
              "age          0\n",
              "sex          0\n",
              "cp           0\n",
              "trestbps     0\n",
              "chol         0\n",
              "fbs          0\n",
              "restecg      0\n",
              "thalch       0\n",
              "exang        0\n",
              "oldpeak      0\n",
              "slope        0\n",
              "ca           0\n",
              "thal         0\n",
              "target       0\n",
              "Age-Group    0\n",
              "dtype: int64"
            ]
          },
          "metadata": {
            "tags": []
          },
          "execution_count": 42
        }
      ]
    },
    {
      "cell_type": "code",
      "metadata": {
        "colab_type": "code",
        "id": "sIySXb8LoON9",
        "outputId": "0c8dc2fb-ff4b-4e7e-a1f5-b0bfaf078c4e",
        "colab": {
          "base_uri": "https://localhost:8080/",
          "height": 1000
        }
      },
      "source": [
        "plt.figure(figsize=(25, 30))\n",
        "ax = sb.heatmap(data.corr(), annot=True)"
      ],
      "execution_count": 43,
      "outputs": [
        {
          "output_type": "display_data",
          "data": {
            "image/png": "[encoded data removed]",
            "text/plain": [
              "<Figure size 1800x2160 with 2 Axes>"
            ]
          },
          "metadata": {
            "tags": []
          }
        }
      ]
    },
    {
      "cell_type": "code",
      "metadata": {
        "colab_type": "code",
        "id": "ph5lzaT6oQ9z",
        "outputId": "f5a0e1be-8854-4a68-c3fa-637003d84fbe",
        "colab": {
          "base_uri": "https://localhost:8080/",
          "height": 300
        }
      },
      "source": [
        "sb.distplot(data['age'])"
      ],
      "execution_count": 44,
      "outputs": [
        {
          "output_type": "execute_result",
          "data": {
            "text/plain": [
              "<matplotlib.axes._subplots.AxesSubplot at 0x7fde91f0df60>"
            ]
          },
          "metadata": {
            "tags": []
          },
          "execution_count": 44
        },
        {
          "output_type": "display_data",
          "data": {
            "image/png": "[encoded data removed]",
            "text/plain": [
              "<Figure size 432x288 with 1 Axes>"
            ]
          },
          "metadata": {
            "tags": []
          }
        }
      ]
    },
    {
      "cell_type": "code",
      "metadata": {
        "colab_type": "code",
        "id": "dasYnybBoUtR",
        "outputId": "2b065c15-9113-4823-d656-11096f13b14d",
        "colab": {
          "base_uri": "https://localhost:8080/",
          "height": 300
        }
      },
      "source": [
        "sb.boxplot(x=\"target\", y=\"trestbps\", data=data,palette='rainbow')"
      ],
      "execution_count": 45,
      "outputs": [
        {
          "output_type": "execute_result",
          "data": {
            "text/plain": [
              "<matplotlib.axes._subplots.AxesSubplot at 0x7fde8e2dda20>"
            ]
          },
          "metadata": {
            "tags": []
          },
          "execution_count": 45
        },
        {
          "output_type": "display_data",
          "data": {
            "image/png": "[encoded data removed]",
            "text/plain": [
              "<Figure size 432x288 with 1 Axes>"
            ]
          },
          "metadata": {
            "tags": []
          }
        }
      ]
    },
    {
      "cell_type": "code",
      "metadata": {
        "colab_type": "code",
        "id": "tdPmXr5KoX_G",
        "outputId": "fa9c2e1d-3849-4ead-b433-08d53da0242a",
        "colab": {
          "base_uri": "https://localhost:8080/",
          "height": 300
        }
      },
      "source": [
        "sb.countplot(data.target)"
      ],
      "execution_count": 46,
      "outputs": [
        {
          "output_type": "execute_result",
          "data": {
            "text/plain": [
              "<matplotlib.axes._subplots.AxesSubplot at 0x7fde91f0d470>"
            ]
          },
          "metadata": {
            "tags": []
          },
          "execution_count": 46
        },
        {
          "output_type": "display_data",
          "data": {
            "image/png": "[encoded data removed]",
            "text/plain": [
              "<Figure size 432x288 with 1 Axes>"
            ]
          },
          "metadata": {
            "tags": []
          }
        }
      ]
    },
    {
      "cell_type": "markdown",
      "metadata": {
        "colab_type": "text",
        "id": "UH32iwlYbXu6"
      },
      "source": [
        "# Exploratory Data Analysis"
      ]
    },
    {
      "cell_type": "code",
      "metadata": {
        "colab_type": "code",
        "id": "cnQ_Y5jUoa4G",
        "colab": {}
      },
      "source": [
        "from sklearn.linear_model import LogisticRegression"
      ],
      "execution_count": 0,
      "outputs": []
    },
    {
      "cell_type": "code",
      "metadata": {
        "colab_type": "code",
        "id": "Hn_12hWVodhH",
        "colab": {}
      },
      "source": [
        "X= data.iloc[:,0:-1]\n",
        "y=data.iloc[:,-1]"
      ],
      "execution_count": 0,
      "outputs": []
    },
    {
      "cell_type": "code",
      "metadata": {
        "colab_type": "code",
        "id": "ygcYz8tRgE7-",
        "colab": {}
      },
      "source": [
        "y = y.apply(lambda x: 1 if x >= 1 else 0)"
      ],
      "execution_count": 0,
      "outputs": []
    },
    {
      "cell_type": "code",
      "metadata": {
        "colab_type": "code",
        "id": "Iqifr-Abof0C",
        "outputId": "a519a965-1566-4200-b03b-49cfe8dc3b03",
        "colab": {
          "base_uri": "https://localhost:8080/",
          "height": 300
        }
      },
      "source": [
        "sb.violinplot(x=\"target\", y=\"chol\", data=data,palette='rainbow')"
      ],
      "execution_count": 50,
      "outputs": [
        {
          "output_type": "execute_result",
          "data": {
            "text/plain": [
              "<matplotlib.axes._subplots.AxesSubplot at 0x7fde8e38e518>"
            ]
          },
          "metadata": {
            "tags": []
          },
          "execution_count": 50
        },
        {
          "output_type": "display_data",
          "data": {
            "image/png": "[encoded data removed]",
            "text/plain": [
              "<Figure size 432x288 with 1 Axes>"
            ]
          },
          "metadata": {
            "tags": []
          }
        }
      ]
    },
    {
      "cell_type": "code",
      "metadata": {
        "colab_type": "code",
        "id": "gg3Dy-4WojMz",
        "outputId": "29e36e96-cf2b-4989-8d55-0db62be0a749",
        "colab": {
          "base_uri": "https://localhost:8080/",
          "height": 545
        }
      },
      "source": [
        "size = data['sex'].value_counts()\n",
        "colors = ['lightblue', 'lightgreen']\n",
        "labels = \"Male\", \"Female\"\n",
        "explode = [0, 0.01]\n",
        "\n",
        "my_circle = plt.Circle((0, 0), 0.7, color = 'white')\n",
        "\n",
        "plt.rcParams['figure.figsize'] = (9, 9)\n",
        "plt.pie(size, colors = colors, labels = labels, shadow = True, explode = explode, autopct = '%.2f%%')\n",
        "plt.title('Distribution of Gender', fontsize = 20)\n",
        "p = plt.gcf()\n",
        "p.gca().add_artist(my_circle)\n",
        "plt.legend()\n",
        "plt.show()"
      ],
      "execution_count": 51,
      "outputs": [
        {
          "output_type": "display_data",
          "data": {
            "image/png": "[encoded data removed]",
            "text/plain": [
              "<Figure size 648x648 with 1 Axes>"
            ]
          },
          "metadata": {
            "tags": []
          }
        }
      ]
    },
    {
      "cell_type": "code",
      "metadata": {
        "colab_type": "code",
        "id": "jsOANqfVomuN",
        "outputId": "48433ff9-3cce-4f61-cb17-248c935ece7b",
        "colab": {
          "base_uri": "https://localhost:8080/",
          "height": 569
        }
      },
      "source": [
        "plt.rcParams['figure.figsize'] = (12, 9)\n",
        "dat = pd.crosstab(data['target'], data['restecg']) \n",
        "dat.div(dat.sum(1).astype(float), axis = 0).plot(kind = 'bar', \n",
        "                                                 stacked = False, \n",
        "                                                 color = plt.cm.rainbow(np.linspace(0, 1, 4)))\n",
        "plt.title('Relation of ECG measurement with Target', fontsize = 20, fontweight = 30)\n",
        "plt.show()"
      ],
      "execution_count": 52,
      "outputs": [
        {
          "output_type": "display_data",
          "data": {
            "image/png": "[encoded data removed]",
            "text/plain": [
              "<Figure size 864x648 with 1 Axes>"
            ]
          },
          "metadata": {
            "tags": []
          }
        }
      ]
    },
    {
      "cell_type": "code",
      "metadata": {
        "colab_type": "code",
        "id": "uLdoQOM6op86",
        "outputId": "de3557fb-9a6d-4432-f075-f57513a74719",
        "colab": {
          "base_uri": "https://localhost:8080/",
          "height": 572
        }
      },
      "source": [
        "plt.rcParams['figure.figsize'] = (15, 9)\n",
        "sb.swarmplot(data['target'], data['age'], palette = 'winter', size = 10)\n",
        "plt.title('Relation of Age and target', fontsize = 20, fontweight = 30)\n",
        "plt.show()"
      ],
      "execution_count": 53,
      "outputs": [
        {
          "output_type": "display_data",
          "data": {
            "image/png": "[encoded data removed]",
            "text/plain": [
              "<Figure size 1080x648 with 1 Axes>"
            ]
          },
          "metadata": {
            "tags": []
          }
        }
      ]
    },
    {
      "cell_type": "code",
      "metadata": {
        "id": "rAY1CTgA5wF4",
        "colab_type": "code",
        "colab": {}
      },
      "source": [
        "heart_health=[]\n",
        "for k in data['target']:\n",
        "    if k == 0:\n",
        "        heart_health.append('Healthy Heart')\n",
        "    elif k == 1:\n",
        "        heart_health.append('Heart Disease')"
      ],
      "execution_count": 0,
      "outputs": []
    },
    {
      "cell_type": "code",
      "metadata": {
        "id": "e98FU8GY5mE6",
        "colab_type": "code",
        "outputId": "105e8ec1-4e8e-4888-ceb8-c8ce072a3556",
        "colab": {
          "base_uri": "https://localhost:8080/",
          "height": 553
        }
      },
      "source": [
        "ax = sb.countplot(x='sex',hue=heart_health,data=data,palette='mako_r')\n",
        "\n",
        "plt.title(\"Heart-Health Vs Gender\")    \n",
        "plt.ylabel(\"\")\n",
        "plt.yticks([])\n",
        "plt.xlabel(\"\")\n",
        "\n",
        "for p in ax.patches:\n",
        "    ax.annotate(p.get_height(), (p.get_x()+0.15, p.get_height()+1))\n",
        "ax.set_xticklabels(['Female','Male']);"
      ],
      "execution_count": 55,
      "outputs": [
        {
          "output_type": "display_data",
          "data": {
            "image/png": "[encoded data removed]",
            "text/plain": [
              "<Figure size 1080x648 with 1 Axes>"
            ]
          },
          "metadata": {
            "tags": []
          }
        }
      ]
    },
    {
      "cell_type": "code",
      "metadata": {
        "id": "Puvm2i4V6zQG",
        "colab_type": "code",
        "outputId": "0d5f52bc-e8ef-4242-f9e2-3802b3d4af55",
        "colab": {
          "base_uri": "https://localhost:8080/",
          "height": 51
        }
      },
      "source": [
        "f = ((data['sex'] == 0) & (data['target'] == 1)).sum()\n",
        "fd =  (data['target'] == 1).sum()\n",
        "print('Percent of Female having heart disease : {:.2f}%'.format(f/fd * 100))\n",
        "\n",
        "m = ((data['sex'] == 1) & (data['target'] == 1)).sum()\n",
        "md =  (data['target'] == 1).sum()\n",
        "print('Percent of Male having heart disease : {:.2f}%'.format(m/md * 100))"
      ],
      "execution_count": 56,
      "outputs": [
        {
          "output_type": "stream",
          "text": [
            "Percent of Female having heart disease : 11.32%\n",
            "Percent of Male having heart disease : 88.68%\n"
          ],
          "name": "stdout"
        }
      ]
    },
    {
      "cell_type": "code",
      "metadata": {
        "id": "HfSNtq0I7Hjd",
        "colab_type": "code",
        "outputId": "bc657a6e-1f77-4abc-fbcc-d69d9703d6cc",
        "colab": {
          "base_uri": "https://localhost:8080/",
          "height": 553
        }
      },
      "source": [
        "age_group=[]\n",
        "for k in data['age']:\n",
        "    if (k >=29) & (k<40):\n",
        "        age_group.append(0)\n",
        "    elif (k >=40)&(k<55):\n",
        "        age_group.append(1)\n",
        "    else:\n",
        "        age_group.append(2)\n",
        "data['Age-Group'] = age_group\n",
        "plt.title(\"Heart-Health Vs Age group\")\n",
        "ax = sb.countplot(x=age_group,hue=heart_health,palette='bwr')\n",
        "\n",
        "plt.ylabel(\"\")\n",
        "plt.yticks([])\n",
        "plt.xlabel(\"\")\n",
        "for p in ax.patches:\n",
        "    ax.annotate(p.get_height(), (p.get_x()+0.15, p.get_height()+0.5))\n",
        "    \n",
        "ax.set_xticklabels(['Young (29-40)','Mid-Age(40-55)','Old-Age(>55)']);"
      ],
      "execution_count": 57,
      "outputs": [
        {
          "output_type": "display_data",
          "data": {
            "image/png": "[encoded data removed]",
            "text/plain": [
              "<Figure size 1080x648 with 1 Axes>"
            ]
          },
          "metadata": {
            "tags": []
          }
        }
      ]
    },
    {
      "cell_type": "code",
      "metadata": {
        "id": "Xd863ZZa8hOg",
        "colab_type": "code",
        "outputId": "b7f91b87-7d22-4975-d2bb-ca054d3ee18b",
        "colab": {
          "base_uri": "https://localhost:8080/",
          "height": 553
        }
      },
      "source": [
        "bp=[]\n",
        "for k in data['trestbps']:\n",
        "    if (k > 130):\n",
        "        bp.append(1) #high bp\n",
        "    else:\n",
        "        bp.append(0) #normal\n",
        "\n",
        "ax = sb.countplot(x=bp,palette='Set3')\n",
        "\n",
        "plt.title(\"Resting Blood Pressure Count\")\n",
        "plt.ylabel(\"\")\n",
        "plt.yticks([])\n",
        "plt.xlabel(\"\")\n",
        "\n",
        "for p in ax.patches:\n",
        "    ax.annotate(p.get_height(), (p.get_x()+0.35, p.get_height()+0.5))\n",
        "    \n",
        "ax.set_xticklabels([\"Normal BP\",\"Abnormal BP\"]);"
      ],
      "execution_count": 58,
      "outputs": [
        {
          "output_type": "display_data",
          "data": {
            "image/png": "[encoded data removed]",
            "text/plain": [
              "<Figure size 1080x648 with 1 Axes>"
            ]
          },
          "metadata": {
            "tags": []
          }
        }
      ]
    },
    {
      "cell_type": "code",
      "metadata": {
        "colab_type": "code",
        "id": "1LtK1Q_jgmnG",
        "outputId": "352950af-2650-4f99-9e9d-6b1997066713",
        "colab": {
          "base_uri": "https://localhost:8080/",
          "height": 514
        }
      },
      "source": [
        "correlation = data.corr()\n",
        "correlation"
      ],
      "execution_count": 59,
      "outputs": [
        {
          "output_type": "execute_result",
          "data": {
            "text/html": [
              "<div>\n",
              "<style scoped>\n",
              "    .dataframe tbody tr th:only-of-type {\n",
              "        vertical-align: middle;\n",
              "    }\n",
              "\n",
              "    .dataframe tbody tr th {\n",
              "        vertical-align: top;\n",
              "    }\n",
              "\n",
              "    .dataframe thead th {\n",
              "        text-align: right;\n",
              "    }\n",
              "</style>\n",
              "<table border=\"1\" class=\"dataframe\">\n",
              "  <thead>\n",
              "    <tr style=\"text-align: right;\">\n",
              "      <th></th>\n",
              "      <th>age</th>\n",
              "      <th>sex</th>\n",
              "      <th>cp</th>\n",
              "      <th>trestbps</th>\n",
              "      <th>chol</th>\n",
              "      <th>fbs</th>\n",
              "      <th>restecg</th>\n",
              "      <th>thalch</th>\n",
              "      <th>exang</th>\n",
              "      <th>oldpeak</th>\n",
              "      <th>slope</th>\n",
              "      <th>ca</th>\n",
              "      <th>thal</th>\n",
              "      <th>target</th>\n",
              "      <th>Age-Group</th>\n",
              "    </tr>\n",
              "  </thead>\n",
              "  <tbody>\n",
              "    <tr>\n",
              "      <th>age</th>\n",
              "      <td>1.000000</td>\n",
              "      <td>0.013618</td>\n",
              "      <td>0.145826</td>\n",
              "      <td>0.245203</td>\n",
              "      <td>0.087086</td>\n",
              "      <td>0.180466</td>\n",
              "      <td>0.051914</td>\n",
              "      <td>-0.459420</td>\n",
              "      <td>0.238925</td>\n",
              "      <td>0.177707</td>\n",
              "      <td>-0.036577</td>\n",
              "      <td>NaN</td>\n",
              "      <td>0.081856</td>\n",
              "      <td>0.159315</td>\n",
              "      <td>0.837510</td>\n",
              "    </tr>\n",
              "    <tr>\n",
              "      <th>sex</th>\n",
              "      <td>0.013618</td>\n",
              "      <td>1.000000</td>\n",
              "      <td>0.249875</td>\n",
              "      <td>0.088711</td>\n",
              "      <td>0.027571</td>\n",
              "      <td>0.041908</td>\n",
              "      <td>-0.104546</td>\n",
              "      <td>-0.111278</td>\n",
              "      <td>0.154228</td>\n",
              "      <td>0.118931</td>\n",
              "      <td>0.123314</td>\n",
              "      <td>NaN</td>\n",
              "      <td>-0.038887</td>\n",
              "      <td>0.272781</td>\n",
              "      <td>0.027460</td>\n",
              "    </tr>\n",
              "    <tr>\n",
              "      <th>cp</th>\n",
              "      <td>0.145826</td>\n",
              "      <td>0.249875</td>\n",
              "      <td>1.000000</td>\n",
              "      <td>0.085479</td>\n",
              "      <td>0.134472</td>\n",
              "      <td>0.032977</td>\n",
              "      <td>-0.018022</td>\n",
              "      <td>-0.369781</td>\n",
              "      <td>0.493795</td>\n",
              "      <td>0.353109</td>\n",
              "      <td>0.212486</td>\n",
              "      <td>NaN</td>\n",
              "      <td>-0.013395</td>\n",
              "      <td>0.505864</td>\n",
              "      <td>0.087445</td>\n",
              "    </tr>\n",
              "    <tr>\n",
              "      <th>trestbps</th>\n",
              "      <td>0.245203</td>\n",
              "      <td>0.088711</td>\n",
              "      <td>0.085479</td>\n",
              "      <td>1.000000</td>\n",
              "      <td>0.080498</td>\n",
              "      <td>0.094679</td>\n",
              "      <td>0.013850</td>\n",
              "      <td>-0.184961</td>\n",
              "      <td>0.213856</td>\n",
              "      <td>0.205989</td>\n",
              "      <td>0.025236</td>\n",
              "      <td>NaN</td>\n",
              "      <td>0.064089</td>\n",
              "      <td>0.139582</td>\n",
              "      <td>0.211454</td>\n",
              "    </tr>\n",
              "    <tr>\n",
              "      <th>chol</th>\n",
              "      <td>0.087086</td>\n",
              "      <td>0.027571</td>\n",
              "      <td>0.134472</td>\n",
              "      <td>0.080498</td>\n",
              "      <td>1.000000</td>\n",
              "      <td>0.114029</td>\n",
              "      <td>0.049231</td>\n",
              "      <td>-0.121849</td>\n",
              "      <td>0.163086</td>\n",
              "      <td>0.106714</td>\n",
              "      <td>0.073348</td>\n",
              "      <td>NaN</td>\n",
              "      <td>-0.032457</td>\n",
              "      <td>0.202372</td>\n",
              "      <td>0.085094</td>\n",
              "    </tr>\n",
              "    <tr>\n",
              "      <th>fbs</th>\n",
              "      <td>0.180466</td>\n",
              "      <td>0.041908</td>\n",
              "      <td>0.032977</td>\n",
              "      <td>0.094679</td>\n",
              "      <td>0.114029</td>\n",
              "      <td>1.000000</td>\n",
              "      <td>0.048551</td>\n",
              "      <td>-0.071120</td>\n",
              "      <td>0.114720</td>\n",
              "      <td>0.062027</td>\n",
              "      <td>0.133041</td>\n",
              "      <td>NaN</td>\n",
              "      <td>0.050675</td>\n",
              "      <td>0.161294</td>\n",
              "      <td>0.186781</td>\n",
              "    </tr>\n",
              "    <tr>\n",
              "      <th>restecg</th>\n",
              "      <td>0.051914</td>\n",
              "      <td>-0.104546</td>\n",
              "      <td>-0.018022</td>\n",
              "      <td>0.013850</td>\n",
              "      <td>0.049231</td>\n",
              "      <td>0.048551</td>\n",
              "      <td>1.000000</td>\n",
              "      <td>0.004456</td>\n",
              "      <td>0.045120</td>\n",
              "      <td>0.042163</td>\n",
              "      <td>-0.017034</td>\n",
              "      <td>NaN</td>\n",
              "      <td>-0.048634</td>\n",
              "      <td>-0.029846</td>\n",
              "      <td>0.139017</td>\n",
              "    </tr>\n",
              "    <tr>\n",
              "      <th>thalch</th>\n",
              "      <td>-0.459420</td>\n",
              "      <td>-0.111278</td>\n",
              "      <td>-0.369781</td>\n",
              "      <td>-0.184961</td>\n",
              "      <td>-0.121849</td>\n",
              "      <td>-0.071120</td>\n",
              "      <td>0.004456</td>\n",
              "      <td>1.000000</td>\n",
              "      <td>-0.401980</td>\n",
              "      <td>-0.301768</td>\n",
              "      <td>-0.095479</td>\n",
              "      <td>NaN</td>\n",
              "      <td>-0.140264</td>\n",
              "      <td>-0.331074</td>\n",
              "      <td>-0.351843</td>\n",
              "    </tr>\n",
              "    <tr>\n",
              "      <th>exang</th>\n",
              "      <td>0.238925</td>\n",
              "      <td>0.154228</td>\n",
              "      <td>0.493795</td>\n",
              "      <td>0.213856</td>\n",
              "      <td>0.163086</td>\n",
              "      <td>0.114720</td>\n",
              "      <td>0.045120</td>\n",
              "      <td>-0.401980</td>\n",
              "      <td>1.000000</td>\n",
              "      <td>0.629482</td>\n",
              "      <td>0.245955</td>\n",
              "      <td>NaN</td>\n",
              "      <td>0.059468</td>\n",
              "      <td>0.583285</td>\n",
              "      <td>0.200900</td>\n",
              "    </tr>\n",
              "    <tr>\n",
              "      <th>oldpeak</th>\n",
              "      <td>0.177707</td>\n",
              "      <td>0.118931</td>\n",
              "      <td>0.353109</td>\n",
              "      <td>0.205989</td>\n",
              "      <td>0.106714</td>\n",
              "      <td>0.062027</td>\n",
              "      <td>0.042163</td>\n",
              "      <td>-0.301768</td>\n",
              "      <td>0.629482</td>\n",
              "      <td>1.000000</td>\n",
              "      <td>0.061688</td>\n",
              "      <td>NaN</td>\n",
              "      <td>0.028456</td>\n",
              "      <td>0.545700</td>\n",
              "      <td>0.135683</td>\n",
              "    </tr>\n",
              "    <tr>\n",
              "      <th>slope</th>\n",
              "      <td>-0.036577</td>\n",
              "      <td>0.123314</td>\n",
              "      <td>0.212486</td>\n",
              "      <td>0.025236</td>\n",
              "      <td>0.073348</td>\n",
              "      <td>0.133041</td>\n",
              "      <td>-0.017034</td>\n",
              "      <td>-0.095479</td>\n",
              "      <td>0.245955</td>\n",
              "      <td>0.061688</td>\n",
              "      <td>1.000000</td>\n",
              "      <td>NaN</td>\n",
              "      <td>-0.016295</td>\n",
              "      <td>0.307896</td>\n",
              "      <td>0.028008</td>\n",
              "    </tr>\n",
              "    <tr>\n",
              "      <th>ca</th>\n",
              "      <td>NaN</td>\n",
              "      <td>NaN</td>\n",
              "      <td>NaN</td>\n",
              "      <td>NaN</td>\n",
              "      <td>NaN</td>\n",
              "      <td>NaN</td>\n",
              "      <td>NaN</td>\n",
              "      <td>NaN</td>\n",
              "      <td>NaN</td>\n",
              "      <td>NaN</td>\n",
              "      <td>NaN</td>\n",
              "      <td>NaN</td>\n",
              "      <td>NaN</td>\n",
              "      <td>NaN</td>\n",
              "      <td>NaN</td>\n",
              "    </tr>\n",
              "    <tr>\n",
              "      <th>thal</th>\n",
              "      <td>0.081856</td>\n",
              "      <td>-0.038887</td>\n",
              "      <td>-0.013395</td>\n",
              "      <td>0.064089</td>\n",
              "      <td>-0.032457</td>\n",
              "      <td>0.050675</td>\n",
              "      <td>-0.048634</td>\n",
              "      <td>-0.140264</td>\n",
              "      <td>0.059468</td>\n",
              "      <td>0.028456</td>\n",
              "      <td>-0.016295</td>\n",
              "      <td>NaN</td>\n",
              "      <td>1.000000</td>\n",
              "      <td>0.168510</td>\n",
              "      <td>0.095855</td>\n",
              "    </tr>\n",
              "    <tr>\n",
              "      <th>target</th>\n",
              "      <td>0.159315</td>\n",
              "      <td>0.272781</td>\n",
              "      <td>0.505864</td>\n",
              "      <td>0.139582</td>\n",
              "      <td>0.202372</td>\n",
              "      <td>0.161294</td>\n",
              "      <td>-0.029846</td>\n",
              "      <td>-0.331074</td>\n",
              "      <td>0.583285</td>\n",
              "      <td>0.545700</td>\n",
              "      <td>0.307896</td>\n",
              "      <td>NaN</td>\n",
              "      <td>0.168510</td>\n",
              "      <td>1.000000</td>\n",
              "      <td>0.128858</td>\n",
              "    </tr>\n",
              "    <tr>\n",
              "      <th>Age-Group</th>\n",
              "      <td>0.837510</td>\n",
              "      <td>0.027460</td>\n",
              "      <td>0.087445</td>\n",
              "      <td>0.211454</td>\n",
              "      <td>0.085094</td>\n",
              "      <td>0.186781</td>\n",
              "      <td>0.139017</td>\n",
              "      <td>-0.351843</td>\n",
              "      <td>0.200900</td>\n",
              "      <td>0.135683</td>\n",
              "      <td>0.028008</td>\n",
              "      <td>NaN</td>\n",
              "      <td>0.095855</td>\n",
              "      <td>0.128858</td>\n",
              "      <td>1.000000</td>\n",
              "    </tr>\n",
              "  </tbody>\n",
              "</table>\n",
              "</div>"
            ],
            "text/plain": [
              "                age       sex        cp  ...      thal    target  Age-Group\n",
              "age        1.000000  0.013618  0.145826  ...  0.081856  0.159315   0.837510\n",
              "sex        0.013618  1.000000  0.249875  ... -0.038887  0.272781   0.027460\n",
              "cp         0.145826  0.249875  1.000000  ... -0.013395  0.505864   0.087445\n",
              "trestbps   0.245203  0.088711  0.085479  ...  0.064089  0.139582   0.211454\n",
              "chol       0.087086  0.027571  0.134472  ... -0.032457  0.202372   0.085094\n",
              "fbs        0.180466  0.041908  0.032977  ...  0.050675  0.161294   0.186781\n",
              "restecg    0.051914 -0.104546 -0.018022  ... -0.048634 -0.029846   0.139017\n",
              "thalch    -0.459420 -0.111278 -0.369781  ... -0.140264 -0.331074  -0.351843\n",
              "exang      0.238925  0.154228  0.493795  ...  0.059468  0.583285   0.200900\n",
              "oldpeak    0.177707  0.118931  0.353109  ...  0.028456  0.545700   0.135683\n",
              "slope     -0.036577  0.123314  0.212486  ... -0.016295  0.307896   0.028008\n",
              "ca              NaN       NaN       NaN  ...       NaN       NaN        NaN\n",
              "thal       0.081856 -0.038887 -0.013395  ...  1.000000  0.168510   0.095855\n",
              "target     0.159315  0.272781  0.505864  ...  0.168510  1.000000   0.128858\n",
              "Age-Group  0.837510  0.027460  0.087445  ...  0.095855  0.128858   1.000000\n",
              "\n",
              "[15 rows x 15 columns]"
            ]
          },
          "metadata": {
            "tags": []
          },
          "execution_count": 59
        }
      ]
    },
    {
      "cell_type": "code",
      "metadata": {
        "colab_type": "code",
        "id": "OYvWWi9aa9Hi",
        "outputId": "83ab9552-b06d-4b3b-a861-d96b1f3d2101",
        "colab": {
          "base_uri": "https://localhost:8080/",
          "height": 506
        }
      },
      "source": [
        "import matplotlib.pyplot as plt\n",
        "from sklearn.preprocessing import StandardScaler\n",
        "from matplotlib import rc\n",
        "%matplotlib inline\n",
        "Not_Having_Disease = len(data[data.target == 0])\n",
        "Having_Disease =len(data[data.target == 1])+len(data[data.target == 2])+\\\n",
        "len(data[data.target == 3])+len(data[data.target == 4])\n",
        "rc('font', weight='bold')\n",
        "labels = ['Not_Having_Disease', 'Having_Disease']\n",
        "values = [Not_Having_Disease, Having_Disease]\n",
        "explode = (0.1, 0.1)\n",
        "\n",
        "fig_Disease_Level_percentage, ax1 = plt.subplots()\n",
        "plt.title('Heart Disease Levels Percentages\\n\\n')\n",
        "ax1.pie(values,labels=labels, autopct='%1.2f%%',shadow=True)\n",
        "ax1.axis('equal')\n",
        "plt.title('Heart DiseaseLevels Percentages')\n",
        "fig_Disease_Level_percentage, ax = plt.subplots()\n",
        "ax.pie(values,explode=explode ,labels=labels, autopct='%1.2f%%',shadow=True)\n",
        "ax.axis('equal')\n",
        "plt.show()"
      ],
      "execution_count": 60,
      "outputs": [
        {
          "output_type": "display_data",
          "data": {
            "image/png": "[encoded data removed]",
            "text/plain": [
              "<Figure size 432x288 with 1 Axes>"
            ]
          },
          "metadata": {
            "tags": []
          }
        },
        {
          "output_type": "display_data",
          "data": {
            "image/png": "[encoded data removed]",
            "text/plain": [
              "<Figure size 432x288 with 1 Axes>"
            ]
          },
          "metadata": {
            "tags": []
          }
        }
      ]
    },
    {
      "cell_type": "code",
      "metadata": {
        "colab_type": "code",
        "id": "uFXxEC8LotjA",
        "colab": {}
      },
      "source": [
        "from sklearn.model_selection import train_test_split\n",
        "X_train, X_test, y_train, y_test =train_test_split(X,y, test_size=0.30, random_state=30)"
      ],
      "execution_count": 0,
      "outputs": []
    },
    {
      "cell_type": "code",
      "metadata": {
        "colab_type": "code",
        "id": "cg2CzIcDcZfA",
        "colab": {}
      },
      "source": [
        "stdScalaer=StandardScaler()\n",
        "X_train=stdScalaer.fit_transform(X_train)\n",
        "X_test=stdScalaer.fit_transform(X_test)"
      ],
      "execution_count": 0,
      "outputs": []
    },
    {
      "cell_type": "markdown",
      "metadata": {
        "colab_type": "text",
        "id": "ZxjbuOpecK5N"
      },
      "source": [
        "# Logistic Regression"
      ]
    },
    {
      "cell_type": "code",
      "metadata": {
        "colab_type": "code",
        "id": "HVWHtGxccNtI",
        "colab": {}
      },
      "source": [
        "model_lr=LogisticRegression(penalty='l1',C=1.0)"
      ],
      "execution_count": 0,
      "outputs": []
    },
    {
      "cell_type": "code",
      "metadata": {
        "colab_type": "code",
        "id": "Vj-woS16cRCr",
        "outputId": "7a2eacf6-db4a-417f-9b54-1538090c7a0e",
        "colab": {
          "base_uri": "https://localhost:8080/",
          "height": 136
        }
      },
      "source": [
        "model_lr.fit(X_train,y_train)"
      ],
      "execution_count": 64,
      "outputs": [
        {
          "output_type": "stream",
          "text": [
            "/usr/local/lib/python3.6/dist-packages/sklearn/linear_model/logistic.py:432: FutureWarning: Default solver will be changed to 'lbfgs' in 0.22. Specify a solver to silence this warning.\n",
            "  FutureWarning)\n"
          ],
          "name": "stderr"
        },
        {
          "output_type": "execute_result",
          "data": {
            "text/plain": [
              "LogisticRegression(C=1.0, class_weight=None, dual=False, fit_intercept=True,\n",
              "                   intercept_scaling=1, l1_ratio=None, max_iter=100,\n",
              "                   multi_class='warn', n_jobs=None, penalty='l1',\n",
              "                   random_state=None, solver='warn', tol=0.0001, verbose=0,\n",
              "                   warm_start=False)"
            ]
          },
          "metadata": {
            "tags": []
          },
          "execution_count": 64
        }
      ]
    },
    {
      "cell_type": "code",
      "metadata": {
        "colab_type": "code",
        "id": "zIQzh5AGcULt",
        "colab": {}
      },
      "source": [
        "predict_lr=model_lr.predict(X_test)"
      ],
      "execution_count": 0,
      "outputs": []
    },
    {
      "cell_type": "code",
      "metadata": {
        "colab_type": "code",
        "id": "pqQ_aB5JYA1E",
        "colab": {
          "base_uri": "https://localhost:8080/",
          "height": 34
        },
        "outputId": "90e47a1a-80f1-4925-e579-10036f45b989"
      },
      "source": [
        "from sklearn.metrics import accuracy_score, classification_report, confusion_matrix, roc_curve, auc\n",
        "accuracy_score(y_test, predict_lr)"
      ],
      "execution_count": 66,
      "outputs": [
        {
          "output_type": "execute_result",
          "data": {
            "text/plain": [
              "0.898876404494382"
            ]
          },
          "metadata": {
            "tags": []
          },
          "execution_count": 66
        }
      ]
    },
    {
      "cell_type": "code",
      "metadata": {
        "colab_type": "code",
        "id": "BzumZTqAcYKJ",
        "colab": {
          "base_uri": "https://localhost:8080/",
          "height": 340
        },
        "outputId": "65c690e5-83bb-4555-eee7-60123fc8fa65"
      },
      "source": [
        "\n",
        "cm = confusion_matrix(y_test, predict_lr)\n",
        "plt.rcParams['figure.figsize'] = (5, 5)\n",
        "sb.heatmap(cm, annot = True, annot_kws = {'size':15}, cmap = 'PuBu')"
      ],
      "execution_count": 67,
      "outputs": [
        {
          "output_type": "execute_result",
          "data": {
            "text/plain": [
              "<matplotlib.axes._subplots.AxesSubplot at 0x7fde8dea72b0>"
            ]
          },
          "metadata": {
            "tags": []
          },
          "execution_count": 67
        },
        {
          "output_type": "display_data",
          "data": {
            "image/png": "[encoded data removed]",
            "text/plain": [
              "<Figure size 360x360 with 2 Axes>"
            ]
          },
          "metadata": {
            "tags": []
          }
        }
      ]
    },
    {
      "cell_type": "code",
      "metadata": {
        "colab_type": "code",
        "id": "87i1qL0scimk",
        "colab": {
          "base_uri": "https://localhost:8080/",
          "height": 51
        },
        "outputId": "ee91fcbd-cf6a-4781-9498-259940b9a9e6"
      },
      "source": [
        "total=sum(sum(cm))\n",
        "\n",
        "sensitivity = cm[0,0]/(cm[0,0]+cm[0,1])\n",
        "print('Sensitivity : ', sensitivity )\n",
        "\n",
        "specificity = cm[1,1]/(cm[1,0]+cm[1,1])\n",
        "print('Specificity : ', specificity)"
      ],
      "execution_count": 68,
      "outputs": [
        {
          "output_type": "stream",
          "text": [
            "Sensitivity :  0.5714285714285714\n",
            "Specificity :  1.0\n"
          ],
          "name": "stdout"
        }
      ]
    },
    {
      "cell_type": "code",
      "metadata": {
        "colab_type": "code",
        "id": "03cyP7wgcmY7",
        "colab": {
          "base_uri": "https://localhost:8080/",
          "height": 350
        },
        "outputId": "22a6baea-4b48-4a65-c385-b20da3623ede"
      },
      "source": [
        "from sklearn.metrics import roc_curve\n",
        "\n",
        "fpr, tpr, thresholds = roc_curve(y_test, predict_lr)\n",
        "\n",
        "fig, ax = plt.subplots()\n",
        "ax.plot(fpr, tpr)\n",
        "ax.plot([0, 1], [0, 1], transform=ax.transAxes, ls=\"-\", c=\".3\")\n",
        "plt.xlim([0.0, 1.0])\n",
        "plt.ylim([0.0, 1.0])\n",
        "\n",
        "plt.rcParams['figure.figsize'] = (15, 5)\n",
        "plt.title('ROC curve for Blood Pressure classifier', fontweight = 30)\n",
        "plt.xlabel('False Positive Rate (1 - Specificity)')\n",
        "plt.ylabel('True Positive Rate (Sensitivity)')\n",
        "plt.show()"
      ],
      "execution_count": 69,
      "outputs": [
        {
          "output_type": "display_data",
          "data": {
            "image/png": "[encoded data removed]",
            "text/plain": [
              "<Figure size 360x360 with 1 Axes>"
            ]
          },
          "metadata": {
            "tags": []
          }
        }
      ]
    },
    {
      "cell_type": "code",
      "metadata": {
        "colab_type": "code",
        "id": "-UGWMxlxvKRT",
        "colab": {
          "base_uri": "https://localhost:8080/",
          "height": 1000
        },
        "outputId": "0420cc3d-7dfd-4ad3-a94c-7be4756023ac"
      },
      "source": [
        "#Hyperparameter tuning for Logistic Regression\n",
        "from sklearn.model_selection import GridSearchCV\n",
        "penalty = ['l1', 'l2']\n",
        "C = np.logspace(0, 4, 10)\n",
        "hyperparameters = dict(C=C, penalty=penalty)\n",
        "h_logmodel = GridSearchCV(model_lr, hyperparameters, cv=5, verbose=0)\n",
        "best_logmodel=h_logmodel.fit(X,y)\n",
        "print('Best Penalty:', best_logmodel.best_estimator_.get_params()['penalty'])\n",
        "print('Best C:', best_logmodel.best_estimator_.get_params()['C'])"
      ],
      "execution_count": 70,
      "outputs": [
        {
          "output_type": "stream",
          "text": [
            "/usr/local/lib/python3.6/dist-packages/sklearn/linear_model/logistic.py:432: FutureWarning: Default solver will be changed to 'lbfgs' in 0.22. Specify a solver to silence this warning.\n",
            "  FutureWarning)\n",
            "/usr/local/lib/python3.6/dist-packages/sklearn/linear_model/logistic.py:432: FutureWarning: Default solver will be changed to 'lbfgs' in 0.22. Specify a solver to silence this warning.\n",
            "  FutureWarning)\n",
            "/usr/local/lib/python3.6/dist-packages/sklearn/linear_model/logistic.py:432: FutureWarning: Default solver will be changed to 'lbfgs' in 0.22. Specify a solver to silence this warning.\n",
            "  FutureWarning)\n",
            "/usr/local/lib/python3.6/dist-packages/sklearn/linear_model/logistic.py:432: FutureWarning: Default solver will be changed to 'lbfgs' in 0.22. Specify a solver to silence this warning.\n",
            "  FutureWarning)\n",
            "/usr/local/lib/python3.6/dist-packages/sklearn/linear_model/logistic.py:432: FutureWarning: Default solver will be changed to 'lbfgs' in 0.22. Specify a solver to silence this warning.\n",
            "  FutureWarning)\n",
            "/usr/local/lib/python3.6/dist-packages/sklearn/linear_model/logistic.py:432: FutureWarning: Default solver will be changed to 'lbfgs' in 0.22. Specify a solver to silence this warning.\n",
            "  FutureWarning)\n",
            "/usr/local/lib/python3.6/dist-packages/sklearn/linear_model/logistic.py:432: FutureWarning: Default solver will be changed to 'lbfgs' in 0.22. Specify a solver to silence this warning.\n",
            "  FutureWarning)\n",
            "/usr/local/lib/python3.6/dist-packages/sklearn/linear_model/logistic.py:432: FutureWarning: Default solver will be changed to 'lbfgs' in 0.22. Specify a solver to silence this warning.\n",
            "  FutureWarning)\n",
            "/usr/local/lib/python3.6/dist-packages/sklearn/linear_model/logistic.py:432: FutureWarning: Default solver will be changed to 'lbfgs' in 0.22. Specify a solver to silence this warning.\n",
            "  FutureWarning)\n",
            "/usr/local/lib/python3.6/dist-packages/sklearn/linear_model/logistic.py:432: FutureWarning: Default solver will be changed to 'lbfgs' in 0.22. Specify a solver to silence this warning.\n",
            "  FutureWarning)\n",
            "/usr/local/lib/python3.6/dist-packages/sklearn/linear_model/logistic.py:432: FutureWarning: Default solver will be changed to 'lbfgs' in 0.22. Specify a solver to silence this warning.\n",
            "  FutureWarning)\n",
            "/usr/local/lib/python3.6/dist-packages/sklearn/linear_model/logistic.py:432: FutureWarning: Default solver will be changed to 'lbfgs' in 0.22. Specify a solver to silence this warning.\n",
            "  FutureWarning)\n",
            "/usr/local/lib/python3.6/dist-packages/sklearn/linear_model/logistic.py:432: FutureWarning: Default solver will be changed to 'lbfgs' in 0.22. Specify a solver to silence this warning.\n",
            "  FutureWarning)\n",
            "/usr/local/lib/python3.6/dist-packages/sklearn/linear_model/logistic.py:432: FutureWarning: Default solver will be changed to 'lbfgs' in 0.22. Specify a solver to silence this warning.\n",
            "  FutureWarning)\n",
            "/usr/local/lib/python3.6/dist-packages/sklearn/linear_model/logistic.py:432: FutureWarning: Default solver will be changed to 'lbfgs' in 0.22. Specify a solver to silence this warning.\n",
            "  FutureWarning)\n",
            "/usr/local/lib/python3.6/dist-packages/sklearn/linear_model/logistic.py:432: FutureWarning: Default solver will be changed to 'lbfgs' in 0.22. Specify a solver to silence this warning.\n",
            "  FutureWarning)\n",
            "/usr/local/lib/python3.6/dist-packages/sklearn/linear_model/logistic.py:432: FutureWarning: Default solver will be changed to 'lbfgs' in 0.22. Specify a solver to silence this warning.\n",
            "  FutureWarning)\n",
            "/usr/local/lib/python3.6/dist-packages/sklearn/linear_model/logistic.py:432: FutureWarning: Default solver will be changed to 'lbfgs' in 0.22. Specify a solver to silence this warning.\n",
            "  FutureWarning)\n",
            "/usr/local/lib/python3.6/dist-packages/sklearn/linear_model/logistic.py:432: FutureWarning: Default solver will be changed to 'lbfgs' in 0.22. Specify a solver to silence this warning.\n",
            "  FutureWarning)\n",
            "/usr/local/lib/python3.6/dist-packages/sklearn/linear_model/logistic.py:432: FutureWarning: Default solver will be changed to 'lbfgs' in 0.22. Specify a solver to silence this warning.\n",
            "  FutureWarning)\n",
            "/usr/local/lib/python3.6/dist-packages/sklearn/linear_model/logistic.py:432: FutureWarning: Default solver will be changed to 'lbfgs' in 0.22. Specify a solver to silence this warning.\n",
            "  FutureWarning)\n",
            "/usr/local/lib/python3.6/dist-packages/sklearn/linear_model/logistic.py:432: FutureWarning: Default solver will be changed to 'lbfgs' in 0.22. Specify a solver to silence this warning.\n",
            "  FutureWarning)\n",
            "/usr/local/lib/python3.6/dist-packages/sklearn/linear_model/logistic.py:432: FutureWarning: Default solver will be changed to 'lbfgs' in 0.22. Specify a solver to silence this warning.\n",
            "  FutureWarning)\n",
            "/usr/local/lib/python3.6/dist-packages/sklearn/linear_model/logistic.py:432: FutureWarning: Default solver will be changed to 'lbfgs' in 0.22. Specify a solver to silence this warning.\n",
            "  FutureWarning)\n",
            "/usr/local/lib/python3.6/dist-packages/sklearn/linear_model/logistic.py:432: FutureWarning: Default solver will be changed to 'lbfgs' in 0.22. Specify a solver to silence this warning.\n",
            "  FutureWarning)\n",
            "/usr/local/lib/python3.6/dist-packages/sklearn/linear_model/logistic.py:432: FutureWarning: Default solver will be changed to 'lbfgs' in 0.22. Specify a solver to silence this warning.\n",
            "  FutureWarning)\n",
            "/usr/local/lib/python3.6/dist-packages/sklearn/linear_model/logistic.py:432: FutureWarning: Default solver will be changed to 'lbfgs' in 0.22. Specify a solver to silence this warning.\n",
            "  FutureWarning)\n",
            "/usr/local/lib/python3.6/dist-packages/sklearn/linear_model/logistic.py:432: FutureWarning: Default solver will be changed to 'lbfgs' in 0.22. Specify a solver to silence this warning.\n",
            "  FutureWarning)\n",
            "/usr/local/lib/python3.6/dist-packages/sklearn/linear_model/logistic.py:432: FutureWarning: Default solver will be changed to 'lbfgs' in 0.22. Specify a solver to silence this warning.\n",
            "  FutureWarning)\n",
            "/usr/local/lib/python3.6/dist-packages/sklearn/linear_model/logistic.py:432: FutureWarning: Default solver will be changed to 'lbfgs' in 0.22. Specify a solver to silence this warning.\n",
            "  FutureWarning)\n",
            "/usr/local/lib/python3.6/dist-packages/sklearn/linear_model/logistic.py:432: FutureWarning: Default solver will be changed to 'lbfgs' in 0.22. Specify a solver to silence this warning.\n",
            "  FutureWarning)\n",
            "/usr/local/lib/python3.6/dist-packages/sklearn/linear_model/logistic.py:432: FutureWarning: Default solver will be changed to 'lbfgs' in 0.22. Specify a solver to silence this warning.\n",
            "  FutureWarning)\n",
            "/usr/local/lib/python3.6/dist-packages/sklearn/linear_model/logistic.py:432: FutureWarning: Default solver will be changed to 'lbfgs' in 0.22. Specify a solver to silence this warning.\n",
            "  FutureWarning)\n",
            "/usr/local/lib/python3.6/dist-packages/sklearn/linear_model/logistic.py:432: FutureWarning: Default solver will be changed to 'lbfgs' in 0.22. Specify a solver to silence this warning.\n",
            "  FutureWarning)\n",
            "/usr/local/lib/python3.6/dist-packages/sklearn/linear_model/logistic.py:432: FutureWarning: Default solver will be changed to 'lbfgs' in 0.22. Specify a solver to silence this warning.\n",
            "  FutureWarning)\n",
            "/usr/local/lib/python3.6/dist-packages/sklearn/linear_model/logistic.py:432: FutureWarning: Default solver will be changed to 'lbfgs' in 0.22. Specify a solver to silence this warning.\n",
            "  FutureWarning)\n",
            "/usr/local/lib/python3.6/dist-packages/sklearn/linear_model/logistic.py:432: FutureWarning: Default solver will be changed to 'lbfgs' in 0.22. Specify a solver to silence this warning.\n",
            "  FutureWarning)\n",
            "/usr/local/lib/python3.6/dist-packages/sklearn/linear_model/logistic.py:432: FutureWarning: Default solver will be changed to 'lbfgs' in 0.22. Specify a solver to silence this warning.\n",
            "  FutureWarning)\n",
            "/usr/local/lib/python3.6/dist-packages/sklearn/linear_model/logistic.py:432: FutureWarning: Default solver will be changed to 'lbfgs' in 0.22. Specify a solver to silence this warning.\n",
            "  FutureWarning)\n",
            "/usr/local/lib/python3.6/dist-packages/sklearn/linear_model/logistic.py:432: FutureWarning: Default solver will be changed to 'lbfgs' in 0.22. Specify a solver to silence this warning.\n",
            "  FutureWarning)\n",
            "/usr/local/lib/python3.6/dist-packages/sklearn/linear_model/logistic.py:432: FutureWarning: Default solver will be changed to 'lbfgs' in 0.22. Specify a solver to silence this warning.\n",
            "  FutureWarning)\n",
            "/usr/local/lib/python3.6/dist-packages/sklearn/linear_model/logistic.py:432: FutureWarning: Default solver will be changed to 'lbfgs' in 0.22. Specify a solver to silence this warning.\n",
            "  FutureWarning)\n",
            "/usr/local/lib/python3.6/dist-packages/sklearn/linear_model/logistic.py:432: FutureWarning: Default solver will be changed to 'lbfgs' in 0.22. Specify a solver to silence this warning.\n",
            "  FutureWarning)\n",
            "/usr/local/lib/python3.6/dist-packages/sklearn/linear_model/logistic.py:432: FutureWarning: Default solver will be changed to 'lbfgs' in 0.22. Specify a solver to silence this warning.\n",
            "  FutureWarning)\n",
            "/usr/local/lib/python3.6/dist-packages/sklearn/linear_model/logistic.py:432: FutureWarning: Default solver will be changed to 'lbfgs' in 0.22. Specify a solver to silence this warning.\n",
            "  FutureWarning)\n",
            "/usr/local/lib/python3.6/dist-packages/sklearn/linear_model/logistic.py:432: FutureWarning: Default solver will be changed to 'lbfgs' in 0.22. Specify a solver to silence this warning.\n",
            "  FutureWarning)\n",
            "/usr/local/lib/python3.6/dist-packages/sklearn/linear_model/logistic.py:432: FutureWarning: Default solver will be changed to 'lbfgs' in 0.22. Specify a solver to silence this warning.\n",
            "  FutureWarning)\n",
            "/usr/local/lib/python3.6/dist-packages/sklearn/linear_model/logistic.py:432: FutureWarning: Default solver will be changed to 'lbfgs' in 0.22. Specify a solver to silence this warning.\n",
            "  FutureWarning)\n",
            "/usr/local/lib/python3.6/dist-packages/sklearn/linear_model/logistic.py:432: FutureWarning: Default solver will be changed to 'lbfgs' in 0.22. Specify a solver to silence this warning.\n",
            "  FutureWarning)\n",
            "/usr/local/lib/python3.6/dist-packages/sklearn/linear_model/logistic.py:432: FutureWarning: Default solver will be changed to 'lbfgs' in 0.22. Specify a solver to silence this warning.\n",
            "  FutureWarning)\n",
            "/usr/local/lib/python3.6/dist-packages/sklearn/linear_model/logistic.py:432: FutureWarning: Default solver will be changed to 'lbfgs' in 0.22. Specify a solver to silence this warning.\n",
            "  FutureWarning)\n",
            "/usr/local/lib/python3.6/dist-packages/sklearn/linear_model/logistic.py:432: FutureWarning: Default solver will be changed to 'lbfgs' in 0.22. Specify a solver to silence this warning.\n",
            "  FutureWarning)\n",
            "/usr/local/lib/python3.6/dist-packages/sklearn/linear_model/logistic.py:432: FutureWarning: Default solver will be changed to 'lbfgs' in 0.22. Specify a solver to silence this warning.\n",
            "  FutureWarning)\n",
            "/usr/local/lib/python3.6/dist-packages/sklearn/linear_model/logistic.py:432: FutureWarning: Default solver will be changed to 'lbfgs' in 0.22. Specify a solver to silence this warning.\n",
            "  FutureWarning)\n",
            "/usr/local/lib/python3.6/dist-packages/sklearn/linear_model/logistic.py:432: FutureWarning: Default solver will be changed to 'lbfgs' in 0.22. Specify a solver to silence this warning.\n",
            "  FutureWarning)\n",
            "/usr/local/lib/python3.6/dist-packages/sklearn/linear_model/logistic.py:432: FutureWarning: Default solver will be changed to 'lbfgs' in 0.22. Specify a solver to silence this warning.\n",
            "  FutureWarning)\n",
            "/usr/local/lib/python3.6/dist-packages/sklearn/linear_model/logistic.py:432: FutureWarning: Default solver will be changed to 'lbfgs' in 0.22. Specify a solver to silence this warning.\n",
            "  FutureWarning)\n",
            "/usr/local/lib/python3.6/dist-packages/sklearn/linear_model/logistic.py:432: FutureWarning: Default solver will be changed to 'lbfgs' in 0.22. Specify a solver to silence this warning.\n",
            "  FutureWarning)\n",
            "/usr/local/lib/python3.6/dist-packages/sklearn/linear_model/logistic.py:432: FutureWarning: Default solver will be changed to 'lbfgs' in 0.22. Specify a solver to silence this warning.\n",
            "  FutureWarning)\n",
            "/usr/local/lib/python3.6/dist-packages/sklearn/linear_model/logistic.py:432: FutureWarning: Default solver will be changed to 'lbfgs' in 0.22. Specify a solver to silence this warning.\n",
            "  FutureWarning)\n",
            "/usr/local/lib/python3.6/dist-packages/sklearn/linear_model/logistic.py:432: FutureWarning: Default solver will be changed to 'lbfgs' in 0.22. Specify a solver to silence this warning.\n",
            "  FutureWarning)\n",
            "/usr/local/lib/python3.6/dist-packages/sklearn/linear_model/logistic.py:432: FutureWarning: Default solver will be changed to 'lbfgs' in 0.22. Specify a solver to silence this warning.\n",
            "  FutureWarning)\n",
            "/usr/local/lib/python3.6/dist-packages/sklearn/linear_model/logistic.py:432: FutureWarning: Default solver will be changed to 'lbfgs' in 0.22. Specify a solver to silence this warning.\n",
            "  FutureWarning)\n",
            "/usr/local/lib/python3.6/dist-packages/sklearn/linear_model/logistic.py:432: FutureWarning: Default solver will be changed to 'lbfgs' in 0.22. Specify a solver to silence this warning.\n",
            "  FutureWarning)\n",
            "/usr/local/lib/python3.6/dist-packages/sklearn/svm/base.py:929: ConvergenceWarning: Liblinear failed to converge, increase the number of iterations.\n",
            "  \"the number of iterations.\", ConvergenceWarning)\n",
            "/usr/local/lib/python3.6/dist-packages/sklearn/linear_model/logistic.py:432: FutureWarning: Default solver will be changed to 'lbfgs' in 0.22. Specify a solver to silence this warning.\n",
            "  FutureWarning)\n",
            "/usr/local/lib/python3.6/dist-packages/sklearn/linear_model/logistic.py:432: FutureWarning: Default solver will be changed to 'lbfgs' in 0.22. Specify a solver to silence this warning.\n",
            "  FutureWarning)\n",
            "/usr/local/lib/python3.6/dist-packages/sklearn/linear_model/logistic.py:432: FutureWarning: Default solver will be changed to 'lbfgs' in 0.22. Specify a solver to silence this warning.\n",
            "  FutureWarning)\n",
            "/usr/local/lib/python3.6/dist-packages/sklearn/linear_model/logistic.py:432: FutureWarning: Default solver will be changed to 'lbfgs' in 0.22. Specify a solver to silence this warning.\n",
            "  FutureWarning)\n",
            "/usr/local/lib/python3.6/dist-packages/sklearn/linear_model/logistic.py:432: FutureWarning: Default solver will be changed to 'lbfgs' in 0.22. Specify a solver to silence this warning.\n",
            "  FutureWarning)\n",
            "/usr/local/lib/python3.6/dist-packages/sklearn/linear_model/logistic.py:432: FutureWarning: Default solver will be changed to 'lbfgs' in 0.22. Specify a solver to silence this warning.\n",
            "  FutureWarning)\n",
            "/usr/local/lib/python3.6/dist-packages/sklearn/linear_model/logistic.py:432: FutureWarning: Default solver will be changed to 'lbfgs' in 0.22. Specify a solver to silence this warning.\n",
            "  FutureWarning)\n",
            "/usr/local/lib/python3.6/dist-packages/sklearn/linear_model/logistic.py:432: FutureWarning: Default solver will be changed to 'lbfgs' in 0.22. Specify a solver to silence this warning.\n",
            "  FutureWarning)\n",
            "/usr/local/lib/python3.6/dist-packages/sklearn/linear_model/logistic.py:432: FutureWarning: Default solver will be changed to 'lbfgs' in 0.22. Specify a solver to silence this warning.\n",
            "  FutureWarning)\n",
            "/usr/local/lib/python3.6/dist-packages/sklearn/linear_model/logistic.py:432: FutureWarning: Default solver will be changed to 'lbfgs' in 0.22. Specify a solver to silence this warning.\n",
            "  FutureWarning)\n",
            "/usr/local/lib/python3.6/dist-packages/sklearn/linear_model/logistic.py:432: FutureWarning: Default solver will be changed to 'lbfgs' in 0.22. Specify a solver to silence this warning.\n",
            "  FutureWarning)\n",
            "/usr/local/lib/python3.6/dist-packages/sklearn/linear_model/logistic.py:432: FutureWarning: Default solver will be changed to 'lbfgs' in 0.22. Specify a solver to silence this warning.\n",
            "  FutureWarning)\n",
            "/usr/local/lib/python3.6/dist-packages/sklearn/linear_model/logistic.py:432: FutureWarning: Default solver will be changed to 'lbfgs' in 0.22. Specify a solver to silence this warning.\n",
            "  FutureWarning)\n",
            "/usr/local/lib/python3.6/dist-packages/sklearn/linear_model/logistic.py:432: FutureWarning: Default solver will be changed to 'lbfgs' in 0.22. Specify a solver to silence this warning.\n",
            "  FutureWarning)\n",
            "/usr/local/lib/python3.6/dist-packages/sklearn/linear_model/logistic.py:432: FutureWarning: Default solver will be changed to 'lbfgs' in 0.22. Specify a solver to silence this warning.\n",
            "  FutureWarning)\n",
            "/usr/local/lib/python3.6/dist-packages/sklearn/linear_model/logistic.py:432: FutureWarning: Default solver will be changed to 'lbfgs' in 0.22. Specify a solver to silence this warning.\n",
            "  FutureWarning)\n",
            "/usr/local/lib/python3.6/dist-packages/sklearn/linear_model/logistic.py:432: FutureWarning: Default solver will be changed to 'lbfgs' in 0.22. Specify a solver to silence this warning.\n",
            "  FutureWarning)\n",
            "/usr/local/lib/python3.6/dist-packages/sklearn/linear_model/logistic.py:432: FutureWarning: Default solver will be changed to 'lbfgs' in 0.22. Specify a solver to silence this warning.\n",
            "  FutureWarning)\n",
            "/usr/local/lib/python3.6/dist-packages/sklearn/linear_model/logistic.py:432: FutureWarning: Default solver will be changed to 'lbfgs' in 0.22. Specify a solver to silence this warning.\n",
            "  FutureWarning)\n",
            "/usr/local/lib/python3.6/dist-packages/sklearn/linear_model/logistic.py:432: FutureWarning: Default solver will be changed to 'lbfgs' in 0.22. Specify a solver to silence this warning.\n",
            "  FutureWarning)\n",
            "/usr/local/lib/python3.6/dist-packages/sklearn/linear_model/logistic.py:432: FutureWarning: Default solver will be changed to 'lbfgs' in 0.22. Specify a solver to silence this warning.\n",
            "  FutureWarning)\n",
            "/usr/local/lib/python3.6/dist-packages/sklearn/linear_model/logistic.py:432: FutureWarning: Default solver will be changed to 'lbfgs' in 0.22. Specify a solver to silence this warning.\n",
            "  FutureWarning)\n",
            "/usr/local/lib/python3.6/dist-packages/sklearn/linear_model/logistic.py:432: FutureWarning: Default solver will be changed to 'lbfgs' in 0.22. Specify a solver to silence this warning.\n",
            "  FutureWarning)\n",
            "/usr/local/lib/python3.6/dist-packages/sklearn/linear_model/logistic.py:432: FutureWarning: Default solver will be changed to 'lbfgs' in 0.22. Specify a solver to silence this warning.\n",
            "  FutureWarning)\n",
            "/usr/local/lib/python3.6/dist-packages/sklearn/linear_model/logistic.py:432: FutureWarning: Default solver will be changed to 'lbfgs' in 0.22. Specify a solver to silence this warning.\n",
            "  FutureWarning)\n",
            "/usr/local/lib/python3.6/dist-packages/sklearn/linear_model/logistic.py:432: FutureWarning: Default solver will be changed to 'lbfgs' in 0.22. Specify a solver to silence this warning.\n",
            "  FutureWarning)\n",
            "/usr/local/lib/python3.6/dist-packages/sklearn/linear_model/logistic.py:432: FutureWarning: Default solver will be changed to 'lbfgs' in 0.22. Specify a solver to silence this warning.\n",
            "  FutureWarning)\n",
            "/usr/local/lib/python3.6/dist-packages/sklearn/linear_model/logistic.py:432: FutureWarning: Default solver will be changed to 'lbfgs' in 0.22. Specify a solver to silence this warning.\n",
            "  FutureWarning)\n",
            "/usr/local/lib/python3.6/dist-packages/sklearn/linear_model/logistic.py:432: FutureWarning: Default solver will be changed to 'lbfgs' in 0.22. Specify a solver to silence this warning.\n",
            "  FutureWarning)\n",
            "/usr/local/lib/python3.6/dist-packages/sklearn/linear_model/logistic.py:432: FutureWarning: Default solver will be changed to 'lbfgs' in 0.22. Specify a solver to silence this warning.\n",
            "  FutureWarning)\n",
            "/usr/local/lib/python3.6/dist-packages/sklearn/linear_model/logistic.py:432: FutureWarning: Default solver will be changed to 'lbfgs' in 0.22. Specify a solver to silence this warning.\n",
            "  FutureWarning)\n",
            "/usr/local/lib/python3.6/dist-packages/sklearn/linear_model/logistic.py:432: FutureWarning: Default solver will be changed to 'lbfgs' in 0.22. Specify a solver to silence this warning.\n",
            "  FutureWarning)\n",
            "/usr/local/lib/python3.6/dist-packages/sklearn/linear_model/logistic.py:432: FutureWarning: Default solver will be changed to 'lbfgs' in 0.22. Specify a solver to silence this warning.\n",
            "  FutureWarning)\n",
            "/usr/local/lib/python3.6/dist-packages/sklearn/linear_model/logistic.py:432: FutureWarning: Default solver will be changed to 'lbfgs' in 0.22. Specify a solver to silence this warning.\n",
            "  FutureWarning)\n",
            "/usr/local/lib/python3.6/dist-packages/sklearn/linear_model/logistic.py:432: FutureWarning: Default solver will be changed to 'lbfgs' in 0.22. Specify a solver to silence this warning.\n",
            "  FutureWarning)\n"
          ],
          "name": "stderr"
        },
        {
          "output_type": "stream",
          "text": [
            "Best Penalty: l1\n",
            "Best C: 59.94842503189409\n"
          ],
          "name": "stdout"
        },
        {
          "output_type": "stream",
          "text": [
            "/usr/local/lib/python3.6/dist-packages/sklearn/linear_model/logistic.py:432: FutureWarning: Default solver will be changed to 'lbfgs' in 0.22. Specify a solver to silence this warning.\n",
            "  FutureWarning)\n",
            "/usr/local/lib/python3.6/dist-packages/sklearn/model_selection/_search.py:814: DeprecationWarning: The default of the `iid` parameter will change from True to False in version 0.22 and will be removed in 0.24. This will change numeric results when test-set sizes are unequal.\n",
            "  DeprecationWarning)\n",
            "/usr/local/lib/python3.6/dist-packages/sklearn/linear_model/logistic.py:432: FutureWarning: Default solver will be changed to 'lbfgs' in 0.22. Specify a solver to silence this warning.\n",
            "  FutureWarning)\n"
          ],
          "name": "stderr"
        }
      ]
    },
    {
      "cell_type": "code",
      "metadata": {
        "colab_type": "code",
        "id": "DUV3kW15ozok",
        "colab": {}
      },
      "source": [
        "# import warnings filter\n",
        "from warnings import simplefilter\n",
        "# ignore all future warnings\n",
        "simplefilter(action='ignore', category=FutureWarning)"
      ],
      "execution_count": 0,
      "outputs": []
    },
    {
      "cell_type": "markdown",
      "metadata": {
        "colab_type": "text",
        "id": "6YlSOuvql3M0"
      },
      "source": [
        "# Decision Tree Classifier"
      ]
    },
    {
      "cell_type": "code",
      "metadata": {
        "colab_type": "code",
        "id": "DbL64wB3l56K",
        "colab": {}
      },
      "source": [
        "from sklearn.tree import DecisionTreeClassifier\n",
        "model_dt=DecisionTreeClassifier(criterion= 'entropy', max_depth= None, max_features= 6, min_samples_leaf= 8)"
      ],
      "execution_count": 0,
      "outputs": []
    },
    {
      "cell_type": "code",
      "metadata": {
        "colab_type": "code",
        "id": "kyWd5GeYmGjW",
        "colab": {
          "base_uri": "https://localhost:8080/",
          "height": 119
        },
        "outputId": "db015197-7de2-463f-b64d-7e54cd50d0e0"
      },
      "source": [
        "model_dt.fit(X_train,y_train)"
      ],
      "execution_count": 73,
      "outputs": [
        {
          "output_type": "execute_result",
          "data": {
            "text/plain": [
              "DecisionTreeClassifier(class_weight=None, criterion='entropy', max_depth=None,\n",
              "                       max_features=6, max_leaf_nodes=None,\n",
              "                       min_impurity_decrease=0.0, min_impurity_split=None,\n",
              "                       min_samples_leaf=8, min_samples_split=2,\n",
              "                       min_weight_fraction_leaf=0.0, presort=False,\n",
              "                       random_state=None, splitter='best')"
            ]
          },
          "metadata": {
            "tags": []
          },
          "execution_count": 73
        }
      ]
    },
    {
      "cell_type": "code",
      "metadata": {
        "colab_type": "code",
        "id": "HuCN_x28mL-D",
        "colab": {}
      },
      "source": [
        "predict_dt=model_dt.predict(X_test)"
      ],
      "execution_count": 0,
      "outputs": []
    },
    {
      "cell_type": "code",
      "metadata": {
        "colab_type": "code",
        "id": "zyltv5Ismpxb",
        "colab": {
          "base_uri": "https://localhost:8080/",
          "height": 34
        },
        "outputId": "eaa29286-5e74-4d75-eda4-b355b0252670"
      },
      "source": [
        "accuracy_score(y_test, predict_dt)"
      ],
      "execution_count": 75,
      "outputs": [
        {
          "output_type": "execute_result",
          "data": {
            "text/plain": [
              "0.9325842696629213"
            ]
          },
          "metadata": {
            "tags": []
          },
          "execution_count": 75
        }
      ]
    },
    {
      "cell_type": "code",
      "metadata": {
        "colab_type": "code",
        "id": "QBPRuG8cl0Uc",
        "colab": {
          "base_uri": "https://localhost:8080/",
          "height": 340
        },
        "outputId": "6e2c0feb-4b1b-4d10-c5f1-55f48ca8f842"
      },
      "source": [
        "from sklearn.metrics import accuracy_score, classification_report, confusion_matrix, roc_curve, auc\n",
        "cm = confusion_matrix(y_test, predict_dt)\n",
        "plt.rcParams['figure.figsize'] = (5, 5)\n",
        "sb.heatmap(cm, annot = True, annot_kws = {'size':15}, cmap = 'PuBu')"
      ],
      "execution_count": 76,
      "outputs": [
        {
          "output_type": "execute_result",
          "data": {
            "text/plain": [
              "<matplotlib.axes._subplots.AxesSubplot at 0x7fde8c39c5c0>"
            ]
          },
          "metadata": {
            "tags": []
          },
          "execution_count": 76
        },
        {
          "output_type": "display_data",
          "data": {
            "image/png": "[encoded data removed]",
            "text/plain": [
              "<Figure size 360x360 with 2 Axes>"
            ]
          },
          "metadata": {
            "tags": []
          }
        }
      ]
    },
    {
      "cell_type": "code",
      "metadata": {
        "colab_type": "code",
        "id": "cVGN7kxLmd3S",
        "colab": {
          "base_uri": "https://localhost:8080/",
          "height": 51
        },
        "outputId": "a40a8ed7-a903-493a-ef5e-fd7eae3d2358"
      },
      "source": [
        "total=sum(sum(cm))\n",
        "\n",
        "sensitivity = cm[0,0]/(cm[0,0]+cm[0,1])\n",
        "print('Sensitivity : ', sensitivity )\n",
        "\n",
        "specificity = cm[1,1]/(cm[1,0]+cm[1,1])\n",
        "print('Specificity : ', specificity)"
      ],
      "execution_count": 77,
      "outputs": [
        {
          "output_type": "stream",
          "text": [
            "Sensitivity :  0.7619047619047619\n",
            "Specificity :  0.9852941176470589\n"
          ],
          "name": "stdout"
        }
      ]
    },
    {
      "cell_type": "code",
      "metadata": {
        "colab_type": "code",
        "id": "zOUBpHaumi9l",
        "colab": {
          "base_uri": "https://localhost:8080/",
          "height": 350
        },
        "outputId": "24ca7b5e-f916-4fa0-e479-cbb09658bdf2"
      },
      "source": [
        "from sklearn.metrics import roc_curve\n",
        "\n",
        "fpr, tpr, thresholds = roc_curve(y_test, predict_dt)\n",
        "\n",
        "fig, ax = plt.subplots()\n",
        "ax.plot(fpr, tpr)\n",
        "ax.plot([0, 1], [0, 1], transform=ax.transAxes, ls=\"-\", c=\".3\")\n",
        "plt.xlim([0.0, 1.0])\n",
        "plt.ylim([0.0, 1.0])\n",
        "\n",
        "plt.rcParams['figure.figsize'] = (15, 5)\n",
        "plt.title('ROC curve for Blood Pressure classifier', fontweight = 30)\n",
        "plt.xlabel('False Positive Rate (1 - Specificity)')\n",
        "plt.ylabel('True Positive Rate (Sensitivity)')\n",
        "plt.show()"
      ],
      "execution_count": 78,
      "outputs": [
        {
          "output_type": "display_data",
          "data": {
            "image/png": "[encoded data removed]",
            "text/plain": [
              "<Figure size 360x360 with 1 Axes>"
            ]
          },
          "metadata": {
            "tags": []
          }
        }
      ]
    },
    {
      "cell_type": "code",
      "metadata": {
        "colab_type": "code",
        "id": "KB_OtRjG9xt9",
        "colab": {
          "base_uri": "https://localhost:8080/",
          "height": 51
        },
        "outputId": "8ed779ca-1db7-4099-f2f3-f40629e9726b"
      },
      "source": [
        "from scipy.stats import randint \n",
        "from sklearn.tree import DecisionTreeClassifier \n",
        "from sklearn.model_selection import RandomizedSearchCV \n",
        "  \n",
        "# Creating the hyperparameter grid  \n",
        "param_dist = {\"max_depth\": [3, None], \n",
        "              \"max_features\": randint(1, 9), \n",
        "              \"min_samples_leaf\": randint(1, 9), \n",
        "              \"criterion\": [\"gini\", \"entropy\"]} \n",
        "  \n",
        "# Instantiating Decision Tree classifier \n",
        "tree = DecisionTreeClassifier() \n",
        "  \n",
        "# Instantiating RandomizedSearchCV object \n",
        "tree_cv = RandomizedSearchCV(tree, param_dist, cv = 5) \n",
        "  \n",
        "tree_cv.fit(X_train, y_train) \n",
        "  \n",
        "# Print the tuned parameters and score \n",
        "print(\"Tuned Decision Tree Parameters: {}\".format(tree_cv.best_params_)) \n",
        "print(\"Best score is {}\".format(tree_cv.best_score_)) "
      ],
      "execution_count": 79,
      "outputs": [
        {
          "output_type": "stream",
          "text": [
            "Tuned Decision Tree Parameters: {'criterion': 'entropy', 'max_depth': 3, 'max_features': 8, 'min_samples_leaf': 4}\n",
            "Best score is 0.9853658536585366\n"
          ],
          "name": "stdout"
        }
      ]
    },
    {
      "cell_type": "markdown",
      "metadata": {
        "colab_type": "text",
        "id": "TMLJK5Gzixf0"
      },
      "source": [
        "# Random Forest Classifier"
      ]
    },
    {
      "cell_type": "code",
      "metadata": {
        "colab_type": "code",
        "id": "x6Y88FnOjC59",
        "colab": {}
      },
      "source": [
        "from sklearn.ensemble import RandomForestClassifier\n",
        "model_rf=RandomForestClassifier(random_state = 1, max_depth = 15,     n_estimators = 500, min_samples_split = 2, min_samples_leaf = 1)"
      ],
      "execution_count": 0,
      "outputs": []
    },
    {
      "cell_type": "code",
      "metadata": {
        "colab_type": "code",
        "id": "8QgLTMqPjJqo",
        "colab": {
          "base_uri": "https://localhost:8080/",
          "height": 136
        },
        "outputId": "24b41d34-22f8-4fd7-f43f-17bc2896227d"
      },
      "source": [
        "model_rf.fit(X_train,y_train)"
      ],
      "execution_count": 81,
      "outputs": [
        {
          "output_type": "execute_result",
          "data": {
            "text/plain": [
              "RandomForestClassifier(bootstrap=True, class_weight=None, criterion='gini',\n",
              "                       max_depth=15, max_features='auto', max_leaf_nodes=None,\n",
              "                       min_impurity_decrease=0.0, min_impurity_split=None,\n",
              "                       min_samples_leaf=1, min_samples_split=2,\n",
              "                       min_weight_fraction_leaf=0.0, n_estimators=500,\n",
              "                       n_jobs=None, oob_score=False, random_state=1, verbose=0,\n",
              "                       warm_start=False)"
            ]
          },
          "metadata": {
            "tags": []
          },
          "execution_count": 81
        }
      ]
    },
    {
      "cell_type": "code",
      "metadata": {
        "colab_type": "code",
        "id": "Y9JzrPInjMC1",
        "colab": {}
      },
      "source": [
        "predict_rf=model_rf.predict(X_test)"
      ],
      "execution_count": 0,
      "outputs": []
    },
    {
      "cell_type": "code",
      "metadata": {
        "colab_type": "code",
        "id": "bccOtvqzjSen",
        "colab": {
          "base_uri": "https://localhost:8080/",
          "height": 34
        },
        "outputId": "c86af32a-6acc-4719-92fe-6f896b64a1d0"
      },
      "source": [
        "accuracy_score(y_test, predict_dt)"
      ],
      "execution_count": 83,
      "outputs": [
        {
          "output_type": "execute_result",
          "data": {
            "text/plain": [
              "0.9325842696629213"
            ]
          },
          "metadata": {
            "tags": []
          },
          "execution_count": 83
        }
      ]
    },
    {
      "cell_type": "code",
      "metadata": {
        "colab_type": "code",
        "id": "aRWblRCKjW6x",
        "colab": {
          "base_uri": "https://localhost:8080/",
          "height": 340
        },
        "outputId": "3664ebd0-f209-4d2f-b916-8e550399187c"
      },
      "source": [
        "from sklearn.metrics import accuracy_score, classification_report, confusion_matrix, roc_curve, auc\n",
        "cm = confusion_matrix(y_test, predict_rf)\n",
        "plt.rcParams['figure.figsize'] = (5, 5)\n",
        "sb.heatmap(cm, annot = True, annot_kws = {'size':15}, cmap = 'PuBu')"
      ],
      "execution_count": 84,
      "outputs": [
        {
          "output_type": "execute_result",
          "data": {
            "text/plain": [
              "<matplotlib.axes._subplots.AxesSubplot at 0x7fde94751518>"
            ]
          },
          "metadata": {
            "tags": []
          },
          "execution_count": 84
        },
        {
          "output_type": "display_data",
          "data": {
            "image/png": "[encoded data removed]",
            "text/plain": [
              "<Figure size 360x360 with 2 Axes>"
            ]
          },
          "metadata": {
            "tags": []
          }
        }
      ]
    },
    {
      "cell_type": "code",
      "metadata": {
        "colab_type": "code",
        "id": "XuS_0ux9jb1N",
        "colab": {
          "base_uri": "https://localhost:8080/",
          "height": 51
        },
        "outputId": "1659e838-f777-4f76-fda3-597dff0cdf4a"
      },
      "source": [
        "total=sum(sum(cm))\n",
        "\n",
        "sensitivity = cm[0,0]/(cm[0,0]+cm[0,1])\n",
        "print('Sensitivity : ', sensitivity )\n",
        "\n",
        "specificity = cm[1,1]/(cm[1,0]+cm[1,1])\n",
        "print('Specificity : ', specificity)"
      ],
      "execution_count": 85,
      "outputs": [
        {
          "output_type": "stream",
          "text": [
            "Sensitivity :  0.6666666666666666\n",
            "Specificity :  1.0\n"
          ],
          "name": "stdout"
        }
      ]
    },
    {
      "cell_type": "code",
      "metadata": {
        "colab_type": "code",
        "id": "oRJvZeYOjf4X",
        "colab": {
          "base_uri": "https://localhost:8080/",
          "height": 350
        },
        "outputId": "f76bc5ad-28e5-4c8d-89da-6ac56912f52d"
      },
      "source": [
        "from sklearn.metrics import roc_curve\n",
        "\n",
        "fpr, tpr, thresholds = roc_curve(y_test, predict_rf)\n",
        "\n",
        "fig, ax = plt.subplots()\n",
        "ax.plot(fpr, tpr)\n",
        "ax.plot([0, 1], [0, 1], transform=ax.transAxes, ls=\"-\", c=\".3\")\n",
        "plt.xlim([0.0, 1.0])\n",
        "plt.ylim([0.0, 1.0])\n",
        "\n",
        "plt.rcParams['figure.figsize'] = (15, 5)\n",
        "plt.title('ROC curve for Blood Pressure classifier', fontweight = 30)\n",
        "plt.xlabel('False Positive Rate (1 - Specificity)')\n",
        "plt.ylabel('True Positive Rate (Sensitivity)')\n",
        "plt.show()"
      ],
      "execution_count": 86,
      "outputs": [
        {
          "output_type": "display_data",
          "data": {
            "image/png": "[encoded data removed]",
            "text/plain": [
              "<Figure size 360x360 with 1 Axes>"
            ]
          },
          "metadata": {
            "tags": []
          }
        }
      ]
    },
    {
      "cell_type": "code",
      "metadata": {
        "colab_type": "code",
        "id": "6b__aEcX_PGW",
        "colab": {}
      },
      "source": [
        "#n_estimators = [100, 300, 500, 800, 1200]\n",
        "#max_depth = [5, 8, 15, 25, 30]\n",
        "#min_samples_split = [2, 5, 10, 15, 100]\n",
        "#min_samples_leaf = [1, 2, 5, 10] \n",
        "\n",
        "#hyperF = dict(n_estimators = n_estimators, max_depth = max_depth,  \n",
        "#            min_samples_split = min_samples_split, \n",
        "  #        min_samples_leaf = min_samples_leaf)\n",
        "\n",
        "#gridF = GridSearchCV(model_rf, hyperF, cv = 3, verbose = 1, \n",
        "#                n_jobs = -1)\n",
        "#bestF = gridF.fit(X_train, y_train) '''"
      ],
      "execution_count": 0,
      "outputs": []
    },
    {
      "cell_type": "markdown",
      "metadata": {
        "colab_type": "text",
        "id": "kSKaWv24jp4R"
      },
      "source": [
        "# Principal Component Analysis"
      ]
    },
    {
      "cell_type": "code",
      "metadata": {
        "colab_type": "code",
        "id": "RorVg0iqjyd6",
        "colab": {}
      },
      "source": [
        "from sklearn.decomposition import PCA\n",
        "model_p=PCA()"
      ],
      "execution_count": 0,
      "outputs": []
    },
    {
      "cell_type": "code",
      "metadata": {
        "colab_type": "code",
        "id": "phs06ZNyj8cz",
        "colab": {
          "base_uri": "https://localhost:8080/",
          "height": 51
        },
        "outputId": "1bbf6529-02bf-4d85-f94f-9f558ad41b97"
      },
      "source": [
        "model_p.fit(X_train,y_train)"
      ],
      "execution_count": 89,
      "outputs": [
        {
          "output_type": "execute_result",
          "data": {
            "text/plain": [
              "PCA(copy=True, iterated_power='auto', n_components=None, random_state=None,\n",
              "    svd_solver='auto', tol=0.0, whiten=False)"
            ]
          },
          "metadata": {
            "tags": []
          },
          "execution_count": 89
        }
      ]
    },
    {
      "cell_type": "code",
      "metadata": {
        "colab_type": "code",
        "id": "8JxZcFwHkD1v",
        "colab": {
          "base_uri": "https://localhost:8080/",
          "height": 1000
        },
        "outputId": "f5f04990-f63a-4665-f46b-7d5378d778c0"
      },
      "source": [
        "model_p.components_"
      ],
      "execution_count": 90,
      "outputs": [
        {
          "output_type": "execute_result",
          "data": {
            "text/plain": [
              "array([[ 2.25444725e-01,  1.74960860e-01,  3.72927643e-01,\n",
              "         1.52005117e-01,  1.73395504e-01,  7.63798028e-02,\n",
              "        -1.20443312e-02, -3.58763708e-01,  4.38790609e-01,\n",
              "         3.98689392e-01,  2.00054873e-01,  0.00000000e+00,\n",
              "         7.51244073e-02,  4.40987975e-01],\n",
              "       [ 5.43443088e-01, -2.89672926e-01, -3.18426881e-01,\n",
              "         4.22087418e-01,  1.91111987e-01,  2.51049941e-01,\n",
              "        -7.40216035e-02, -2.07209848e-01, -8.68043766e-02,\n",
              "        -7.50972519e-02, -2.38976657e-01,  1.08420217e-19,\n",
              "         3.28864866e-01, -1.21672578e-01],\n",
              "       [-1.04909453e-01, -2.03986669e-01, -4.57510590e-02,\n",
              "         3.19770548e-02,  4.88988577e-01,  4.91265656e-01,\n",
              "         3.31955515e-01,  2.39693803e-01,  1.51429895e-02,\n",
              "        -1.40210248e-01,  4.88481239e-01,  1.38777878e-17,\n",
              "        -1.93704463e-01,  1.20347205e-02],\n",
              "       [ 1.84449889e-01, -3.75743319e-01,  3.28324510e-02,\n",
              "        -5.61760645e-03, -2.88914513e-02, -3.26346556e-01,\n",
              "         6.48866521e-01, -1.25915627e-01,  1.12603378e-01,\n",
              "         1.96752923e-01, -2.39330448e-01,  1.38777878e-17,\n",
              "        -4.00752721e-01, -1.00962026e-01],\n",
              "       [ 3.61956449e-01,  3.70027900e-01,  1.15280075e-01,\n",
              "        -9.86873940e-03,  1.50815969e-01,  7.04893502e-02,\n",
              "        -2.58266633e-01, -2.29318093e-01, -1.51123587e-01,\n",
              "        -2.15062502e-01, -7.65430547e-03, -2.77555756e-17,\n",
              "        -6.71068759e-01, -2.28462824e-01],\n",
              "       [ 2.78212711e-01, -1.67772939e-01,  1.20366776e-01,\n",
              "        -7.70337703e-01, -1.82078995e-01,  3.25482276e-01,\n",
              "         9.62283768e-02, -2.71644617e-01, -9.45041259e-02,\n",
              "        -1.35501769e-01,  8.14740675e-03,  1.11022302e-16,\n",
              "         1.80410052e-01,  6.70335327e-02],\n",
              "       [ 9.84962789e-03,  3.29108286e-01, -9.53585689e-02,\n",
              "         2.66660287e-01, -6.37311770e-01,  5.13688032e-01,\n",
              "         3.29774458e-01,  2.69556450e-02, -1.86927964e-03,\n",
              "         1.42506615e-01,  8.20568072e-03, -9.49934575e-15,\n",
              "        -7.99509014e-02, -7.14084040e-02],\n",
              "       [-1.53658832e-01, -3.09982880e-01,  1.34957793e-01,\n",
              "        -8.50922808e-02,  3.96922322e-02,  4.19269055e-01,\n",
              "        -3.65092524e-01,  2.61072382e-01,  1.88080827e-01,\n",
              "         3.27439166e-01, -5.07142905e-01, -6.10622664e-16,\n",
              "        -2.75023701e-01,  2.46810639e-02],\n",
              "       [-9.34157098e-02,  5.54656323e-01, -1.18641018e-01,\n",
              "        -1.84245868e-01,  4.59894362e-01,  8.74045063e-02,\n",
              "         3.47314961e-01,  4.82253659e-02, -4.18970543e-02,\n",
              "         6.45937103e-02, -5.02204307e-01,  1.66533454e-16,\n",
              "         1.86593845e-01,  2.36169011e-02],\n",
              "       [ 9.24218106e-03,  6.14644803e-02, -7.84713926e-01,\n",
              "        -2.64371931e-01,  2.11914179e-02, -5.46174237e-02,\n",
              "        -1.54659444e-01, -1.24584754e-01,  1.77531970e-01,\n",
              "         4.02487661e-01,  2.15256378e-01,  2.22044605e-16,\n",
              "        -1.66187567e-01,  1.12986481e-02],\n",
              "       [ 5.98508023e-01,  1.25137014e-01, -9.20828259e-03,\n",
              "        -1.07826642e-01, -7.62154019e-02, -1.47748504e-01,\n",
              "         2.79823909e-03,  7.30352443e-01,  9.25810558e-02,\n",
              "         1.89877580e-02,  5.38088288e-02, -3.46944695e-18,\n",
              "         1.17098531e-02,  2.03450903e-01],\n",
              "       [ 1.54913993e-02,  7.20300067e-02,  4.68669014e-02,\n",
              "        -8.03669240e-02, -8.43602031e-03,  3.39152509e-03,\n",
              "        -8.12292963e-03,  3.55486777e-02,  7.47376695e-01,\n",
              "        -2.26406589e-01,  2.30424946e-02,  5.55111512e-17,\n",
              "         1.52405623e-01, -5.92379682e-01],\n",
              "       [ 9.71079090e-02,  3.07493431e-02,  2.62946214e-01,\n",
              "        -6.23867689e-02,  1.09516328e-01, -1.62143538e-02,\n",
              "        -2.29602941e-02,  8.51844372e-02, -3.45623453e-01,\n",
              "         6.05896236e-01,  2.18215884e-01, -0.00000000e+00,\n",
              "         1.93309717e-01, -5.70086640e-01],\n",
              "       [ 0.00000000e+00, -2.83068217e-15,  5.94676504e-16,\n",
              "        -2.66112653e-15,  6.08921303e-15, -5.08481772e-15,\n",
              "        -2.86643168e-15, -4.56989063e-16,  3.38714750e-19,\n",
              "        -1.44725250e-15,  1.88811890e-16, -1.00000000e+00,\n",
              "         9.49439713e-16,  6.34504270e-16]])"
            ]
          },
          "metadata": {
            "tags": []
          },
          "execution_count": 90
        }
      ]
    },
    {
      "cell_type": "code",
      "metadata": {
        "colab_type": "code",
        "id": "NLNVexAukLDL",
        "colab": {}
      },
      "source": [
        "component = pd.DataFrame(model_p.components_)"
      ],
      "execution_count": 0,
      "outputs": []
    },
    {
      "cell_type": "code",
      "metadata": {
        "colab_type": "code",
        "id": "grFwr2IukPD3",
        "colab": {
          "base_uri": "https://localhost:8080/",
          "height": 483
        },
        "outputId": "3c7947da-a096-4a6f-dd5d-91a1ab437ec0"
      },
      "source": [
        "component"
      ],
      "execution_count": 92,
      "outputs": [
        {
          "output_type": "execute_result",
          "data": {
            "text/html": [
              "<div>\n",
              "<style scoped>\n",
              "    .dataframe tbody tr th:only-of-type {\n",
              "        vertical-align: middle;\n",
              "    }\n",
              "\n",
              "    .dataframe tbody tr th {\n",
              "        vertical-align: top;\n",
              "    }\n",
              "\n",
              "    .dataframe thead th {\n",
              "        text-align: right;\n",
              "    }\n",
              "</style>\n",
              "<table border=\"1\" class=\"dataframe\">\n",
              "  <thead>\n",
              "    <tr style=\"text-align: right;\">\n",
              "      <th></th>\n",
              "      <th>0</th>\n",
              "      <th>1</th>\n",
              "      <th>2</th>\n",
              "      <th>3</th>\n",
              "      <th>4</th>\n",
              "      <th>5</th>\n",
              "      <th>6</th>\n",
              "      <th>7</th>\n",
              "      <th>8</th>\n",
              "      <th>9</th>\n",
              "      <th>10</th>\n",
              "      <th>11</th>\n",
              "      <th>12</th>\n",
              "      <th>13</th>\n",
              "    </tr>\n",
              "  </thead>\n",
              "  <tbody>\n",
              "    <tr>\n",
              "      <th>0</th>\n",
              "      <td>0.225445</td>\n",
              "      <td>1.749609e-01</td>\n",
              "      <td>3.729276e-01</td>\n",
              "      <td>1.520051e-01</td>\n",
              "      <td>1.733955e-01</td>\n",
              "      <td>7.637980e-02</td>\n",
              "      <td>-1.204433e-02</td>\n",
              "      <td>-3.587637e-01</td>\n",
              "      <td>4.387906e-01</td>\n",
              "      <td>3.986894e-01</td>\n",
              "      <td>2.000549e-01</td>\n",
              "      <td>0.000000e+00</td>\n",
              "      <td>7.512441e-02</td>\n",
              "      <td>4.409880e-01</td>\n",
              "    </tr>\n",
              "    <tr>\n",
              "      <th>1</th>\n",
              "      <td>0.543443</td>\n",
              "      <td>-2.896729e-01</td>\n",
              "      <td>-3.184269e-01</td>\n",
              "      <td>4.220874e-01</td>\n",
              "      <td>1.911120e-01</td>\n",
              "      <td>2.510499e-01</td>\n",
              "      <td>-7.402160e-02</td>\n",
              "      <td>-2.072098e-01</td>\n",
              "      <td>-8.680438e-02</td>\n",
              "      <td>-7.509725e-02</td>\n",
              "      <td>-2.389767e-01</td>\n",
              "      <td>1.084202e-19</td>\n",
              "      <td>3.288649e-01</td>\n",
              "      <td>-1.216726e-01</td>\n",
              "    </tr>\n",
              "    <tr>\n",
              "      <th>2</th>\n",
              "      <td>-0.104909</td>\n",
              "      <td>-2.039867e-01</td>\n",
              "      <td>-4.575106e-02</td>\n",
              "      <td>3.197705e-02</td>\n",
              "      <td>4.889886e-01</td>\n",
              "      <td>4.912657e-01</td>\n",
              "      <td>3.319555e-01</td>\n",
              "      <td>2.396938e-01</td>\n",
              "      <td>1.514299e-02</td>\n",
              "      <td>-1.402102e-01</td>\n",
              "      <td>4.884812e-01</td>\n",
              "      <td>1.387779e-17</td>\n",
              "      <td>-1.937045e-01</td>\n",
              "      <td>1.203472e-02</td>\n",
              "    </tr>\n",
              "    <tr>\n",
              "      <th>3</th>\n",
              "      <td>0.184450</td>\n",
              "      <td>-3.757433e-01</td>\n",
              "      <td>3.283245e-02</td>\n",
              "      <td>-5.617606e-03</td>\n",
              "      <td>-2.889145e-02</td>\n",
              "      <td>-3.263466e-01</td>\n",
              "      <td>6.488665e-01</td>\n",
              "      <td>-1.259156e-01</td>\n",
              "      <td>1.126034e-01</td>\n",
              "      <td>1.967529e-01</td>\n",
              "      <td>-2.393304e-01</td>\n",
              "      <td>1.387779e-17</td>\n",
              "      <td>-4.007527e-01</td>\n",
              "      <td>-1.009620e-01</td>\n",
              "    </tr>\n",
              "    <tr>\n",
              "      <th>4</th>\n",
              "      <td>0.361956</td>\n",
              "      <td>3.700279e-01</td>\n",
              "      <td>1.152801e-01</td>\n",
              "      <td>-9.868739e-03</td>\n",
              "      <td>1.508160e-01</td>\n",
              "      <td>7.048935e-02</td>\n",
              "      <td>-2.582666e-01</td>\n",
              "      <td>-2.293181e-01</td>\n",
              "      <td>-1.511236e-01</td>\n",
              "      <td>-2.150625e-01</td>\n",
              "      <td>-7.654305e-03</td>\n",
              "      <td>-2.775558e-17</td>\n",
              "      <td>-6.710688e-01</td>\n",
              "      <td>-2.284628e-01</td>\n",
              "    </tr>\n",
              "    <tr>\n",
              "      <th>5</th>\n",
              "      <td>0.278213</td>\n",
              "      <td>-1.677729e-01</td>\n",
              "      <td>1.203668e-01</td>\n",
              "      <td>-7.703377e-01</td>\n",
              "      <td>-1.820790e-01</td>\n",
              "      <td>3.254823e-01</td>\n",
              "      <td>9.622838e-02</td>\n",
              "      <td>-2.716446e-01</td>\n",
              "      <td>-9.450413e-02</td>\n",
              "      <td>-1.355018e-01</td>\n",
              "      <td>8.147407e-03</td>\n",
              "      <td>1.110223e-16</td>\n",
              "      <td>1.804101e-01</td>\n",
              "      <td>6.703353e-02</td>\n",
              "    </tr>\n",
              "    <tr>\n",
              "      <th>6</th>\n",
              "      <td>0.009850</td>\n",
              "      <td>3.291083e-01</td>\n",
              "      <td>-9.535857e-02</td>\n",
              "      <td>2.666603e-01</td>\n",
              "      <td>-6.373118e-01</td>\n",
              "      <td>5.136880e-01</td>\n",
              "      <td>3.297745e-01</td>\n",
              "      <td>2.695565e-02</td>\n",
              "      <td>-1.869280e-03</td>\n",
              "      <td>1.425066e-01</td>\n",
              "      <td>8.205681e-03</td>\n",
              "      <td>-9.499346e-15</td>\n",
              "      <td>-7.995090e-02</td>\n",
              "      <td>-7.140840e-02</td>\n",
              "    </tr>\n",
              "    <tr>\n",
              "      <th>7</th>\n",
              "      <td>-0.153659</td>\n",
              "      <td>-3.099829e-01</td>\n",
              "      <td>1.349578e-01</td>\n",
              "      <td>-8.509228e-02</td>\n",
              "      <td>3.969223e-02</td>\n",
              "      <td>4.192691e-01</td>\n",
              "      <td>-3.650925e-01</td>\n",
              "      <td>2.610724e-01</td>\n",
              "      <td>1.880808e-01</td>\n",
              "      <td>3.274392e-01</td>\n",
              "      <td>-5.071429e-01</td>\n",
              "      <td>-6.106227e-16</td>\n",
              "      <td>-2.750237e-01</td>\n",
              "      <td>2.468106e-02</td>\n",
              "    </tr>\n",
              "    <tr>\n",
              "      <th>8</th>\n",
              "      <td>-0.093416</td>\n",
              "      <td>5.546563e-01</td>\n",
              "      <td>-1.186410e-01</td>\n",
              "      <td>-1.842459e-01</td>\n",
              "      <td>4.598944e-01</td>\n",
              "      <td>8.740451e-02</td>\n",
              "      <td>3.473150e-01</td>\n",
              "      <td>4.822537e-02</td>\n",
              "      <td>-4.189705e-02</td>\n",
              "      <td>6.459371e-02</td>\n",
              "      <td>-5.022043e-01</td>\n",
              "      <td>1.665335e-16</td>\n",
              "      <td>1.865938e-01</td>\n",
              "      <td>2.361690e-02</td>\n",
              "    </tr>\n",
              "    <tr>\n",
              "      <th>9</th>\n",
              "      <td>0.009242</td>\n",
              "      <td>6.146448e-02</td>\n",
              "      <td>-7.847139e-01</td>\n",
              "      <td>-2.643719e-01</td>\n",
              "      <td>2.119142e-02</td>\n",
              "      <td>-5.461742e-02</td>\n",
              "      <td>-1.546594e-01</td>\n",
              "      <td>-1.245848e-01</td>\n",
              "      <td>1.775320e-01</td>\n",
              "      <td>4.024877e-01</td>\n",
              "      <td>2.152564e-01</td>\n",
              "      <td>2.220446e-16</td>\n",
              "      <td>-1.661876e-01</td>\n",
              "      <td>1.129865e-02</td>\n",
              "    </tr>\n",
              "    <tr>\n",
              "      <th>10</th>\n",
              "      <td>0.598508</td>\n",
              "      <td>1.251370e-01</td>\n",
              "      <td>-9.208283e-03</td>\n",
              "      <td>-1.078266e-01</td>\n",
              "      <td>-7.621540e-02</td>\n",
              "      <td>-1.477485e-01</td>\n",
              "      <td>2.798239e-03</td>\n",
              "      <td>7.303524e-01</td>\n",
              "      <td>9.258106e-02</td>\n",
              "      <td>1.898776e-02</td>\n",
              "      <td>5.380883e-02</td>\n",
              "      <td>-3.469447e-18</td>\n",
              "      <td>1.170985e-02</td>\n",
              "      <td>2.034509e-01</td>\n",
              "    </tr>\n",
              "    <tr>\n",
              "      <th>11</th>\n",
              "      <td>0.015491</td>\n",
              "      <td>7.203001e-02</td>\n",
              "      <td>4.686690e-02</td>\n",
              "      <td>-8.036692e-02</td>\n",
              "      <td>-8.436020e-03</td>\n",
              "      <td>3.391525e-03</td>\n",
              "      <td>-8.122930e-03</td>\n",
              "      <td>3.554868e-02</td>\n",
              "      <td>7.473767e-01</td>\n",
              "      <td>-2.264066e-01</td>\n",
              "      <td>2.304249e-02</td>\n",
              "      <td>5.551115e-17</td>\n",
              "      <td>1.524056e-01</td>\n",
              "      <td>-5.923797e-01</td>\n",
              "    </tr>\n",
              "    <tr>\n",
              "      <th>12</th>\n",
              "      <td>0.097108</td>\n",
              "      <td>3.074934e-02</td>\n",
              "      <td>2.629462e-01</td>\n",
              "      <td>-6.238677e-02</td>\n",
              "      <td>1.095163e-01</td>\n",
              "      <td>-1.621435e-02</td>\n",
              "      <td>-2.296029e-02</td>\n",
              "      <td>8.518444e-02</td>\n",
              "      <td>-3.456235e-01</td>\n",
              "      <td>6.058962e-01</td>\n",
              "      <td>2.182159e-01</td>\n",
              "      <td>-0.000000e+00</td>\n",
              "      <td>1.933097e-01</td>\n",
              "      <td>-5.700866e-01</td>\n",
              "    </tr>\n",
              "    <tr>\n",
              "      <th>13</th>\n",
              "      <td>0.000000</td>\n",
              "      <td>-2.830682e-15</td>\n",
              "      <td>5.946765e-16</td>\n",
              "      <td>-2.661127e-15</td>\n",
              "      <td>6.089213e-15</td>\n",
              "      <td>-5.084818e-15</td>\n",
              "      <td>-2.866432e-15</td>\n",
              "      <td>-4.569891e-16</td>\n",
              "      <td>3.387148e-19</td>\n",
              "      <td>-1.447252e-15</td>\n",
              "      <td>1.888119e-16</td>\n",
              "      <td>-1.000000e+00</td>\n",
              "      <td>9.494397e-16</td>\n",
              "      <td>6.345043e-16</td>\n",
              "    </tr>\n",
              "  </tbody>\n",
              "</table>\n",
              "</div>"
            ],
            "text/plain": [
              "          0             1   ...            12            13\n",
              "0   0.225445  1.749609e-01  ...  7.512441e-02  4.409880e-01\n",
              "1   0.543443 -2.896729e-01  ...  3.288649e-01 -1.216726e-01\n",
              "2  -0.104909 -2.039867e-01  ... -1.937045e-01  1.203472e-02\n",
              "3   0.184450 -3.757433e-01  ... -4.007527e-01 -1.009620e-01\n",
              "4   0.361956  3.700279e-01  ... -6.710688e-01 -2.284628e-01\n",
              "5   0.278213 -1.677729e-01  ...  1.804101e-01  6.703353e-02\n",
              "6   0.009850  3.291083e-01  ... -7.995090e-02 -7.140840e-02\n",
              "7  -0.153659 -3.099829e-01  ... -2.750237e-01  2.468106e-02\n",
              "8  -0.093416  5.546563e-01  ...  1.865938e-01  2.361690e-02\n",
              "9   0.009242  6.146448e-02  ... -1.661876e-01  1.129865e-02\n",
              "10  0.598508  1.251370e-01  ...  1.170985e-02  2.034509e-01\n",
              "11  0.015491  7.203001e-02  ...  1.524056e-01 -5.923797e-01\n",
              "12  0.097108  3.074934e-02  ...  1.933097e-01 -5.700866e-01\n",
              "13  0.000000 -2.830682e-15  ...  9.494397e-16  6.345043e-16\n",
              "\n",
              "[14 rows x 14 columns]"
            ]
          },
          "metadata": {
            "tags": []
          },
          "execution_count": 92
        }
      ]
    },
    {
      "cell_type": "code",
      "metadata": {
        "colab_type": "code",
        "id": "s6I2WmsakSa7",
        "colab": {}
      },
      "source": [
        "value=model_p.explained_variance_ratio_"
      ],
      "execution_count": 0,
      "outputs": []
    },
    {
      "cell_type": "code",
      "metadata": {
        "colab_type": "code",
        "id": "qc_CP-x0kVC1",
        "colab": {
          "base_uri": "https://localhost:8080/",
          "height": 85
        },
        "outputId": "5b2fc8e8-209d-4da2-eba5-b1b3b5b9d81d"
      },
      "source": [
        "value"
      ],
      "execution_count": 94,
      "outputs": [
        {
          "output_type": "execute_result",
          "data": {
            "text/plain": [
              "array([2.67711151e-01, 1.02075384e-01, 9.26084534e-02, 8.84229263e-02,\n",
              "       7.73155329e-02, 7.12043599e-02, 6.46052639e-02, 6.22632059e-02,\n",
              "       5.67622467e-02, 3.71791789e-02, 3.15851160e-02, 2.63137715e-02,\n",
              "       2.19534096e-02, 2.50899732e-38])"
            ]
          },
          "metadata": {
            "tags": []
          },
          "execution_count": 94
        }
      ]
    },
    {
      "cell_type": "code",
      "metadata": {
        "colab_type": "code",
        "id": "HoyXoOQUkTk6",
        "colab": {
          "base_uri": "https://localhost:8080/",
          "height": 34
        },
        "outputId": "f9a50adc-695a-4872-c8bf-91f060eee23d"
      },
      "source": [
        "value.sum()"
      ],
      "execution_count": 95,
      "outputs": [
        {
          "output_type": "execute_result",
          "data": {
            "text/plain": [
              "0.9999999999999999"
            ]
          },
          "metadata": {
            "tags": []
          },
          "execution_count": 95
        }
      ]
    },
    {
      "cell_type": "markdown",
      "metadata": {
        "colab_type": "text",
        "id": "zuZpEsHvkfRo"
      },
      "source": [
        "# K Nearest Neighbours"
      ]
    },
    {
      "cell_type": "code",
      "metadata": {
        "colab_type": "code",
        "id": "BG9LZ6CEkiMX",
        "colab": {}
      },
      "source": [
        "from sklearn.neighbors import KNeighborsClassifier\n",
        "model_knn =KNeighborsClassifier(algorithm='auto', leaf_size=30, metric='minkowski',\n",
        "                     metric_params=None, n_jobs=None, n_neighbors=10, p=2,\n",
        "                     weights='uniform')"
      ],
      "execution_count": 0,
      "outputs": []
    },
    {
      "cell_type": "code",
      "metadata": {
        "colab_type": "code",
        "id": "lH0vevBEkpfg",
        "colab": {
          "base_uri": "https://localhost:8080/",
          "height": 68
        },
        "outputId": "b78442f2-4276-4fff-c7d1-a6a5385ab09e"
      },
      "source": [
        "model_knn.fit(X_train,y_train)"
      ],
      "execution_count": 97,
      "outputs": [
        {
          "output_type": "execute_result",
          "data": {
            "text/plain": [
              "KNeighborsClassifier(algorithm='auto', leaf_size=30, metric='minkowski',\n",
              "                     metric_params=None, n_jobs=None, n_neighbors=10, p=2,\n",
              "                     weights='uniform')"
            ]
          },
          "metadata": {
            "tags": []
          },
          "execution_count": 97
        }
      ]
    },
    {
      "cell_type": "code",
      "metadata": {
        "colab_type": "code",
        "id": "VL_au4JdktYI",
        "colab": {}
      },
      "source": [
        "predict_knn=model_knn.predict(X_test)"
      ],
      "execution_count": 0,
      "outputs": []
    },
    {
      "cell_type": "code",
      "metadata": {
        "colab_type": "code",
        "id": "xb91h1kbkxcE",
        "colab": {
          "base_uri": "https://localhost:8080/",
          "height": 34
        },
        "outputId": "94a36d13-9016-4948-fc4b-4e7cde475436"
      },
      "source": [
        "accuracy_score(y_test, predict_knn)"
      ],
      "execution_count": 99,
      "outputs": [
        {
          "output_type": "execute_result",
          "data": {
            "text/plain": [
              "0.8089887640449438"
            ]
          },
          "metadata": {
            "tags": []
          },
          "execution_count": 99
        }
      ]
    },
    {
      "cell_type": "code",
      "metadata": {
        "colab_type": "code",
        "id": "0KW_E-qWk1v8",
        "colab": {
          "base_uri": "https://localhost:8080/",
          "height": 340
        },
        "outputId": "01de3d34-ae0d-4009-fc44-e88296f29bde"
      },
      "source": [
        "from sklearn.metrics import accuracy_score, classification_report, confusion_matrix, roc_curve, auc\n",
        "cm = confusion_matrix(y_test, predict_knn)\n",
        "plt.rcParams['figure.figsize'] = (5, 5)\n",
        "sb.heatmap(cm, annot = True, annot_kws = {'size':15}, cmap = 'PuBu')"
      ],
      "execution_count": 100,
      "outputs": [
        {
          "output_type": "execute_result",
          "data": {
            "text/plain": [
              "<matplotlib.axes._subplots.AxesSubplot at 0x7fde8e2a5978>"
            ]
          },
          "metadata": {
            "tags": []
          },
          "execution_count": 100
        },
        {
          "output_type": "display_data",
          "data": {
            "image/png": "[encoded data removed]",
            "text/plain": [
              "<Figure size 360x360 with 2 Axes>"
            ]
          },
          "metadata": {
            "tags": []
          }
        }
      ]
    },
    {
      "cell_type": "code",
      "metadata": {
        "colab_type": "code",
        "id": "iKtmfmAMk-7B",
        "colab": {
          "base_uri": "https://localhost:8080/",
          "height": 51
        },
        "outputId": "c44df773-9e0d-4324-876a-8eb98885b5b3"
      },
      "source": [
        "total=sum(sum(cm))\n",
        "\n",
        "sensitivity = cm[0,0]/(cm[0,0]+cm[0,1])\n",
        "print('Sensitivity : ', sensitivity )\n",
        "\n",
        "specificity = cm[1,1]/(cm[1,0]+cm[1,1])\n",
        "print('Specificity : ', specificity)"
      ],
      "execution_count": 101,
      "outputs": [
        {
          "output_type": "stream",
          "text": [
            "Sensitivity :  0.19047619047619047\n",
            "Specificity :  1.0\n"
          ],
          "name": "stdout"
        }
      ]
    },
    {
      "cell_type": "code",
      "metadata": {
        "colab_type": "code",
        "id": "GkuYznmulCzX",
        "colab": {
          "base_uri": "https://localhost:8080/",
          "height": 350
        },
        "outputId": "b40a0162-7ca1-433f-f7ce-f03ac27c58f1"
      },
      "source": [
        "from sklearn.metrics import roc_curve\n",
        "\n",
        "fpr, tpr, thresholds = roc_curve(y_test, predict_knn)\n",
        "\n",
        "fig, ax = plt.subplots()\n",
        "ax.plot(fpr, tpr)\n",
        "ax.plot([0, 1], [0, 1], transform=ax.transAxes, ls=\"-\", c=\".3\")\n",
        "plt.xlim([0.0, 1.0])\n",
        "plt.ylim([0.0, 1.0])\n",
        "\n",
        "plt.rcParams['figure.figsize'] = (15, 5)\n",
        "plt.title('ROC curve for Blood Pressure classifier', fontweight = 30)\n",
        "plt.xlabel('False Positive Rate (1 - Specificity)')\n",
        "plt.ylabel('True Positive Rate (Sensitivity)')\n",
        "plt.show()"
      ],
      "execution_count": 102,
      "outputs": [
        {
          "output_type": "display_data",
          "data": {
            "image/png": "[encoded data removed]",
            "text/plain": [
              "<Figure size 360x360 with 1 Axes>"
            ]
          },
          "metadata": {
            "tags": []
          }
        }
      ]
    },
    {
      "cell_type": "code",
      "metadata": {
        "colab_type": "code",
        "id": "g24wmI3ZCQ_v",
        "colab": {
          "base_uri": "https://localhost:8080/",
          "height": 54
        },
        "outputId": "8cc855e7-26d8-4d4d-c88c-43392272ceea"
      },
      "source": [
        "myList = list(range(1,50))\n",
        "from sklearn.model_selection import cross_val_score\n",
        "# subsetting just the odd ones\n",
        "neighbors = filter(lambda x: x % 2 != 0, myList)\n",
        "\n",
        "# empty list that will hold cv scores\n",
        "cv_scores = []\n",
        "\n",
        "# perform 10-fold cross validation\n",
        "for k in neighbors:\n",
        "    knn = KNeighborsClassifier(n_neighbors=k)\n",
        "    scores = cross_val_score(knn, X_train, y_train, cv=10, scoring='accuracy')\n",
        "    cv_scores.append(scores.mean())\n",
        "    \n",
        "print(cv_scores)"
      ],
      "execution_count": 103,
      "outputs": [
        {
          "output_type": "stream",
          "text": [
            "[0.8638095238095239, 0.8638095238095238, 0.8683333333333334, 0.8633333333333333, 0.8583333333333332, 0.8535714285714284, 0.8633333333333333, 0.8535714285714284, 0.8585714285714285, 0.8585714285714285, 0.8538095238095238, 0.8538095238095238, 0.8538095238095238, 0.8585714285714285, 0.8633333333333333, 0.8535714285714284, 0.8535714285714284, 0.8535714285714284, 0.8535714285714284, 0.8535714285714284, 0.8535714285714284, 0.8535714285714284, 0.8535714285714284, 0.8535714285714284, 0.8535714285714284]\n"
          ],
          "name": "stdout"
        }
      ]
    },
    {
      "cell_type": "code",
      "metadata": {
        "colab_type": "code",
        "id": "fCMaJya5KkAF",
        "colab": {
          "base_uri": "https://localhost:8080/",
          "height": 34
        },
        "outputId": "7e715f65-dec2-48b2-fbf8-31e3ad95f812"
      },
      "source": [
        "from sklearn.model_selection import GridSearchCV\n",
        "k_range = list(range(1, 31))\n",
        "print(k_range)"
      ],
      "execution_count": 104,
      "outputs": [
        {
          "output_type": "stream",
          "text": [
            "[1, 2, 3, 4, 5, 6, 7, 8, 9, 10, 11, 12, 13, 14, 15, 16, 17, 18, 19, 20, 21, 22, 23, 24, 25, 26, 27, 28, 29, 30]\n"
          ],
          "name": "stdout"
        }
      ]
    },
    {
      "cell_type": "code",
      "metadata": {
        "colab_type": "code",
        "id": "1BRYcNGeKnTL",
        "colab": {
          "base_uri": "https://localhost:8080/",
          "height": 34
        },
        "outputId": "a6c3df5a-17f7-4929-ad80-a3f4e8310f8a"
      },
      "source": [
        "# single key-value pair for param_grid\n",
        "param_grid = dict(n_neighbors=k_range)\n",
        "print(param_grid)"
      ],
      "execution_count": 105,
      "outputs": [
        {
          "output_type": "stream",
          "text": [
            "{'n_neighbors': [1, 2, 3, 4, 5, 6, 7, 8, 9, 10, 11, 12, 13, 14, 15, 16, 17, 18, 19, 20, 21, 22, 23, 24, 25, 26, 27, 28, 29, 30]}\n"
          ],
          "name": "stdout"
        }
      ]
    },
    {
      "cell_type": "code",
      "metadata": {
        "colab_type": "code",
        "id": "4ff7JLe6OeX9",
        "colab": {}
      },
      "source": [
        "grid = GridSearchCV(knn, param_grid, cv=10, scoring='accuracy')\n"
      ],
      "execution_count": 0,
      "outputs": []
    },
    {
      "cell_type": "code",
      "metadata": {
        "colab_type": "code",
        "id": "34vTOE95Og46",
        "colab": {
          "base_uri": "https://localhost:8080/",
          "height": 275
        },
        "outputId": "1558f75e-76bd-4cd7-853b-1171067aa4af"
      },
      "source": [
        "grid.fit(X_train, y_train)\n"
      ],
      "execution_count": 107,
      "outputs": [
        {
          "output_type": "stream",
          "text": [
            "/usr/local/lib/python3.6/dist-packages/sklearn/model_selection/_search.py:814: DeprecationWarning: The default of the `iid` parameter will change from True to False in version 0.22 and will be removed in 0.24. This will change numeric results when test-set sizes are unequal.\n",
            "  DeprecationWarning)\n"
          ],
          "name": "stderr"
        },
        {
          "output_type": "execute_result",
          "data": {
            "text/plain": [
              "GridSearchCV(cv=10, error_score='raise-deprecating',\n",
              "             estimator=KNeighborsClassifier(algorithm='auto', leaf_size=30,\n",
              "                                            metric='minkowski',\n",
              "                                            metric_params=None, n_jobs=None,\n",
              "                                            n_neighbors=49, p=2,\n",
              "                                            weights='uniform'),\n",
              "             iid='warn', n_jobs=None,\n",
              "             param_grid={'n_neighbors': [1, 2, 3, 4, 5, 6, 7, 8, 9, 10, 11, 12,\n",
              "                                         13, 14, 15, 16, 17, 18, 19, 20, 21, 22,\n",
              "                                         23, 24, 25, 26, 27, 28, 29, 30]},\n",
              "             pre_dispatch='2*n_jobs', refit=True, return_train_score=False,\n",
              "             scoring='accuracy', verbose=0)"
            ]
          },
          "metadata": {
            "tags": []
          },
          "execution_count": 107
        }
      ]
    },
    {
      "cell_type": "code",
      "metadata": {
        "colab_type": "code",
        "id": "mEYlK2U-Ojne",
        "colab": {
          "base_uri": "https://localhost:8080/",
          "height": 221
        },
        "outputId": "6d74abd6-d784-450b-e72b-bfcc5662e9f8"
      },
      "source": [
        "grid.score\n"
      ],
      "execution_count": 108,
      "outputs": [
        {
          "output_type": "execute_result",
          "data": {
            "text/plain": [
              "<bound method BaseSearchCV.score of GridSearchCV(cv=10, error_score='raise-deprecating',\n",
              "             estimator=KNeighborsClassifier(algorithm='auto', leaf_size=30,\n",
              "                                            metric='minkowski',\n",
              "                                            metric_params=None, n_jobs=None,\n",
              "                                            n_neighbors=49, p=2,\n",
              "                                            weights='uniform'),\n",
              "             iid='warn', n_jobs=None,\n",
              "             param_grid={'n_neighbors': [1, 2, 3, 4, 5, 6, 7, 8, 9, 10, 11, 12,\n",
              "                                         13, 14, 15, 16, 17, 18, 19, 20, 21, 22,\n",
              "                                         23, 24, 25, 26, 27, 28, 29, 30]},\n",
              "             pre_dispatch='2*n_jobs', refit=True, return_train_score=False,\n",
              "             scoring='accuracy', verbose=0)>"
            ]
          },
          "metadata": {
            "tags": []
          },
          "execution_count": 108
        }
      ]
    },
    {
      "cell_type": "code",
      "metadata": {
        "colab_type": "code",
        "id": "MUinIEB7PAma",
        "colab": {
          "base_uri": "https://localhost:8080/",
          "height": 102
        },
        "outputId": "fcfd0978-5b0b-4450-c1ea-6b886c3bf82e"
      },
      "source": [
        "print(grid.best_score_)\n",
        "\n",
        "# Dictionary containing the parameters (k) used to generate that score\n",
        "print(grid.best_params_)\n",
        "\n",
        "# Actual model object fit with those best parameters\n",
        "# Shows default parameters that we did not specify\n",
        "print(grid.best_estimator_)"
      ],
      "execution_count": 109,
      "outputs": [
        {
          "output_type": "stream",
          "text": [
            "0.8829268292682927\n",
            "{'n_neighbors': 6}\n",
            "KNeighborsClassifier(algorithm='auto', leaf_size=30, metric='minkowski',\n",
            "                     metric_params=None, n_jobs=None, n_neighbors=6, p=2,\n",
            "                     weights='uniform')\n"
          ],
          "name": "stdout"
        }
      ]
    },
    {
      "cell_type": "markdown",
      "metadata": {
        "colab_type": "text",
        "id": "UnOdGy34lbwF"
      },
      "source": [
        "# Support Vector Machine"
      ]
    },
    {
      "cell_type": "code",
      "metadata": {
        "colab_type": "code",
        "id": "zr3nv576leYz",
        "colab": {}
      },
      "source": [
        "from sklearn.svm import SVC\n",
        "model_svm= SVC(C=1, kernel='linear')"
      ],
      "execution_count": 0,
      "outputs": []
    },
    {
      "cell_type": "code",
      "metadata": {
        "colab_type": "code",
        "id": "QeikH73Ulyk3",
        "colab": {
          "base_uri": "https://localhost:8080/",
          "height": 85
        },
        "outputId": "7d6daa03-2c8e-4fc1-d6da-a361a87ffa15"
      },
      "source": [
        "model_svm.fit(X_train, y_train)"
      ],
      "execution_count": 111,
      "outputs": [
        {
          "output_type": "execute_result",
          "data": {
            "text/plain": [
              "SVC(C=100, cache_size=200, class_weight=None, coef0=0.0,\n",
              "    decision_function_shape='ovr', degree=3, gamma=0.05, kernel='rbf',\n",
              "    max_iter=-1, probability=False, random_state=None, shrinking=True,\n",
              "    tol=0.001, verbose=False)"
            ]
          },
          "metadata": {
            "tags": []
          },
          "execution_count": 111
        }
      ]
    },
    {
      "cell_type": "code",
      "metadata": {
        "colab_type": "code",
        "id": "PEixeM1bl14d",
        "colab": {}
      },
      "source": [
        "predict_svm =model_svm.predict(X_test)"
      ],
      "execution_count": 0,
      "outputs": []
    },
    {
      "cell_type": "code",
      "metadata": {
        "colab_type": "code",
        "id": "3k-buwIRl56E",
        "colab": {
          "base_uri": "https://localhost:8080/",
          "height": 34
        },
        "outputId": "67bf21d8-1e5e-4f01-c34e-9d7c01f8c3fb"
      },
      "source": [
        "accuracy_score(y_test, predict_svm)"
      ],
      "execution_count": 113,
      "outputs": [
        {
          "output_type": "execute_result",
          "data": {
            "text/plain": [
              "0.9213483146067416"
            ]
          },
          "metadata": {
            "tags": []
          },
          "execution_count": 113
        }
      ]
    },
    {
      "cell_type": "code",
      "metadata": {
        "colab_type": "code",
        "id": "j7KgMF3_l9iO",
        "colab": {
          "base_uri": "https://localhost:8080/",
          "height": 340
        },
        "outputId": "3654e148-84f4-4a1d-baa4-0c76ba8fc00e"
      },
      "source": [
        "from sklearn.metrics import accuracy_score, classification_report, confusion_matrix, roc_curve, auc\n",
        "cm = confusion_matrix(y_test, predict_svm)\n",
        "plt.rcParams['figure.figsize'] = (5, 5)\n",
        "sb.heatmap(cm, annot = True, annot_kws = {'size':15}, cmap = 'PuBu')"
      ],
      "execution_count": 114,
      "outputs": [
        {
          "output_type": "execute_result",
          "data": {
            "text/plain": [
              "<matplotlib.axes._subplots.AxesSubplot at 0x7fde8e1e9358>"
            ]
          },
          "metadata": {
            "tags": []
          },
          "execution_count": 114
        },
        {
          "output_type": "display_data",
          "data": {
            "image/png": "[encoded data removed]",
            "text/plain": [
              "<Figure size 360x360 with 2 Axes>"
            ]
          },
          "metadata": {
            "tags": []
          }
        }
      ]
    },
    {
      "cell_type": "code",
      "metadata": {
        "colab_type": "code",
        "id": "AEOz59egmGN8",
        "colab": {
          "base_uri": "https://localhost:8080/",
          "height": 51
        },
        "outputId": "b0d5bf2e-65e3-419c-d015-c8f7238f4d16"
      },
      "source": [
        "total=sum(sum(cm))\n",
        "\n",
        "sensitivity = cm[0,0]/(cm[0,0]+cm[0,1])\n",
        "print('Sensitivity : ', sensitivity )\n",
        "\n",
        "specificity = cm[1,1]/(cm[1,0]+cm[1,1])\n",
        "print('Specificity : ', specificity)"
      ],
      "execution_count": 115,
      "outputs": [
        {
          "output_type": "stream",
          "text": [
            "Sensitivity :  0.6666666666666666\n",
            "Specificity :  1.0\n"
          ],
          "name": "stdout"
        }
      ]
    },
    {
      "cell_type": "code",
      "metadata": {
        "colab_type": "code",
        "id": "zKB_zdC6mKs8",
        "colab": {
          "base_uri": "https://localhost:8080/",
          "height": 350
        },
        "outputId": "4d68c128-80f1-4b47-94a0-14c6e93da2eb"
      },
      "source": [
        "from sklearn.metrics import roc_curve\n",
        "\n",
        "fpr, tpr, thresholds = roc_curve(y_test, predict_svm)\n",
        "\n",
        "fig, ax = plt.subplots()\n",
        "ax.plot(fpr, tpr)\n",
        "ax.plot([0, 1], [0, 1], transform=ax.transAxes, ls=\"-\", c=\".3\")\n",
        "plt.xlim([0.0, 1.0])\n",
        "plt.ylim([0.0, 1.0])\n",
        "\n",
        "plt.rcParams['figure.figsize'] = (15, 5)\n",
        "plt.title('ROC curve for Blood Pressure classifier', fontweight = 30)\n",
        "plt.xlabel('False Positive Rate (1 - Specificity)')\n",
        "plt.ylabel('True Positive Rate (Sensitivity)')\n",
        "plt.show()"
      ],
      "execution_count": 116,
      "outputs": [
        {
          "output_type": "display_data",
          "data": {
            "image/png": "[encoded data removed]",
            "text/plain": [
              "<Figure size 360x360 with 1 Axes>"
            ]
          },
          "metadata": {
            "tags": []
          }
        }
      ]
    },
    {
      "cell_type": "code",
      "metadata": {
        "colab_type": "code",
        "id": "s_7LBlT37w8B",
        "colab": {
          "base_uri": "https://localhost:8080/",
          "height": 34
        },
        "outputId": "35778b47-be1f-4abb-8207-22adc4aaa707"
      },
      "source": [
        "from sklearn.model_selection import GridSearchCV\n",
        "#Grid Search  to find the value from kernel , c , gamma\n",
        "#parameters=[{'kernel':['linear'], 'C':[1,10,100,1000,10000]},\n",
        " #           {'kernel':['rbf'],'gamma':[0.5, 0.1, 0.05,0.07,0.08], 'C':[1,10,100,1000,10000]}]\n",
        "#grid_model_svc= GridSearchCV(SVC(), parameters)\n",
        "#grid_model_svc.fit(X_train, y_train)\n",
        "#grid_model_svc.best_score_"
      ],
      "execution_count": 147,
      "outputs": [
        {
          "output_type": "execute_result",
          "data": {
            "text/plain": [
              "0.9463414634146341"
            ]
          },
          "metadata": {
            "tags": []
          },
          "execution_count": 147
        }
      ]
    },
    {
      "cell_type": "code",
      "metadata": {
        "colab_type": "code",
        "id": "ne69wwPk7zqD",
        "colab": {
          "base_uri": "https://localhost:8080/",
          "height": 34
        },
        "outputId": "19685831-2228-46a6-c8eb-5623aaa2f6e3"
      },
      "source": [
        "#grid_model_svc.best_params_"
      ],
      "execution_count": 148,
      "outputs": [
        {
          "output_type": "execute_result",
          "data": {
            "text/plain": [
              "{'C': 1, 'kernel': 'linear'}"
            ]
          },
          "metadata": {
            "tags": []
          },
          "execution_count": 148
        }
      ]
    },
    {
      "cell_type": "markdown",
      "metadata": {
        "colab_type": "text",
        "id": "oZpt6IltnDSG"
      },
      "source": [
        "# XGBoost Classifier"
      ]
    },
    {
      "cell_type": "code",
      "metadata": {
        "colab_type": "code",
        "id": "MZp5Gf5VnGRl",
        "colab": {}
      },
      "source": [
        "from xgboost import XGBClassifier\n",
        "model_xg = XGBClassifier(learning_rate =0.1,\n",
        " n_estimators=1000,\n",
        " max_depth=3,\n",
        " min_child_weight=5,\n",
        " gamma=0.4,\n",
        " subsample=0.8,\n",
        " colsample_bytree=0.8,\n",
        " objective= 'binary:logistic',\n",
        " nthread=4,\n",
        " scale_pos_weight=1,\n",
        " seed=27)"
      ],
      "execution_count": 0,
      "outputs": []
    },
    {
      "cell_type": "code",
      "metadata": {
        "colab_type": "code",
        "id": "shWMi5NpnRDD",
        "colab": {
          "base_uri": "https://localhost:8080/",
          "height": 136
        },
        "outputId": "846bd2e4-c891-4719-bc95-06d59e04f30b"
      },
      "source": [
        "model_xg.fit(X_train,y_train)"
      ],
      "execution_count": 120,
      "outputs": [
        {
          "output_type": "execute_result",
          "data": {
            "text/plain": [
              "XGBClassifier(base_score=0.5, booster='gbtree', colsample_bylevel=1,\n",
              "              colsample_bynode=1, colsample_bytree=0.8, gamma=0.4,\n",
              "              learning_rate=0.1, max_delta_step=0, max_depth=3,\n",
              "              min_child_weight=5, missing=None, n_estimators=1000, n_jobs=1,\n",
              "              nthread=4, objective='binary:logistic', random_state=0,\n",
              "              reg_alpha=0, reg_lambda=1, scale_pos_weight=1, seed=27,\n",
              "              silent=None, subsample=0.8, verbosity=1)"
            ]
          },
          "metadata": {
            "tags": []
          },
          "execution_count": 120
        }
      ]
    },
    {
      "cell_type": "code",
      "metadata": {
        "colab_type": "code",
        "id": "aiBMAsF9nVvT",
        "colab": {}
      },
      "source": [
        "predict_xg= model_xg.predict(X_test)"
      ],
      "execution_count": 0,
      "outputs": []
    },
    {
      "cell_type": "code",
      "metadata": {
        "colab_type": "code",
        "id": "q2WmRHPHnbyC",
        "colab": {
          "base_uri": "https://localhost:8080/",
          "height": 34
        },
        "outputId": "08c0bcd3-8002-43f3-9986-6ee190fcdb89"
      },
      "source": [
        "accuracy_score(y_test, predict_xg)"
      ],
      "execution_count": 122,
      "outputs": [
        {
          "output_type": "execute_result",
          "data": {
            "text/plain": [
              "0.9325842696629213"
            ]
          },
          "metadata": {
            "tags": []
          },
          "execution_count": 122
        }
      ]
    },
    {
      "cell_type": "code",
      "metadata": {
        "colab_type": "code",
        "id": "ni1fS1-4newy",
        "colab": {
          "base_uri": "https://localhost:8080/",
          "height": 340
        },
        "outputId": "0c67e46f-b253-483a-e4f8-bcc010451516"
      },
      "source": [
        "from sklearn.metrics import accuracy_score, classification_report, confusion_matrix, roc_curve, auc\n",
        "cm = confusion_matrix(y_test, predict_xg)\n",
        "plt.rcParams['figure.figsize'] = (5, 5)\n",
        "sb.heatmap(cm, annot = True, annot_kws = {'size':15}, cmap = 'PuBu')"
      ],
      "execution_count": 123,
      "outputs": [
        {
          "output_type": "execute_result",
          "data": {
            "text/plain": [
              "<matplotlib.axes._subplots.AxesSubplot at 0x7fde8c31ba58>"
            ]
          },
          "metadata": {
            "tags": []
          },
          "execution_count": 123
        },
        {
          "output_type": "display_data",
          "data": {
            "image/png": "[encoded data removed]",
            "text/plain": [
              "<Figure size 360x360 with 2 Axes>"
            ]
          },
          "metadata": {
            "tags": []
          }
        }
      ]
    },
    {
      "cell_type": "code",
      "metadata": {
        "colab_type": "code",
        "id": "vvrL7g5-nlF7",
        "colab": {
          "base_uri": "https://localhost:8080/",
          "height": 51
        },
        "outputId": "81a41c81-2672-4426-cb93-d71c61f1abe8"
      },
      "source": [
        "total=sum(sum(cm))\n",
        "\n",
        "sensitivity = cm[0,0]/(cm[0,0]+cm[0,1])\n",
        "print('Sensitivity : ', sensitivity )\n",
        "\n",
        "specificity = cm[1,1]/(cm[1,0]+cm[1,1])\n",
        "print('Specificity : ', specificity)"
      ],
      "execution_count": 124,
      "outputs": [
        {
          "output_type": "stream",
          "text": [
            "Sensitivity :  0.7142857142857143\n",
            "Specificity :  1.0\n"
          ],
          "name": "stdout"
        }
      ]
    },
    {
      "cell_type": "code",
      "metadata": {
        "colab_type": "code",
        "id": "yuY9OjpYnu0r",
        "colab": {
          "base_uri": "https://localhost:8080/",
          "height": 350
        },
        "outputId": "7962be26-85c3-4fbf-8398-accab0c0609a"
      },
      "source": [
        "from sklearn.metrics import roc_curve\n",
        "\n",
        "fpr, tpr, thresholds = roc_curve(y_test, predict_xg)\n",
        "\n",
        "fig, ax = plt.subplots()\n",
        "ax.plot(fpr, tpr)\n",
        "ax.plot([0, 1], [0, 1], transform=ax.transAxes, ls=\"-\", c=\".3\")\n",
        "plt.xlim([0.0, 1.0])\n",
        "plt.ylim([0.0, 1.0])\n",
        "\n",
        "plt.rcParams['figure.figsize'] = (15, 5)\n",
        "plt.title('ROC curve for Blood Pressure classifier', fontweight = 30)\n",
        "plt.xlabel('False Positive Rate (1 - Specificity)')\n",
        "plt.ylabel('True Positive Rate (Sensitivity)')\n",
        "plt.show()"
      ],
      "execution_count": 125,
      "outputs": [
        {
          "output_type": "display_data",
          "data": {
            "image/png": "[encoded data removed]",
            "text/plain": [
              "<Figure size 360x360 with 1 Axes>"
            ]
          },
          "metadata": {
            "tags": []
          }
        }
      ]
    },
    {
      "cell_type": "code",
      "metadata": {
        "colab_type": "code",
        "id": "w-XGY1LZxyry",
        "colab": {
          "base_uri": "https://localhost:8080/",
          "height": 323
        },
        "outputId": "a5db1825-0010-4ee0-89a2-47d2dfaf66a3"
      },
      "source": [
        "param_test1 = {\n",
        " 'max_depth':range(3,10,2),\n",
        " 'min_child_weight':range(1,6,2)\n",
        "}\n",
        "gsearch1 = GridSearchCV(estimator = XGBClassifier( learning_rate =0.1, n_estimators=140, max_depth=5,\n",
        " min_child_weight=1, gamma=0, subsample=0.8, colsample_bytree=0.8,\n",
        " objective= 'binary:logistic', nthread=4, scale_pos_weight=1, seed=27), \n",
        " param_grid = param_test1, scoring='roc_auc',n_jobs=4,iid=False, cv=5)\n",
        "gsearch1.fit(X_train,y_train)\n",
        "gsearch1.score, gsearch1.best_params_, gsearch1.best_score_"
      ],
      "execution_count": 126,
      "outputs": [
        {
          "output_type": "execute_result",
          "data": {
            "text/plain": [
              "(<bound method BaseSearchCV.score of GridSearchCV(cv=5, error_score='raise-deprecating',\n",
              "              estimator=XGBClassifier(base_score=0.5, booster='gbtree',\n",
              "                                      colsample_bylevel=1, colsample_bynode=1,\n",
              "                                      colsample_bytree=0.8, gamma=0,\n",
              "                                      learning_rate=0.1, max_delta_step=0,\n",
              "                                      max_depth=5, min_child_weight=1,\n",
              "                                      missing=None, n_estimators=140, n_jobs=1,\n",
              "                                      nthread=4, objective='binary:logistic',\n",
              "                                      random_state=0, reg_alpha=0, reg_lambda=1,\n",
              "                                      scale_pos_weight=1, seed=27, silent=None,\n",
              "                                      subsample=0.8, verbosity=1),\n",
              "              iid=False, n_jobs=4,\n",
              "              param_grid={'max_depth': range(3, 10, 2),\n",
              "                          'min_child_weight': range(1, 6, 2)},\n",
              "              pre_dispatch='2*n_jobs', refit=True, return_train_score=False,\n",
              "              scoring='roc_auc', verbose=0)>,\n",
              " {'max_depth': 3, 'min_child_weight': 3},\n",
              " 0.9952380952380953)"
            ]
          },
          "metadata": {
            "tags": []
          },
          "execution_count": 126
        }
      ]
    },
    {
      "cell_type": "code",
      "metadata": {
        "colab_type": "code",
        "id": "HlqIp9cNyiV6",
        "colab": {
          "base_uri": "https://localhost:8080/",
          "height": 306
        },
        "outputId": "a37e95b8-e569-49a6-b088-e6a5db9e7eba"
      },
      "source": [
        "param_test3 = {\n",
        " 'gamma':[i/10.0 for i in range(0,5)]\n",
        "}\n",
        "gsearch3 = GridSearchCV(estimator = XGBClassifier( learning_rate =0.1, n_estimators=140, max_depth=4,\n",
        " min_child_weight=6, gamma=0, subsample=0.8, colsample_bytree=0.8,\n",
        " objective= 'binary:logistic', nthread=4, scale_pos_weight=1,seed=27), \n",
        " param_grid = param_test3, scoring='roc_auc',n_jobs=4,iid=False, cv=5)\n",
        "gsearch3.fit(X_train,y_train)\n",
        "gsearch3.score, gsearch3.best_params_, gsearch3.best_score_"
      ],
      "execution_count": 127,
      "outputs": [
        {
          "output_type": "execute_result",
          "data": {
            "text/plain": [
              "(<bound method BaseSearchCV.score of GridSearchCV(cv=5, error_score='raise-deprecating',\n",
              "              estimator=XGBClassifier(base_score=0.5, booster='gbtree',\n",
              "                                      colsample_bylevel=1, colsample_bynode=1,\n",
              "                                      colsample_bytree=0.8, gamma=0,\n",
              "                                      learning_rate=0.1, max_delta_step=0,\n",
              "                                      max_depth=4, min_child_weight=6,\n",
              "                                      missing=None, n_estimators=140, n_jobs=1,\n",
              "                                      nthread=4, objective='binary:logistic',\n",
              "                                      random_state=0, reg_alpha=0, reg_lambda=1,\n",
              "                                      scale_pos_weight=1, seed=27, silent=None,\n",
              "                                      subsample=0.8, verbosity=1),\n",
              "              iid=False, n_jobs=4,\n",
              "              param_grid={'gamma': [0.0, 0.1, 0.2, 0.3, 0.4]},\n",
              "              pre_dispatch='2*n_jobs', refit=True, return_train_score=False,\n",
              "              scoring='roc_auc', verbose=0)>,\n",
              " {'gamma': 0.0},\n",
              " 0.9804761904761905)"
            ]
          },
          "metadata": {
            "tags": []
          },
          "execution_count": 127
        }
      ]
    },
    {
      "cell_type": "code",
      "metadata": {
        "colab_type": "code",
        "id": "6mZvHUP2y7Lj",
        "colab": {
          "base_uri": "https://localhost:8080/",
          "height": 323
        },
        "outputId": "d36a465e-f682-4a3b-e4ad-22f22f647fe8"
      },
      "source": [
        "param_test4 = {\n",
        " 'subsample':[i/10.0 for i in range(6,10)],\n",
        " 'colsample_bytree':[i/10.0 for i in range(6,10)]\n",
        "}\n",
        "gsearch4 = GridSearchCV(estimator = XGBClassifier( learning_rate =0.1, n_estimators=177, max_depth=4,\n",
        " min_child_weight=6, gamma=0, subsample=0.8, colsample_bytree=0.8,\n",
        " objective= 'binary:logistic', nthread=4, scale_pos_weight=1,seed=27), \n",
        " param_grid = param_test4, scoring='roc_auc',n_jobs=4,iid=False, cv=5)\n",
        "gsearch4.fit(X_train,y_train)\n",
        "gsearch4.score, gsearch4.best_params_, gsearch4.best_score_"
      ],
      "execution_count": 128,
      "outputs": [
        {
          "output_type": "execute_result",
          "data": {
            "text/plain": [
              "(<bound method BaseSearchCV.score of GridSearchCV(cv=5, error_score='raise-deprecating',\n",
              "              estimator=XGBClassifier(base_score=0.5, booster='gbtree',\n",
              "                                      colsample_bylevel=1, colsample_bynode=1,\n",
              "                                      colsample_bytree=0.8, gamma=0,\n",
              "                                      learning_rate=0.1, max_delta_step=0,\n",
              "                                      max_depth=4, min_child_weight=6,\n",
              "                                      missing=None, n_estimators=177, n_jobs=1,\n",
              "                                      nthread=4, objective='binary:logistic',\n",
              "                                      random_state=0, reg_alpha=0, reg_lambda=1,\n",
              "                                      scale_pos_weight=1, seed=27, silent=None,\n",
              "                                      subsample=0.8, verbosity=1),\n",
              "              iid=False, n_jobs=4,\n",
              "              param_grid={'colsample_bytree': [0.6, 0.7, 0.8, 0.9],\n",
              "                          'subsample': [0.6, 0.7, 0.8, 0.9]},\n",
              "              pre_dispatch='2*n_jobs', refit=True, return_train_score=False,\n",
              "              scoring='roc_auc', verbose=0)>,\n",
              " {'colsample_bytree': 0.6, 'subsample': 0.9},\n",
              " 0.9890476190476191)"
            ]
          },
          "metadata": {
            "tags": []
          },
          "execution_count": 128
        }
      ]
    },
    {
      "cell_type": "code",
      "metadata": {
        "colab_type": "code",
        "id": "aP419ICBzMf0",
        "colab": {
          "base_uri": "https://localhost:8080/",
          "height": 306
        },
        "outputId": "5c30452b-bc41-4b58-b7a0-9cdbd99fca92"
      },
      "source": [
        "param_test6 = {\n",
        " 'reg_alpha':[1e-5, 1e-2, 0.1, 1, 100]\n",
        "}\n",
        "gsearch6 = GridSearchCV(estimator = XGBClassifier( learning_rate =0.1, n_estimators=177, max_depth=4,\n",
        " min_child_weight=6, gamma=0.1, subsample=0.8, colsample_bytree=0.8,\n",
        " objective= 'binary:logistic', nthread=4, scale_pos_weight=1,seed=27), \n",
        " param_grid = param_test6, scoring='roc_auc',n_jobs=4,iid=False, cv=5)\n",
        "gsearch6.fit(X_train,y_train)\n",
        "gsearch6.score, gsearch6.best_params_, gsearch6.best_score_"
      ],
      "execution_count": 129,
      "outputs": [
        {
          "output_type": "execute_result",
          "data": {
            "text/plain": [
              "(<bound method BaseSearchCV.score of GridSearchCV(cv=5, error_score='raise-deprecating',\n",
              "              estimator=XGBClassifier(base_score=0.5, booster='gbtree',\n",
              "                                      colsample_bylevel=1, colsample_bynode=1,\n",
              "                                      colsample_bytree=0.8, gamma=0.1,\n",
              "                                      learning_rate=0.1, max_delta_step=0,\n",
              "                                      max_depth=4, min_child_weight=6,\n",
              "                                      missing=None, n_estimators=177, n_jobs=1,\n",
              "                                      nthread=4, objective='binary:logistic',\n",
              "                                      random_state=0, reg_alpha=0, reg_lambda=1,\n",
              "                                      scale_pos_weight=1, seed=27, silent=None,\n",
              "                                      subsample=0.8, verbosity=1),\n",
              "              iid=False, n_jobs=4,\n",
              "              param_grid={'reg_alpha': [1e-05, 0.01, 0.1, 1, 100]},\n",
              "              pre_dispatch='2*n_jobs', refit=True, return_train_score=False,\n",
              "              scoring='roc_auc', verbose=0)>,\n",
              " {'reg_alpha': 1e-05},\n",
              " 0.9823809523809525)"
            ]
          },
          "metadata": {
            "tags": []
          },
          "execution_count": 129
        }
      ]
    },
    {
      "cell_type": "markdown",
      "metadata": {
        "colab_type": "text",
        "id": "fjJdo4Mbn4w2"
      },
      "source": [
        "# Ada Boost Classifier"
      ]
    },
    {
      "cell_type": "code",
      "metadata": {
        "colab_type": "code",
        "id": "wnJbIuWGo_Jf",
        "colab": {}
      },
      "source": [
        "from sklearn.ensemble import AdaBoostClassifier\n",
        "from sklearn import datasets"
      ],
      "execution_count": 0,
      "outputs": []
    },
    {
      "cell_type": "code",
      "metadata": {
        "colab_type": "code",
        "id": "PrludP2Uo_nl",
        "colab": {}
      },
      "source": [
        "model_abc= AdaBoostClassifier(n_estimators=100,\n",
        "                         learning_rate=1, base_estimator=model_rf)"
      ],
      "execution_count": 0,
      "outputs": []
    },
    {
      "cell_type": "code",
      "metadata": {
        "colab_type": "code",
        "id": "PRWqnSz1pHIh",
        "colab": {
          "base_uri": "https://localhost:8080/",
          "height": 340
        },
        "outputId": "d322880b-f2a8-4563-e583-ac0c4d2cdb3c"
      },
      "source": [
        "model_abc.fit(X_train, y_train)\n"
      ],
      "execution_count": 132,
      "outputs": [
        {
          "output_type": "execute_result",
          "data": {
            "text/plain": [
              "AdaBoostClassifier(algorithm='SAMME.R',\n",
              "                   base_estimator=RandomForestClassifier(bootstrap=True,\n",
              "                                                         class_weight=None,\n",
              "                                                         criterion='gini',\n",
              "                                                         max_depth=15,\n",
              "                                                         max_features='auto',\n",
              "                                                         max_leaf_nodes=None,\n",
              "                                                         min_impurity_decrease=0.0,\n",
              "                                                         min_impurity_split=None,\n",
              "                                                         min_samples_leaf=1,\n",
              "                                                         min_samples_split=2,\n",
              "                                                         min_weight_fraction_leaf=0.0,\n",
              "                                                         n_estimators=500,\n",
              "                                                         n_jobs=None,\n",
              "                                                         oob_score=False,\n",
              "                                                         random_state=1,\n",
              "                                                         verbose=0,\n",
              "                                                         warm_start=False),\n",
              "                   learning_rate=1, n_estimators=100, random_state=None)"
            ]
          },
          "metadata": {
            "tags": []
          },
          "execution_count": 132
        }
      ]
    },
    {
      "cell_type": "code",
      "metadata": {
        "colab_type": "code",
        "id": "eLq5x8M4pL-W",
        "colab": {}
      },
      "source": [
        "predict_abc = model_abc.predict(X_test)\n"
      ],
      "execution_count": 0,
      "outputs": []
    },
    {
      "cell_type": "code",
      "metadata": {
        "colab_type": "code",
        "id": "Ac_QnEgtpRGv",
        "colab": {
          "base_uri": "https://localhost:8080/",
          "height": 34
        },
        "outputId": "922b1c01-ff1f-4c69-fc67-5cf016be9e91"
      },
      "source": [
        "accuracy_score(y_test, predict_abc)"
      ],
      "execution_count": 134,
      "outputs": [
        {
          "output_type": "execute_result",
          "data": {
            "text/plain": [
              "0.9213483146067416"
            ]
          },
          "metadata": {
            "tags": []
          },
          "execution_count": 134
        }
      ]
    },
    {
      "cell_type": "code",
      "metadata": {
        "colab_type": "code",
        "id": "5xq3HYAspWlW",
        "colab": {
          "base_uri": "https://localhost:8080/",
          "height": 340
        },
        "outputId": "061a6bc0-78be-4124-9ab5-55bf7b0a78c1"
      },
      "source": [
        "from sklearn.metrics import accuracy_score, classification_report, confusion_matrix, roc_curve, auc\n",
        "cm = confusion_matrix(y_test, predict_abc)\n",
        "plt.rcParams['figure.figsize'] = (5, 5)\n",
        "sb.heatmap(cm, annot = True, annot_kws = {'size':15}, cmap = 'PuBu')"
      ],
      "execution_count": 135,
      "outputs": [
        {
          "output_type": "execute_result",
          "data": {
            "text/plain": [
              "<matplotlib.axes._subplots.AxesSubplot at 0x7fde81af7c50>"
            ]
          },
          "metadata": {
            "tags": []
          },
          "execution_count": 135
        },
        {
          "output_type": "display_data",
          "data": {
            "image/png": "[encoded data removed]",
            "text/plain": [
              "<Figure size 360x360 with 2 Axes>"
            ]
          },
          "metadata": {
            "tags": []
          }
        }
      ]
    },
    {
      "cell_type": "code",
      "metadata": {
        "colab_type": "code",
        "id": "EjD8fKCapbfD",
        "colab": {
          "base_uri": "https://localhost:8080/",
          "height": 51
        },
        "outputId": "4be8f890-e545-4d6e-bef4-608d87b7a6c9"
      },
      "source": [
        "total=sum(sum(cm))\n",
        "\n",
        "sensitivity = cm[0,0]/(cm[0,0]+cm[0,1])\n",
        "print('Sensitivity : ', sensitivity )\n",
        "\n",
        "specificity = cm[1,1]/(cm[1,0]+cm[1,1])\n",
        "print('Specificity : ', specificity)"
      ],
      "execution_count": 136,
      "outputs": [
        {
          "output_type": "stream",
          "text": [
            "Sensitivity :  0.6666666666666666\n",
            "Specificity :  1.0\n"
          ],
          "name": "stdout"
        }
      ]
    },
    {
      "cell_type": "code",
      "metadata": {
        "colab_type": "code",
        "id": "YDf5TpKzqWIt",
        "colab": {
          "base_uri": "https://localhost:8080/",
          "height": 350
        },
        "outputId": "b80da7d6-b83b-4c7c-b2a8-9c4d7700e585"
      },
      "source": [
        "from sklearn.metrics import roc_curve\n",
        "\n",
        "fpr, tpr, thresholds = roc_curve(y_test, predict_abc)\n",
        "\n",
        "fig, ax = plt.subplots()\n",
        "ax.plot(fpr, tpr)\n",
        "ax.plot([0, 1], [0, 1], transform=ax.transAxes, ls=\"-\", c=\".3\")\n",
        "plt.xlim([0.0, 1.0])\n",
        "plt.ylim([0.0, 1.0])\n",
        "\n",
        "plt.rcParams['figure.figsize'] = (15, 5)\n",
        "plt.title('ROC curve for Blood Pressure classifier', fontweight = 30)\n",
        "plt.xlabel('False Positive Rate (1 - Specificity)')\n",
        "plt.ylabel('True Positive Rate (Sensitivity)')\n",
        "plt.show()"
      ],
      "execution_count": 137,
      "outputs": [
        {
          "output_type": "display_data",
          "data": {
            "image/png": "[encoded data removed]",
            "text/plain": [
              "<Figure size 360x360 with 1 Axes>"
            ]
          },
          "metadata": {
            "tags": []
          }
        }
      ]
    },
    {
      "cell_type": "code",
      "metadata": {
        "colab_type": "code",
        "id": "VMFzg0h2VumU",
        "colab": {
          "base_uri": "https://localhost:8080/",
          "height": 34
        },
        "outputId": "fc2f644d-d9d1-4d86-9aaf-035e37a9d290"
      },
      "source": [
        "# Accuracy Logistic Regression\n",
        "lr_accuracy=accuracy_score(y_test, predict_lr)\n",
        "lr_accuracy\n"
      ],
      "execution_count": 138,
      "outputs": [
        {
          "output_type": "execute_result",
          "data": {
            "text/plain": [
              "0.898876404494382"
            ]
          },
          "metadata": {
            "tags": []
          },
          "execution_count": 138
        }
      ]
    },
    {
      "cell_type": "code",
      "metadata": {
        "colab_type": "code",
        "id": "DtIf4aYuWqnH",
        "colab": {
          "base_uri": "https://localhost:8080/",
          "height": 34
        },
        "outputId": "21d837ae-b675-418c-8490-228d62fccd84"
      },
      "source": [
        "# Accuracy Decision Tree\n",
        "dt_accuracy=accuracy_score(y_test, predict_dt)\n",
        "dt_accuracy"
      ],
      "execution_count": 139,
      "outputs": [
        {
          "output_type": "execute_result",
          "data": {
            "text/plain": [
              "0.9325842696629213"
            ]
          },
          "metadata": {
            "tags": []
          },
          "execution_count": 139
        }
      ]
    },
    {
      "cell_type": "code",
      "metadata": {
        "colab_type": "code",
        "id": "cFwVu_7iWsj1",
        "colab": {
          "base_uri": "https://localhost:8080/",
          "height": 34
        },
        "outputId": "42022c68-7c78-4d05-a3cc-b046a4e8ca0c"
      },
      "source": [
        "# Accuracy Random Forest\n",
        "rf_accuracy=accuracy_score(y_test, predict_rf)\n",
        "rf_accuracy"
      ],
      "execution_count": 140,
      "outputs": [
        {
          "output_type": "execute_result",
          "data": {
            "text/plain": [
              "0.9213483146067416"
            ]
          },
          "metadata": {
            "tags": []
          },
          "execution_count": 140
        }
      ]
    },
    {
      "cell_type": "code",
      "metadata": {
        "colab_type": "code",
        "id": "kaWk61tmW0zA",
        "colab": {
          "base_uri": "https://localhost:8080/",
          "height": 34
        },
        "outputId": "a7b2e6d8-7d66-4ea1-d63e-5875732d010c"
      },
      "source": [
        "# Accuracy  XGBoost\n",
        "xg_accuracy=accuracy_score(y_test, predict_xg)\n",
        "xg_accuracy"
      ],
      "execution_count": 141,
      "outputs": [
        {
          "output_type": "execute_result",
          "data": {
            "text/plain": [
              "0.9325842696629213"
            ]
          },
          "metadata": {
            "tags": []
          },
          "execution_count": 141
        }
      ]
    },
    {
      "cell_type": "code",
      "metadata": {
        "colab_type": "code",
        "id": "MXa2D90UW3pb",
        "colab": {
          "base_uri": "https://localhost:8080/",
          "height": 34
        },
        "outputId": "452fdc77-6bd7-4500-f744-34c8f95951e9"
      },
      "source": [
        "# Accuracy Ada Boost\n",
        "ada_accuracy=accuracy_score(y_test, predict_abc)\n",
        "ada_accuracy"
      ],
      "execution_count": 142,
      "outputs": [
        {
          "output_type": "execute_result",
          "data": {
            "text/plain": [
              "0.9213483146067416"
            ]
          },
          "metadata": {
            "tags": []
          },
          "execution_count": 142
        }
      ]
    },
    {
      "cell_type": "code",
      "metadata": {
        "colab_type": "code",
        "id": "UBBRsUzQW5Hh",
        "colab": {
          "base_uri": "https://localhost:8080/",
          "height": 34
        },
        "outputId": "666d3ec4-1683-4485-908f-b28ce8b6fdfd"
      },
      "source": [
        "# Accuracy KNN\n",
        "knn_accuracy=accuracy_score(y_test, predict_knn)\n",
        "knn_accuracy"
      ],
      "execution_count": 143,
      "outputs": [
        {
          "output_type": "execute_result",
          "data": {
            "text/plain": [
              "0.8089887640449438"
            ]
          },
          "metadata": {
            "tags": []
          },
          "execution_count": 143
        }
      ]
    },
    {
      "cell_type": "code",
      "metadata": {
        "colab_type": "code",
        "id": "GA7M1kTsW7Ru",
        "colab": {
          "base_uri": "https://localhost:8080/",
          "height": 34
        },
        "outputId": "89601fd1-c1a8-4b4f-d1d4-5d490a7ff7da"
      },
      "source": [
        "# Accuracy  SVM\n",
        "svm_accuracy=accuracy_score(y_test, predict_svm)\n",
        "svm_accuracy"
      ],
      "execution_count": 144,
      "outputs": [
        {
          "output_type": "execute_result",
          "data": {
            "text/plain": [
              "0.9213483146067416"
            ]
          },
          "metadata": {
            "tags": []
          },
          "execution_count": 144
        }
      ]
    },
    {
      "cell_type": "code",
      "metadata": {
        "id": "RnNcX2x-9XCO",
        "colab_type": "code",
        "colab": {
          "base_uri": "https://localhost:8080/",
          "height": 416
        },
        "outputId": "527a9921-317d-4f77-84c5-ee4e57ac8e87"
      },
      "source": [
        "models = ['Logistic Regression','Decision Tree','Random Forest','XGBoost','Ada Boost','KNeighborsClassifier','SVM']\n",
        "accuracy = [lr_accuracy,dt_accuracy,rf_accuracy,xg_accuracy,ada_accuracy,knn_accuracy,svm_accuracy]\n",
        "\n",
        "ax = sb.barplot(models,accuracy)\n",
        "\n",
        "plt.title(\"Accuracy of differet models\")\n",
        "\n",
        "ax.set_xticklabels(\n",
        "    ax.get_xticklabels(),\n",
        "    rotation=45,\n",
        "    horizontalalignment='right');"
      ],
      "execution_count": 145,
      "outputs": [
        {
          "output_type": "display_data",
          "data": {
            "image/png": "[encoded data removed]",
            "text/plain": [
              "<Figure size 1080x360 with 1 Axes>"
            ]
          },
          "metadata": {
            "tags": []
          }
        }
      ]
    }
  ]
}