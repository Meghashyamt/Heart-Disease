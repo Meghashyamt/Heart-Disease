{
  "nbformat": 4,
  "nbformat_minor": 0,
  "metadata": {
    "colab": {
      "name": "NewHeart_Disease_All.ipynb",
      "version": "0.3.2",
      "provenance": [],
      "collapsed_sections": []
    },
    "kernelspec": {
      "display_name": "Python 3",
      "language": "python",
      "name": "python3"
    },
    "language_info": {
      "codemirror_mode": {
        "name": "ipython",
        "version": 3
      },
      "file_extension": ".py",
      "mimetype": "text/x-python",
      "name": "python",
      "nbconvert_exporter": "python",
      "pygments_lexer": "ipython3",
      "version": "3.7.3"
    }
  },
  "cells": [
    {
      "cell_type": "markdown",
      "metadata": {
        "colab_type": "text",
        "id": "view-in-github"
      },
      "source": [
        "<a href=\"https://colab.research.google.com/github/Meghashyamt/Heart-Disease/blob/master/Heart_Disease_All.ipynb\" target=\"_parent\"><img src=\"https://colab.research.google.com/assets/colab-badge.svg\" alt=\"Open In Colab\"/></a>"
      ]
    },
    {
      "cell_type": "markdown",
      "metadata": {
        "colab_type": "text",
        "id": "aFrLWkzfO4s0"
      },
      "source": [
        "# Heart Disease Data to Improve Process\n"
      ]
    },
    {
      "cell_type": "markdown",
      "metadata": {
        "colab_type": "text",
        "id": "Tsxr2LjsvNHa"
      },
      "source": [
        "**Data Description**\n",
        "\n",
        "**age:** The person's age in years\n",
        "\n",
        "**sex**: The person's sex (1 = male, 0 = female)\n",
        "\n",
        "**cp**: The chest pain experienced (Value 1: typical angina, Value 2: atypical angina, Value 3: non-anginal pain, Value 4: asymptomatic)\n",
        "\n",
        "**trestbps**: The person's resting blood pressure (mm Hg on admission to the hospital)\n",
        "\n",
        "**chol**: The person's cholesterol measurement in mg/dl\n",
        "\n",
        "**fbs**: The person's fasting blood sugar (> 120 mg/dl, 1 = true; 0 = false)\n",
        "\n",
        "**restecg**: Resting electrocardiographic measurement (0 = normal, 1 = having ST-T wave abnormality, 2 = showing probable or definite left ventricular hypertrophy by Estes' criteria)\n",
        "\n",
        "**thalach**: The person's maximum heart rate achieved\n",
        "\n",
        "**exang**: Exercise induced angina (1 = yes; 0 = no)\n",
        "\n",
        "**oldpeak**: ST depression induced by exercise relative to rest ('ST' relates to positions on the ECG plot. See more here)\n",
        "\n",
        "**slope**: the slope of the peak exercise ST segment (Value 1: upsloping, Value 2: flat, Value 3: downsloping)\n",
        "\n",
        "**ca**: The number of major vessels (0-3)\n",
        "\n",
        "**thal**: A blood disorder called thalassemia (3 = normal; 6 = fixed defect; 7 = reversable defect)\n",
        "\n",
        "**target**: Heart disease (0 = no, 1 = yes)"
      ]
    },
    {
      "cell_type": "code",
      "metadata": {
        "colab_type": "code",
        "id": "M8on1iVuPAN-",
        "colab": {}
      },
      "source": [
        "#!git clone https://github.com/Humeraafroz/Heart-Disease"
      ],
      "execution_count": 0,
      "outputs": []
    },
    {
      "cell_type": "markdown",
      "metadata": {
        "colab_type": "text",
        "id": "rWYAj3ZWbXtk"
      },
      "source": [
        "# Importing Libraries"
      ]
    },
    {
      "cell_type": "code",
      "metadata": {
        "colab_type": "code",
        "id": "wsRj3jNPPHnZ",
        "colab": {}
      },
      "source": [
        "#Importing Libraries\n",
        "\n",
        "import seaborn as sb\n",
        "import matplotlib.pyplot as plt\n",
        "\n",
        "\n",
        "import numpy as np\n",
        "import pandas as pd\n"
      ],
      "execution_count": 0,
      "outputs": []
    },
    {
      "cell_type": "code",
      "metadata": {
        "colab_type": "code",
        "id": "OLAjxLXsn-x3",
        "outputId": "7646190d-ffb5-4a67-caea-9a45f10dc6a3",
        "colab": {
          "base_uri": "https://localhost:8080/",
          "height": 204
        }
      },
      "source": [
        "#data = pd.read_csv(\"C:\\\\Users\\\\HP\\\\Downloads\\\\Heart-Disease-master\\\\Heart-Disease-master\\\\heart.csv\")\n",
        "data=pd.read_csv(\"heart_data.csv\")\n",
        "data.head()"
      ],
      "execution_count": 267,
      "outputs": [
        {
          "output_type": "execute_result",
          "data": {
            "text/html": [
              "<div>\n",
              "<style scoped>\n",
              "    .dataframe tbody tr th:only-of-type {\n",
              "        vertical-align: middle;\n",
              "    }\n",
              "\n",
              "    .dataframe tbody tr th {\n",
              "        vertical-align: top;\n",
              "    }\n",
              "\n",
              "    .dataframe thead th {\n",
              "        text-align: right;\n",
              "    }\n",
              "</style>\n",
              "<table border=\"1\" class=\"dataframe\">\n",
              "  <thead>\n",
              "    <tr style=\"text-align: right;\">\n",
              "      <th></th>\n",
              "      <th>age</th>\n",
              "      <th>sex</th>\n",
              "      <th>cp</th>\n",
              "      <th>trestbps</th>\n",
              "      <th>chol</th>\n",
              "      <th>fbs</th>\n",
              "      <th>restecg</th>\n",
              "      <th>thalach</th>\n",
              "      <th>exang</th>\n",
              "      <th>oldpeak</th>\n",
              "      <th>slope</th>\n",
              "      <th>ca</th>\n",
              "      <th>thal</th>\n",
              "      <th>target</th>\n",
              "    </tr>\n",
              "  </thead>\n",
              "  <tbody>\n",
              "    <tr>\n",
              "      <th>0</th>\n",
              "      <td>52</td>\n",
              "      <td>1</td>\n",
              "      <td>0</td>\n",
              "      <td>125</td>\n",
              "      <td>212</td>\n",
              "      <td>0</td>\n",
              "      <td>1</td>\n",
              "      <td>168</td>\n",
              "      <td>0</td>\n",
              "      <td>1.0</td>\n",
              "      <td>2</td>\n",
              "      <td>2</td>\n",
              "      <td>3</td>\n",
              "      <td>0</td>\n",
              "    </tr>\n",
              "    <tr>\n",
              "      <th>1</th>\n",
              "      <td>53</td>\n",
              "      <td>1</td>\n",
              "      <td>0</td>\n",
              "      <td>140</td>\n",
              "      <td>203</td>\n",
              "      <td>1</td>\n",
              "      <td>0</td>\n",
              "      <td>155</td>\n",
              "      <td>1</td>\n",
              "      <td>3.1</td>\n",
              "      <td>0</td>\n",
              "      <td>0</td>\n",
              "      <td>3</td>\n",
              "      <td>0</td>\n",
              "    </tr>\n",
              "    <tr>\n",
              "      <th>2</th>\n",
              "      <td>70</td>\n",
              "      <td>1</td>\n",
              "      <td>0</td>\n",
              "      <td>145</td>\n",
              "      <td>174</td>\n",
              "      <td>0</td>\n",
              "      <td>1</td>\n",
              "      <td>125</td>\n",
              "      <td>1</td>\n",
              "      <td>2.6</td>\n",
              "      <td>0</td>\n",
              "      <td>0</td>\n",
              "      <td>3</td>\n",
              "      <td>0</td>\n",
              "    </tr>\n",
              "    <tr>\n",
              "      <th>3</th>\n",
              "      <td>61</td>\n",
              "      <td>1</td>\n",
              "      <td>0</td>\n",
              "      <td>148</td>\n",
              "      <td>203</td>\n",
              "      <td>0</td>\n",
              "      <td>1</td>\n",
              "      <td>161</td>\n",
              "      <td>0</td>\n",
              "      <td>0.0</td>\n",
              "      <td>2</td>\n",
              "      <td>1</td>\n",
              "      <td>3</td>\n",
              "      <td>0</td>\n",
              "    </tr>\n",
              "    <tr>\n",
              "      <th>4</th>\n",
              "      <td>62</td>\n",
              "      <td>0</td>\n",
              "      <td>0</td>\n",
              "      <td>138</td>\n",
              "      <td>294</td>\n",
              "      <td>1</td>\n",
              "      <td>1</td>\n",
              "      <td>106</td>\n",
              "      <td>0</td>\n",
              "      <td>1.9</td>\n",
              "      <td>1</td>\n",
              "      <td>3</td>\n",
              "      <td>2</td>\n",
              "      <td>0</td>\n",
              "    </tr>\n",
              "  </tbody>\n",
              "</table>\n",
              "</div>"
            ],
            "text/plain": [
              "   age  sex  cp  trestbps  chol  fbs  ...  exang  oldpeak  slope  ca  thal  target\n",
              "0   52    1   0       125   212    0  ...      0      1.0      2   2     3       0\n",
              "1   53    1   0       140   203    1  ...      1      3.1      0   0     3       0\n",
              "2   70    1   0       145   174    0  ...      1      2.6      0   0     3       0\n",
              "3   61    1   0       148   203    0  ...      0      0.0      2   1     3       0\n",
              "4   62    0   0       138   294    1  ...      0      1.9      1   3     2       0\n",
              "\n",
              "[5 rows x 14 columns]"
            ]
          },
          "metadata": {
            "tags": []
          },
          "execution_count": 267
        }
      ]
    },
    {
      "cell_type": "code",
      "metadata": {
        "colab_type": "code",
        "id": "93H2RBu0W3sk",
        "outputId": "8dc5854d-f53f-494f-e96a-05f0c8c596b2",
        "colab": {
          "base_uri": "https://localhost:8080/",
          "height": 34
        }
      },
      "source": [
        "data.shape"
      ],
      "execution_count": 268,
      "outputs": [
        {
          "output_type": "execute_result",
          "data": {
            "text/plain": [
              "(1025, 14)"
            ]
          },
          "metadata": {
            "tags": []
          },
          "execution_count": 268
        }
      ]
    },
    {
      "cell_type": "code",
      "metadata": {
        "colab_type": "code",
        "id": "YhH7WbNwoKIW",
        "outputId": "53fde2e3-f8d4-4a78-b3d6-455f14af6861",
        "colab": {
          "base_uri": "https://localhost:8080/",
          "height": 272
        }
      },
      "source": [
        "data.isnull().sum()"
      ],
      "execution_count": 269,
      "outputs": [
        {
          "output_type": "execute_result",
          "data": {
            "text/plain": [
              "age         0\n",
              "sex         0\n",
              "cp          0\n",
              "trestbps    0\n",
              "chol        0\n",
              "fbs         0\n",
              "restecg     0\n",
              "thalach     0\n",
              "exang       0\n",
              "oldpeak     0\n",
              "slope       0\n",
              "ca          0\n",
              "thal        0\n",
              "target      0\n",
              "dtype: int64"
            ]
          },
          "metadata": {
            "tags": []
          },
          "execution_count": 269
        }
      ]
    },
    {
      "cell_type": "code",
      "metadata": {
        "colab_type": "code",
        "id": "sIySXb8LoON9",
        "outputId": "9aa23f05-ffe3-4e2e-ef03-7b2243453e85",
        "colab": {
          "base_uri": "https://localhost:8080/",
          "height": 1000
        }
      },
      "source": [
        "plt.figure(figsize=(25, 30))\n",
        "ax = sb.heatmap(data.corr(), annot=True)"
      ],
      "execution_count": 270,
      "outputs": [
        {
          "output_type": "display_data",
          "data": {
            "image/png": "[encoded data removed]",
            "text/plain": [
              "<Figure size 1800x2160 with 2 Axes>"
            ]
          },
          "metadata": {
            "tags": []
          }
        }
      ]
    },
    {
      "cell_type": "code",
      "metadata": {
        "colab_type": "code",
        "id": "ph5lzaT6oQ9z",
        "outputId": "d204043c-585c-451b-b29b-e2b6e266ac27",
        "colab": {
          "base_uri": "https://localhost:8080/",
          "height": 354
        }
      },
      "source": [
        "sb.distplot(data['age'])"
      ],
      "execution_count": 271,
      "outputs": [
        {
          "output_type": "execute_result",
          "data": {
            "text/plain": [
              "<matplotlib.axes._subplots.AxesSubplot at 0x7f5219a9b080>"
            ]
          },
          "metadata": {
            "tags": []
          },
          "execution_count": 271
        },
        {
          "output_type": "display_data",
          "data": {
            "image/png": "[encoded data removed]",
            "text/plain": [
              "<Figure size 1080x360 with 1 Axes>"
            ]
          },
          "metadata": {
            "tags": []
          }
        }
      ]
    },
    {
      "cell_type": "code",
      "metadata": {
        "colab_type": "code",
        "id": "dasYnybBoUtR",
        "outputId": "3dba078e-b42f-46b9-c315-e8b562e57b05",
        "colab": {
          "base_uri": "https://localhost:8080/",
          "height": 354
        }
      },
      "source": [
        "sb.boxplot(x=\"target\", y=\"trestbps\", data=data,palette='rainbow')"
      ],
      "execution_count": 272,
      "outputs": [
        {
          "output_type": "execute_result",
          "data": {
            "text/plain": [
              "<matplotlib.axes._subplots.AxesSubplot at 0x7f520b66ae10>"
            ]
          },
          "metadata": {
            "tags": []
          },
          "execution_count": 272
        },
        {
          "output_type": "display_data",
          "data": {
            "image/png": "[encoded data removed]",
            "text/plain": [
              "<Figure size 1080x360 with 1 Axes>"
            ]
          },
          "metadata": {
            "tags": []
          }
        }
      ]
    },
    {
      "cell_type": "code",
      "metadata": {
        "colab_type": "code",
        "id": "tdPmXr5KoX_G",
        "outputId": "a801d369-e7c0-4a88-b51e-5e44f771c4e3",
        "colab": {
          "base_uri": "https://localhost:8080/",
          "height": 354
        }
      },
      "source": [
        "sb.countplot(data.target)"
      ],
      "execution_count": 273,
      "outputs": [
        {
          "output_type": "execute_result",
          "data": {
            "text/plain": [
              "<matplotlib.axes._subplots.AxesSubplot at 0x7f520b64beb8>"
            ]
          },
          "metadata": {
            "tags": []
          },
          "execution_count": 273
        },
        {
          "output_type": "display_data",
          "data": {
            "image/png": "[encoded data removed]",
            "text/plain": [
              "<Figure size 1080x360 with 1 Axes>"
            ]
          },
          "metadata": {
            "tags": []
          }
        }
      ]
    },
    {
      "cell_type": "markdown",
      "metadata": {
        "colab_type": "text",
        "id": "UH32iwlYbXu6"
      },
      "source": [
        "# Exploratory Data Analysis"
      ]
    },
    {
      "cell_type": "code",
      "metadata": {
        "colab_type": "code",
        "id": "cnQ_Y5jUoa4G",
        "colab": {}
      },
      "source": [
        "from sklearn.linear_model import LogisticRegression"
      ],
      "execution_count": 0,
      "outputs": []
    },
    {
      "cell_type": "code",
      "metadata": {
        "colab_type": "code",
        "id": "Hn_12hWVodhH",
        "colab": {}
      },
      "source": [
        "X= data.iloc[:,0:-1]\n",
        "y=data.iloc[:,-1]"
      ],
      "execution_count": 0,
      "outputs": []
    },
    {
      "cell_type": "code",
      "metadata": {
        "colab_type": "code",
        "id": "ygcYz8tRgE7-",
        "colab": {}
      },
      "source": [
        "y = y.apply(lambda x: 1 if x >= 1 else 0)"
      ],
      "execution_count": 0,
      "outputs": []
    },
    {
      "cell_type": "code",
      "metadata": {
        "colab_type": "code",
        "id": "Iqifr-Abof0C",
        "outputId": "d1ada622-2a67-4659-b7a7-3b5d6680043a",
        "colab": {
          "base_uri": "https://localhost:8080/",
          "height": 354
        }
      },
      "source": [
        "sb.violinplot(x=\"target\", y=\"chol\", data=data,palette='rainbow')"
      ],
      "execution_count": 277,
      "outputs": [
        {
          "output_type": "execute_result",
          "data": {
            "text/plain": [
              "<matplotlib.axes._subplots.AxesSubplot at 0x7f520b5fd6a0>"
            ]
          },
          "metadata": {
            "tags": []
          },
          "execution_count": 277
        },
        {
          "output_type": "display_data",
          "data": {
            "image/png": "[encoded data removed]",
            "text/plain": [
              "<Figure size 1080x360 with 1 Axes>"
            ]
          },
          "metadata": {
            "tags": []
          }
        }
      ]
    },
    {
      "cell_type": "code",
      "metadata": {
        "colab_type": "code",
        "id": "gg3Dy-4WojMz",
        "outputId": "413788c3-62ee-4047-be95-405e25217f22",
        "colab": {
          "base_uri": "https://localhost:8080/",
          "height": 545
        }
      },
      "source": [
        "size = data['sex'].value_counts()\n",
        "colors = ['lightblue', 'lightgreen']\n",
        "labels = \"Male\", \"Female\"\n",
        "explode = [0, 0.01]\n",
        "\n",
        "my_circle = plt.Circle((0, 0), 0.7, color = 'white')\n",
        "\n",
        "plt.rcParams['figure.figsize'] = (9, 9)\n",
        "plt.pie(size, colors = colors, labels = labels, shadow = True, explode = explode, autopct = '%.2f%%')\n",
        "plt.title('Distribution of Gender', fontsize = 20)\n",
        "p = plt.gcf()\n",
        "p.gca().add_artist(my_circle)\n",
        "plt.legend()\n",
        "plt.show()"
      ],
      "execution_count": 278,
      "outputs": [
        {
          "output_type": "display_data",
          "data": {
            "image/png": "[encoded data removed]",
            "text/plain": [
              "<Figure size 648x648 with 1 Axes>"
            ]
          },
          "metadata": {
            "tags": []
          }
        }
      ]
    },
    {
      "cell_type": "code",
      "metadata": {
        "colab_type": "code",
        "id": "jsOANqfVomuN",
        "outputId": "ec064b64-35b9-473a-d39d-b283a4a03e1f",
        "colab": {
          "base_uri": "https://localhost:8080/",
          "height": 569
        }
      },
      "source": [
        "plt.rcParams['figure.figsize'] = (12, 9)\n",
        "dat = pd.crosstab(data['target'], data['restecg']) \n",
        "dat.div(dat.sum(1).astype(float), axis = 0).plot(kind = 'bar', \n",
        "                                                 stacked = False, \n",
        "                                                 color = plt.cm.rainbow(np.linspace(0, 1, 4)))\n",
        "plt.title('Relation of ECG measurement with Target', fontsize = 20, fontweight = 30)\n",
        "plt.show()"
      ],
      "execution_count": 279,
      "outputs": [
        {
          "output_type": "display_data",
          "data": {
            "image/png": "[encoded data removed]",
            "text/plain": [
              "<Figure size 864x648 with 1 Axes>"
            ]
          },
          "metadata": {
            "tags": []
          }
        }
      ]
    },
    {
      "cell_type": "code",
      "metadata": {
        "colab_type": "code",
        "id": "uLdoQOM6op86",
        "outputId": "3962bec4-2945-4603-8d76-514e6439dfe5",
        "colab": {
          "base_uri": "https://localhost:8080/",
          "height": 572
        }
      },
      "source": [
        "plt.rcParams['figure.figsize'] = (15, 9)\n",
        "sb.swarmplot(data['target'], data['age'], palette = 'winter', size = 10)\n",
        "plt.title('Relation of Age and target', fontsize = 20, fontweight = 30)\n",
        "plt.show()"
      ],
      "execution_count": 280,
      "outputs": [
        {
          "output_type": "display_data",
          "data": {
            "image/png": "[encoded data removed]",
            "text/plain": [
              "<Figure size 1080x648 with 1 Axes>"
            ]
          },
          "metadata": {
            "tags": []
          }
        }
      ]
    },
    {
      "cell_type": "code",
      "metadata": {
        "id": "rAY1CTgA5wF4",
        "colab_type": "code",
        "colab": {}
      },
      "source": [
        "heart_health=[]\n",
        "for k in data['target']:\n",
        "    if k == 0:\n",
        "        heart_health.append('Healthy Heart')\n",
        "    elif k == 1:\n",
        "        heart_health.append('Heart Disease')"
      ],
      "execution_count": 0,
      "outputs": []
    },
    {
      "cell_type": "code",
      "metadata": {
        "id": "e98FU8GY5mE6",
        "colab_type": "code",
        "colab": {
          "base_uri": "https://localhost:8080/",
          "height": 553
        },
        "outputId": "723c595e-87ec-4628-9b61-0d1b3bf1d0c8"
      },
      "source": [
        "ax = sb.countplot(x='sex',hue=heart_health,data=data,palette='mako_r')\n",
        "\n",
        "plt.title(\"Heart-Health Vs Gender\")    \n",
        "plt.ylabel(\"\")\n",
        "plt.yticks([])\n",
        "plt.xlabel(\"\")\n",
        "\n",
        "for p in ax.patches:\n",
        "    ax.annotate(p.get_height(), (p.get_x()+0.15, p.get_height()+1))\n",
        "ax.set_xticklabels(['Female','Male']);"
      ],
      "execution_count": 282,
      "outputs": [
        {
          "output_type": "display_data",
          "data": {
            "image/png": "[encoded data removed]",
            "text/plain": [
              "<Figure size 1080x648 with 1 Axes>"
            ]
          },
          "metadata": {
            "tags": []
          }
        }
      ]
    },
    {
      "cell_type": "code",
      "metadata": {
        "id": "Puvm2i4V6zQG",
        "colab_type": "code",
        "colab": {
          "base_uri": "https://localhost:8080/",
          "height": 51
        },
        "outputId": "4e30d920-038b-4c82-cc1f-8fcef6fefc91"
      },
      "source": [
        "f = ((data['sex'] == 0) & (data['target'] == 1)).sum()\n",
        "fd =  (data['target'] == 1).sum()\n",
        "print('Percent of Female having heart disease : {:.2f}%'.format(f/fd * 100))\n",
        "\n",
        "m = ((data['sex'] == 1) & (data['target'] == 1)).sum()\n",
        "md =  (data['target'] == 1).sum()\n",
        "print('Percent of Male having heart disease : {:.2f}%'.format(m/md * 100))"
      ],
      "execution_count": 283,
      "outputs": [
        {
          "output_type": "stream",
          "text": [
            "Percent of Female having heart disease : 42.97%\n",
            "Percent of Male having heart disease : 57.03%\n"
          ],
          "name": "stdout"
        }
      ]
    },
    {
      "cell_type": "code",
      "metadata": {
        "id": "HfSNtq0I7Hjd",
        "colab_type": "code",
        "colab": {
          "base_uri": "https://localhost:8080/",
          "height": 553
        },
        "outputId": "4d2a7be7-159c-457b-c88e-a2c59ac4f688"
      },
      "source": [
        "age_group=[]\n",
        "for k in data['age']:\n",
        "    if (k >=29) & (k<40):\n",
        "        age_group.append(0)\n",
        "    elif (k >=40)&(k<55):\n",
        "        age_group.append(1)\n",
        "    else:\n",
        "        age_group.append(2)\n",
        "data['Age-Group'] = age_group\n",
        "plt.title(\"Heart-Health Vs Age group\")\n",
        "ax = sb.countplot(x=age_group,hue=heart_health,palette='bwr')\n",
        "\n",
        "plt.ylabel(\"\")\n",
        "plt.yticks([])\n",
        "plt.xlabel(\"\")\n",
        "for p in ax.patches:\n",
        "    ax.annotate(p.get_height(), (p.get_x()+0.15, p.get_height()+0.5))\n",
        "    \n",
        "ax.set_xticklabels(['Young (29-40)','Mid-Age(40-55)','Old-Age(>55)']);"
      ],
      "execution_count": 284,
      "outputs": [
        {
          "output_type": "display_data",
          "data": {
            "image/png": "[encoded data removed]",
            "text/plain": [
              "<Figure size 1080x648 with 1 Axes>"
            ]
          },
          "metadata": {
            "tags": []
          }
        }
      ]
    },
    {
      "cell_type": "code",
      "metadata": {
        "id": "Xd863ZZa8hOg",
        "colab_type": "code",
        "colab": {
          "base_uri": "https://localhost:8080/",
          "height": 553
        },
        "outputId": "8f20a14a-577a-4e0f-f163-44c9eac61e8e"
      },
      "source": [
        "bp=[]\n",
        "for k in data['trestbps']:\n",
        "    if (k > 130):\n",
        "        bp.append(1) #high bp\n",
        "    else:\n",
        "        bp.append(0) #normal\n",
        "\n",
        "ax = sb.countplot(x=bp,palette='Set3')\n",
        "\n",
        "plt.title(\"Resting Blood Pressure Count\")\n",
        "plt.ylabel(\"\")\n",
        "plt.yticks([])\n",
        "plt.xlabel(\"\")\n",
        "\n",
        "for p in ax.patches:\n",
        "    ax.annotate(p.get_height(), (p.get_x()+0.35, p.get_height()+0.5))\n",
        "    \n",
        "ax.set_xticklabels([\"Normal BP\",\"Abnormal BP\"]);"
      ],
      "execution_count": 285,
      "outputs": [
        {
          "output_type": "display_data",
          "data": {
            "image/png": "[encoded data removed]",
            "text/plain": [
              "<Figure size 1080x648 with 1 Axes>"
            ]
          },
          "metadata": {
            "tags": []
          }
        }
      ]
    },
    {
      "cell_type": "code",
      "metadata": {
        "colab_type": "code",
        "id": "1LtK1Q_jgmnG",
        "outputId": "82e0eeab-73b3-4a14-8a39-326d4e3a387b",
        "colab": {
          "base_uri": "https://localhost:8080/",
          "height": 514
        }
      },
      "source": [
        "correlation = data.corr()\n",
        "correlation"
      ],
      "execution_count": 286,
      "outputs": [
        {
          "output_type": "execute_result",
          "data": {
            "text/html": [
              "<div>\n",
              "<style scoped>\n",
              "    .dataframe tbody tr th:only-of-type {\n",
              "        vertical-align: middle;\n",
              "    }\n",
              "\n",
              "    .dataframe tbody tr th {\n",
              "        vertical-align: top;\n",
              "    }\n",
              "\n",
              "    .dataframe thead th {\n",
              "        text-align: right;\n",
              "    }\n",
              "</style>\n",
              "<table border=\"1\" class=\"dataframe\">\n",
              "  <thead>\n",
              "    <tr style=\"text-align: right;\">\n",
              "      <th></th>\n",
              "      <th>age</th>\n",
              "      <th>sex</th>\n",
              "      <th>cp</th>\n",
              "      <th>trestbps</th>\n",
              "      <th>chol</th>\n",
              "      <th>fbs</th>\n",
              "      <th>restecg</th>\n",
              "      <th>thalach</th>\n",
              "      <th>exang</th>\n",
              "      <th>oldpeak</th>\n",
              "      <th>slope</th>\n",
              "      <th>ca</th>\n",
              "      <th>thal</th>\n",
              "      <th>target</th>\n",
              "      <th>Age-Group</th>\n",
              "    </tr>\n",
              "  </thead>\n",
              "  <tbody>\n",
              "    <tr>\n",
              "      <th>age</th>\n",
              "      <td>1.000000</td>\n",
              "      <td>-0.103240</td>\n",
              "      <td>-0.071966</td>\n",
              "      <td>0.271121</td>\n",
              "      <td>0.219823</td>\n",
              "      <td>0.121243</td>\n",
              "      <td>-0.132696</td>\n",
              "      <td>-0.390227</td>\n",
              "      <td>0.088163</td>\n",
              "      <td>0.208137</td>\n",
              "      <td>-0.169105</td>\n",
              "      <td>0.271551</td>\n",
              "      <td>0.072297</td>\n",
              "      <td>-0.229324</td>\n",
              "      <td>0.868410</td>\n",
              "    </tr>\n",
              "    <tr>\n",
              "      <th>sex</th>\n",
              "      <td>-0.103240</td>\n",
              "      <td>1.000000</td>\n",
              "      <td>-0.041119</td>\n",
              "      <td>-0.078974</td>\n",
              "      <td>-0.198258</td>\n",
              "      <td>0.027200</td>\n",
              "      <td>-0.055117</td>\n",
              "      <td>-0.049365</td>\n",
              "      <td>0.139157</td>\n",
              "      <td>0.084687</td>\n",
              "      <td>-0.026666</td>\n",
              "      <td>0.111729</td>\n",
              "      <td>0.198424</td>\n",
              "      <td>-0.279501</td>\n",
              "      <td>-0.074970</td>\n",
              "    </tr>\n",
              "    <tr>\n",
              "      <th>cp</th>\n",
              "      <td>-0.071966</td>\n",
              "      <td>-0.041119</td>\n",
              "      <td>1.000000</td>\n",
              "      <td>0.038177</td>\n",
              "      <td>-0.081641</td>\n",
              "      <td>0.079294</td>\n",
              "      <td>0.043581</td>\n",
              "      <td>0.306839</td>\n",
              "      <td>-0.401513</td>\n",
              "      <td>-0.174733</td>\n",
              "      <td>0.131633</td>\n",
              "      <td>-0.176206</td>\n",
              "      <td>-0.163341</td>\n",
              "      <td>0.434854</td>\n",
              "      <td>-0.136797</td>\n",
              "    </tr>\n",
              "    <tr>\n",
              "      <th>trestbps</th>\n",
              "      <td>0.271121</td>\n",
              "      <td>-0.078974</td>\n",
              "      <td>0.038177</td>\n",
              "      <td>1.000000</td>\n",
              "      <td>0.127977</td>\n",
              "      <td>0.181767</td>\n",
              "      <td>-0.123794</td>\n",
              "      <td>-0.039264</td>\n",
              "      <td>0.061197</td>\n",
              "      <td>0.187434</td>\n",
              "      <td>-0.120445</td>\n",
              "      <td>0.104554</td>\n",
              "      <td>0.059276</td>\n",
              "      <td>-0.138772</td>\n",
              "      <td>0.283034</td>\n",
              "    </tr>\n",
              "    <tr>\n",
              "      <th>chol</th>\n",
              "      <td>0.219823</td>\n",
              "      <td>-0.198258</td>\n",
              "      <td>-0.081641</td>\n",
              "      <td>0.127977</td>\n",
              "      <td>1.000000</td>\n",
              "      <td>0.026917</td>\n",
              "      <td>-0.147410</td>\n",
              "      <td>-0.021772</td>\n",
              "      <td>0.067382</td>\n",
              "      <td>0.064880</td>\n",
              "      <td>-0.014248</td>\n",
              "      <td>0.074259</td>\n",
              "      <td>0.100244</td>\n",
              "      <td>-0.099966</td>\n",
              "      <td>0.219654</td>\n",
              "    </tr>\n",
              "    <tr>\n",
              "      <th>fbs</th>\n",
              "      <td>0.121243</td>\n",
              "      <td>0.027200</td>\n",
              "      <td>0.079294</td>\n",
              "      <td>0.181767</td>\n",
              "      <td>0.026917</td>\n",
              "      <td>1.000000</td>\n",
              "      <td>-0.104051</td>\n",
              "      <td>-0.008866</td>\n",
              "      <td>0.049261</td>\n",
              "      <td>0.010859</td>\n",
              "      <td>-0.061902</td>\n",
              "      <td>0.137156</td>\n",
              "      <td>-0.042177</td>\n",
              "      <td>-0.041164</td>\n",
              "      <td>0.111938</td>\n",
              "    </tr>\n",
              "    <tr>\n",
              "      <th>restecg</th>\n",
              "      <td>-0.132696</td>\n",
              "      <td>-0.055117</td>\n",
              "      <td>0.043581</td>\n",
              "      <td>-0.123794</td>\n",
              "      <td>-0.147410</td>\n",
              "      <td>-0.104051</td>\n",
              "      <td>1.000000</td>\n",
              "      <td>0.048411</td>\n",
              "      <td>-0.065606</td>\n",
              "      <td>-0.050114</td>\n",
              "      <td>0.086086</td>\n",
              "      <td>-0.078072</td>\n",
              "      <td>-0.020504</td>\n",
              "      <td>0.134468</td>\n",
              "      <td>-0.125102</td>\n",
              "    </tr>\n",
              "    <tr>\n",
              "      <th>thalach</th>\n",
              "      <td>-0.390227</td>\n",
              "      <td>-0.049365</td>\n",
              "      <td>0.306839</td>\n",
              "      <td>-0.039264</td>\n",
              "      <td>-0.021772</td>\n",
              "      <td>-0.008866</td>\n",
              "      <td>0.048411</td>\n",
              "      <td>1.000000</td>\n",
              "      <td>-0.380281</td>\n",
              "      <td>-0.349796</td>\n",
              "      <td>0.395308</td>\n",
              "      <td>-0.207888</td>\n",
              "      <td>-0.098068</td>\n",
              "      <td>0.422895</td>\n",
              "      <td>-0.354800</td>\n",
              "    </tr>\n",
              "    <tr>\n",
              "      <th>exang</th>\n",
              "      <td>0.088163</td>\n",
              "      <td>0.139157</td>\n",
              "      <td>-0.401513</td>\n",
              "      <td>0.061197</td>\n",
              "      <td>0.067382</td>\n",
              "      <td>0.049261</td>\n",
              "      <td>-0.065606</td>\n",
              "      <td>-0.380281</td>\n",
              "      <td>1.000000</td>\n",
              "      <td>0.310844</td>\n",
              "      <td>-0.267335</td>\n",
              "      <td>0.107849</td>\n",
              "      <td>0.197201</td>\n",
              "      <td>-0.438029</td>\n",
              "      <td>0.121673</td>\n",
              "    </tr>\n",
              "    <tr>\n",
              "      <th>oldpeak</th>\n",
              "      <td>0.208137</td>\n",
              "      <td>0.084687</td>\n",
              "      <td>-0.174733</td>\n",
              "      <td>0.187434</td>\n",
              "      <td>0.064880</td>\n",
              "      <td>0.010859</td>\n",
              "      <td>-0.050114</td>\n",
              "      <td>-0.349796</td>\n",
              "      <td>0.310844</td>\n",
              "      <td>1.000000</td>\n",
              "      <td>-0.575189</td>\n",
              "      <td>0.221816</td>\n",
              "      <td>0.202672</td>\n",
              "      <td>-0.438441</td>\n",
              "      <td>0.231102</td>\n",
              "    </tr>\n",
              "    <tr>\n",
              "      <th>slope</th>\n",
              "      <td>-0.169105</td>\n",
              "      <td>-0.026666</td>\n",
              "      <td>0.131633</td>\n",
              "      <td>-0.120445</td>\n",
              "      <td>-0.014248</td>\n",
              "      <td>-0.061902</td>\n",
              "      <td>0.086086</td>\n",
              "      <td>0.395308</td>\n",
              "      <td>-0.267335</td>\n",
              "      <td>-0.575189</td>\n",
              "      <td>1.000000</td>\n",
              "      <td>-0.073440</td>\n",
              "      <td>-0.094090</td>\n",
              "      <td>0.345512</td>\n",
              "      <td>-0.196230</td>\n",
              "    </tr>\n",
              "    <tr>\n",
              "      <th>ca</th>\n",
              "      <td>0.271551</td>\n",
              "      <td>0.111729</td>\n",
              "      <td>-0.176206</td>\n",
              "      <td>0.104554</td>\n",
              "      <td>0.074259</td>\n",
              "      <td>0.137156</td>\n",
              "      <td>-0.078072</td>\n",
              "      <td>-0.207888</td>\n",
              "      <td>0.107849</td>\n",
              "      <td>0.221816</td>\n",
              "      <td>-0.073440</td>\n",
              "      <td>1.000000</td>\n",
              "      <td>0.149014</td>\n",
              "      <td>-0.382085</td>\n",
              "      <td>0.211176</td>\n",
              "    </tr>\n",
              "    <tr>\n",
              "      <th>thal</th>\n",
              "      <td>0.072297</td>\n",
              "      <td>0.198424</td>\n",
              "      <td>-0.163341</td>\n",
              "      <td>0.059276</td>\n",
              "      <td>0.100244</td>\n",
              "      <td>-0.042177</td>\n",
              "      <td>-0.020504</td>\n",
              "      <td>-0.098068</td>\n",
              "      <td>0.197201</td>\n",
              "      <td>0.202672</td>\n",
              "      <td>-0.094090</td>\n",
              "      <td>0.149014</td>\n",
              "      <td>1.000000</td>\n",
              "      <td>-0.337838</td>\n",
              "      <td>0.085455</td>\n",
              "    </tr>\n",
              "    <tr>\n",
              "      <th>target</th>\n",
              "      <td>-0.229324</td>\n",
              "      <td>-0.279501</td>\n",
              "      <td>0.434854</td>\n",
              "      <td>-0.138772</td>\n",
              "      <td>-0.099966</td>\n",
              "      <td>-0.041164</td>\n",
              "      <td>0.134468</td>\n",
              "      <td>0.422895</td>\n",
              "      <td>-0.438029</td>\n",
              "      <td>-0.438441</td>\n",
              "      <td>0.345512</td>\n",
              "      <td>-0.382085</td>\n",
              "      <td>-0.337838</td>\n",
              "      <td>1.000000</td>\n",
              "      <td>-0.281014</td>\n",
              "    </tr>\n",
              "    <tr>\n",
              "      <th>Age-Group</th>\n",
              "      <td>0.868410</td>\n",
              "      <td>-0.074970</td>\n",
              "      <td>-0.136797</td>\n",
              "      <td>0.283034</td>\n",
              "      <td>0.219654</td>\n",
              "      <td>0.111938</td>\n",
              "      <td>-0.125102</td>\n",
              "      <td>-0.354800</td>\n",
              "      <td>0.121673</td>\n",
              "      <td>0.231102</td>\n",
              "      <td>-0.196230</td>\n",
              "      <td>0.211176</td>\n",
              "      <td>0.085455</td>\n",
              "      <td>-0.281014</td>\n",
              "      <td>1.000000</td>\n",
              "    </tr>\n",
              "  </tbody>\n",
              "</table>\n",
              "</div>"
            ],
            "text/plain": [
              "                age       sex        cp  ...      thal    target  Age-Group\n",
              "age        1.000000 -0.103240 -0.071966  ...  0.072297 -0.229324   0.868410\n",
              "sex       -0.103240  1.000000 -0.041119  ...  0.198424 -0.279501  -0.074970\n",
              "cp        -0.071966 -0.041119  1.000000  ... -0.163341  0.434854  -0.136797\n",
              "trestbps   0.271121 -0.078974  0.038177  ...  0.059276 -0.138772   0.283034\n",
              "chol       0.219823 -0.198258 -0.081641  ...  0.100244 -0.099966   0.219654\n",
              "fbs        0.121243  0.027200  0.079294  ... -0.042177 -0.041164   0.111938\n",
              "restecg   -0.132696 -0.055117  0.043581  ... -0.020504  0.134468  -0.125102\n",
              "thalach   -0.390227 -0.049365  0.306839  ... -0.098068  0.422895  -0.354800\n",
              "exang      0.088163  0.139157 -0.401513  ...  0.197201 -0.438029   0.121673\n",
              "oldpeak    0.208137  0.084687 -0.174733  ...  0.202672 -0.438441   0.231102\n",
              "slope     -0.169105 -0.026666  0.131633  ... -0.094090  0.345512  -0.196230\n",
              "ca         0.271551  0.111729 -0.176206  ...  0.149014 -0.382085   0.211176\n",
              "thal       0.072297  0.198424 -0.163341  ...  1.000000 -0.337838   0.085455\n",
              "target    -0.229324 -0.279501  0.434854  ... -0.337838  1.000000  -0.281014\n",
              "Age-Group  0.868410 -0.074970 -0.136797  ...  0.085455 -0.281014   1.000000\n",
              "\n",
              "[15 rows x 15 columns]"
            ]
          },
          "metadata": {
            "tags": []
          },
          "execution_count": 286
        }
      ]
    },
    {
      "cell_type": "code",
      "metadata": {
        "colab_type": "code",
        "id": "OYvWWi9aa9Hi",
        "outputId": "921bfb9d-6d6e-459c-99b1-af81cc6375d6",
        "colab": {
          "base_uri": "https://localhost:8080/",
          "height": 508
        }
      },
      "source": [
        "import matplotlib.pyplot as plt\n",
        "from sklearn.preprocessing import StandardScaler\n",
        "from matplotlib import rc\n",
        "%matplotlib inline\n",
        "Not_Having_Disease = len(data[data.target == 0])\n",
        "Having_Disease =len(data[data.target == 1])+len(data[data.target == 2])+\\\n",
        "len(data[data.target == 3])+len(data[data.target == 4])\n",
        "rc('font', weight='bold')\n",
        "labels = ['Not_Having_Disease', 'Having_Disease']\n",
        "values = [Not_Having_Disease, Having_Disease]\n",
        "explode = (0.1, 0.1)\n",
        "\n",
        "fig_Disease_Level_percentage, ax1 = plt.subplots()\n",
        "plt.title('Heart Disease Levels Percentages\\n\\n')\n",
        "ax1.pie(values,labels=labels, autopct='%1.2f%%',shadow=True)\n",
        "ax1.axis('equal')\n",
        "plt.title('Heart DiseaseLevels Percentages')\n",
        "fig_Disease_Level_percentage, ax = plt.subplots()\n",
        "ax.pie(values,explode=explode ,labels=labels, autopct='%1.2f%%',shadow=True)\n",
        "ax.axis('equal')\n",
        "plt.show()"
      ],
      "execution_count": 287,
      "outputs": [
        {
          "output_type": "display_data",
          "data": {
            "image/png": "[encoded data removed]",
            "text/plain": [
              "<Figure size 432x288 with 1 Axes>"
            ]
          },
          "metadata": {
            "tags": []
          }
        },
        {
          "output_type": "display_data",
          "data": {
            "image/png": "[encoded data removed]",
            "text/plain": [
              "<Figure size 432x288 with 1 Axes>"
            ]
          },
          "metadata": {
            "tags": []
          }
        }
      ]
    },
    {
      "cell_type": "code",
      "metadata": {
        "colab_type": "code",
        "id": "uFXxEC8LotjA",
        "colab": {}
      },
      "source": [
        "from sklearn.model_selection import train_test_split\n",
        "X_train, X_test, y_train, y_test =train_test_split(X,y, test_size=0.30, random_state=30)"
      ],
      "execution_count": 0,
      "outputs": []
    },
    {
      "cell_type": "code",
      "metadata": {
        "colab_type": "code",
        "id": "cg2CzIcDcZfA",
        "colab": {}
      },
      "source": [
        "stdScalaer=StandardScaler()\n",
        "X_train=stdScalaer.fit_transform(X_train)\n",
        "X_test=stdScalaer.fit_transform(X_test)"
      ],
      "execution_count": 0,
      "outputs": []
    },
    {
      "cell_type": "markdown",
      "metadata": {
        "colab_type": "text",
        "id": "ZxjbuOpecK5N"
      },
      "source": [
        "# Logistic Regression"
      ]
    },
    {
      "cell_type": "code",
      "metadata": {
        "colab_type": "code",
        "id": "HVWHtGxccNtI",
        "colab": {}
      },
      "source": [
        "model_lr=LogisticRegression(penalty='l1',C=1.0)"
      ],
      "execution_count": 0,
      "outputs": []
    },
    {
      "cell_type": "code",
      "metadata": {
        "colab_type": "code",
        "id": "Vj-woS16cRCr",
        "outputId": "e8c1b99e-40d3-418e-9e65-6e7d84571eb6",
        "colab": {
          "base_uri": "https://localhost:8080/",
          "height": 102
        }
      },
      "source": [
        "model_lr.fit(X_train,y_train)"
      ],
      "execution_count": 291,
      "outputs": [
        {
          "output_type": "execute_result",
          "data": {
            "text/plain": [
              "LogisticRegression(C=1.0, class_weight=None, dual=False, fit_intercept=True,\n",
              "                   intercept_scaling=1, l1_ratio=None, max_iter=100,\n",
              "                   multi_class='warn', n_jobs=None, penalty='l1',\n",
              "                   random_state=None, solver='warn', tol=0.0001, verbose=0,\n",
              "                   warm_start=False)"
            ]
          },
          "metadata": {
            "tags": []
          },
          "execution_count": 291
        }
      ]
    },
    {
      "cell_type": "code",
      "metadata": {
        "colab_type": "code",
        "id": "zIQzh5AGcULt",
        "colab": {}
      },
      "source": [
        "predict_lr=model_lr.predict(X_test)"
      ],
      "execution_count": 0,
      "outputs": []
    },
    {
      "cell_type": "code",
      "metadata": {
        "colab_type": "code",
        "id": "pqQ_aB5JYA1E",
        "outputId": "bcb3840b-e4a9-4f70-a308-f787d75326fd",
        "colab": {
          "base_uri": "https://localhost:8080/",
          "height": 34
        }
      },
      "source": [
        "from sklearn.metrics import accuracy_score, classification_report, confusion_matrix, roc_curve, auc\n",
        "accuracy_score(y_test, predict_lr)"
      ],
      "execution_count": 293,
      "outputs": [
        {
          "output_type": "execute_result",
          "data": {
            "text/plain": [
              "0.8506493506493507"
            ]
          },
          "metadata": {
            "tags": []
          },
          "execution_count": 293
        }
      ]
    },
    {
      "cell_type": "code",
      "metadata": {
        "colab_type": "code",
        "id": "BzumZTqAcYKJ",
        "outputId": "2ec181b5-aaa8-4007-e689-0aa477cdc5aa",
        "colab": {
          "base_uri": "https://localhost:8080/",
          "height": 340
        }
      },
      "source": [
        "\n",
        "cm = confusion_matrix(y_test, predict_lr)\n",
        "plt.rcParams['figure.figsize'] = (5, 5)\n",
        "sb.heatmap(cm, annot = True, annot_kws = {'size':15}, cmap = 'PuBu')"
      ],
      "execution_count": 294,
      "outputs": [
        {
          "output_type": "execute_result",
          "data": {
            "text/plain": [
              "<matplotlib.axes._subplots.AxesSubplot at 0x7f520b42eeb8>"
            ]
          },
          "metadata": {
            "tags": []
          },
          "execution_count": 294
        },
        {
          "output_type": "display_data",
          "data": {
            "image/png": "[encoded data removed]",
            "text/plain": [
              "<Figure size 360x360 with 2 Axes>"
            ]
          },
          "metadata": {
            "tags": []
          }
        }
      ]
    },
    {
      "cell_type": "code",
      "metadata": {
        "colab_type": "code",
        "id": "87i1qL0scimk",
        "outputId": "541598b2-f615-4652-c474-56f37cff1018",
        "colab": {
          "base_uri": "https://localhost:8080/",
          "height": 51
        }
      },
      "source": [
        "total=sum(sum(cm))\n",
        "\n",
        "sensitivity = cm[0,0]/(cm[0,0]+cm[0,1])\n",
        "print('Sensitivity : ', sensitivity )\n",
        "\n",
        "specificity = cm[1,1]/(cm[1,0]+cm[1,1])\n",
        "print('Specificity : ', specificity)"
      ],
      "execution_count": 295,
      "outputs": [
        {
          "output_type": "stream",
          "text": [
            "Sensitivity :  0.7658227848101266\n",
            "Specificity :  0.94\n"
          ],
          "name": "stdout"
        }
      ]
    },
    {
      "cell_type": "code",
      "metadata": {
        "colab_type": "code",
        "id": "03cyP7wgcmY7",
        "outputId": "ac837528-adb0-43f0-8725-4c9bcdf5ee46",
        "colab": {
          "base_uri": "https://localhost:8080/",
          "height": 350
        }
      },
      "source": [
        "from sklearn.metrics import roc_curve\n",
        "\n",
        "fpr, tpr, thresholds = roc_curve(y_test, predict_lr)\n",
        "\n",
        "fig, ax = plt.subplots()\n",
        "ax.plot(fpr, tpr)\n",
        "ax.plot([0, 1], [0, 1], transform=ax.transAxes, ls=\"-\", c=\".3\")\n",
        "plt.xlim([0.0, 1.0])\n",
        "plt.ylim([0.0, 1.0])\n",
        "\n",
        "plt.rcParams['figure.figsize'] = (15, 5)\n",
        "plt.title('ROC curve for Blood Pressure classifier', fontweight = 30)\n",
        "plt.xlabel('False Positive Rate (1 - Specificity)')\n",
        "plt.ylabel('True Positive Rate (Sensitivity)')\n",
        "plt.show()"
      ],
      "execution_count": 296,
      "outputs": [
        {
          "output_type": "display_data",
          "data": {
            "image/png": "[encoded data removed]",
            "text/plain": [
              "<Figure size 360x360 with 1 Axes>"
            ]
          },
          "metadata": {
            "tags": []
          }
        }
      ]
    },
    {
      "cell_type": "code",
      "metadata": {
        "colab_type": "code",
        "id": "-UGWMxlxvKRT",
        "outputId": "131e7e65-c90d-49be-e759-678850a4e671",
        "colab": {
          "base_uri": "https://localhost:8080/",
          "height": 51
        }
      },
      "source": [
        "#Hyperparameter tuning for Logistic Regression\n",
        "from sklearn.model_selection import GridSearchCV\n",
        "penalty = ['l1', 'l2']\n",
        "C = np.logspace(0, 4, 10)\n",
        "hyperparameters = dict(C=C, penalty=penalty)\n",
        "h_logmodel = GridSearchCV(model_lr, hyperparameters, cv=5, verbose=0)\n",
        "best_logmodel=h_logmodel.fit(X,y)\n",
        "print('Best Penalty:', best_logmodel.best_estimator_.get_params()['penalty'])\n",
        "print('Best C:', best_logmodel.best_estimator_.get_params()['C'])"
      ],
      "execution_count": 297,
      "outputs": [
        {
          "output_type": "stream",
          "text": [
            "Best Penalty: l1\n",
            "Best C: 7.742636826811269\n"
          ],
          "name": "stdout"
        }
      ]
    },
    {
      "cell_type": "code",
      "metadata": {
        "colab_type": "code",
        "id": "DUV3kW15ozok",
        "colab": {}
      },
      "source": [
        "# import warnings filter\n",
        "from warnings import simplefilter\n",
        "# ignore all future warnings\n",
        "simplefilter(action='ignore', category=FutureWarning)"
      ],
      "execution_count": 0,
      "outputs": []
    },
    {
      "cell_type": "markdown",
      "metadata": {
        "colab_type": "text",
        "id": "6YlSOuvql3M0"
      },
      "source": [
        "# Decision Tree Classifier"
      ]
    },
    {
      "cell_type": "code",
      "metadata": {
        "colab_type": "code",
        "id": "DbL64wB3l56K",
        "colab": {}
      },
      "source": [
        "from sklearn.tree import DecisionTreeClassifier\n",
        "model_dt=DecisionTreeClassifier(criterion= 'entropy', max_depth= None, max_features= 6, min_samples_leaf= 8)"
      ],
      "execution_count": 0,
      "outputs": []
    },
    {
      "cell_type": "code",
      "metadata": {
        "colab_type": "code",
        "id": "kyWd5GeYmGjW",
        "outputId": "bdb3aace-fda4-4cf1-bf6a-c4a3650b253a",
        "colab": {
          "base_uri": "https://localhost:8080/",
          "height": 119
        }
      },
      "source": [
        "model_dt.fit(X_train,y_train)"
      ],
      "execution_count": 300,
      "outputs": [
        {
          "output_type": "execute_result",
          "data": {
            "text/plain": [
              "DecisionTreeClassifier(class_weight=None, criterion='entropy', max_depth=None,\n",
              "                       max_features=6, max_leaf_nodes=None,\n",
              "                       min_impurity_decrease=0.0, min_impurity_split=None,\n",
              "                       min_samples_leaf=8, min_samples_split=2,\n",
              "                       min_weight_fraction_leaf=0.0, presort=False,\n",
              "                       random_state=None, splitter='best')"
            ]
          },
          "metadata": {
            "tags": []
          },
          "execution_count": 300
        }
      ]
    },
    {
      "cell_type": "code",
      "metadata": {
        "colab_type": "code",
        "id": "HuCN_x28mL-D",
        "colab": {}
      },
      "source": [
        "predict_dt=model_dt.predict(X_test)"
      ],
      "execution_count": 0,
      "outputs": []
    },
    {
      "cell_type": "code",
      "metadata": {
        "colab_type": "code",
        "id": "zyltv5Ismpxb",
        "outputId": "91b0993f-c342-4214-ca12-33fb68729fbf",
        "colab": {
          "base_uri": "https://localhost:8080/",
          "height": 34
        }
      },
      "source": [
        "accuracy_score(y_test, predict_dt)"
      ],
      "execution_count": 302,
      "outputs": [
        {
          "output_type": "execute_result",
          "data": {
            "text/plain": [
              "0.8636363636363636"
            ]
          },
          "metadata": {
            "tags": []
          },
          "execution_count": 302
        }
      ]
    },
    {
      "cell_type": "code",
      "metadata": {
        "colab_type": "code",
        "id": "QBPRuG8cl0Uc",
        "outputId": "05afa065-48d8-46a5-dc34-70d5d0c35079",
        "colab": {
          "base_uri": "https://localhost:8080/",
          "height": 340
        }
      },
      "source": [
        "from sklearn.metrics import accuracy_score, classification_report, confusion_matrix, roc_curve, auc\n",
        "cm = confusion_matrix(y_test, predict_dt)\n",
        "plt.rcParams['figure.figsize'] = (5, 5)\n",
        "sb.heatmap(cm, annot = True, annot_kws = {'size':15}, cmap = 'PuBu')"
      ],
      "execution_count": 303,
      "outputs": [
        {
          "output_type": "execute_result",
          "data": {
            "text/plain": [
              "<matplotlib.axes._subplots.AxesSubplot at 0x7f520b297198>"
            ]
          },
          "metadata": {
            "tags": []
          },
          "execution_count": 303
        },
        {
          "output_type": "display_data",
          "data": {
            "image/png": "[encoded data removed]",
            "text/plain": [
              "<Figure size 360x360 with 2 Axes>"
            ]
          },
          "metadata": {
            "tags": []
          }
        }
      ]
    },
    {
      "cell_type": "code",
      "metadata": {
        "colab_type": "code",
        "id": "cVGN7kxLmd3S",
        "outputId": "953faafe-d1c7-4ed0-b452-6490f7224702",
        "colab": {
          "base_uri": "https://localhost:8080/",
          "height": 51
        }
      },
      "source": [
        "total=sum(sum(cm))\n",
        "\n",
        "sensitivity = cm[0,0]/(cm[0,0]+cm[0,1])\n",
        "print('Sensitivity : ', sensitivity )\n",
        "\n",
        "specificity = cm[1,1]/(cm[1,0]+cm[1,1])\n",
        "print('Specificity : ', specificity)"
      ],
      "execution_count": 304,
      "outputs": [
        {
          "output_type": "stream",
          "text": [
            "Sensitivity :  0.8481012658227848\n",
            "Specificity :  0.88\n"
          ],
          "name": "stdout"
        }
      ]
    },
    {
      "cell_type": "code",
      "metadata": {
        "colab_type": "code",
        "id": "zOUBpHaumi9l",
        "outputId": "47cfca16-af35-4bfd-b749-8e07cb76fcd1",
        "colab": {
          "base_uri": "https://localhost:8080/",
          "height": 350
        }
      },
      "source": [
        "from sklearn.metrics import roc_curve\n",
        "\n",
        "fpr, tpr, thresholds = roc_curve(y_test, predict_dt)\n",
        "\n",
        "fig, ax = plt.subplots()\n",
        "ax.plot(fpr, tpr)\n",
        "ax.plot([0, 1], [0, 1], transform=ax.transAxes, ls=\"-\", c=\".3\")\n",
        "plt.xlim([0.0, 1.0])\n",
        "plt.ylim([0.0, 1.0])\n",
        "\n",
        "plt.rcParams['figure.figsize'] = (15, 5)\n",
        "plt.title('ROC curve for Blood Pressure classifier', fontweight = 30)\n",
        "plt.xlabel('False Positive Rate (1 - Specificity)')\n",
        "plt.ylabel('True Positive Rate (Sensitivity)')\n",
        "plt.show()"
      ],
      "execution_count": 305,
      "outputs": [
        {
          "output_type": "display_data",
          "data": {
            "image/png": "[encoded data removed]",
            "text/plain": [
              "<Figure size 360x360 with 1 Axes>"
            ]
          },
          "metadata": {
            "tags": []
          }
        }
      ]
    },
    {
      "cell_type": "code",
      "metadata": {
        "colab_type": "code",
        "id": "KB_OtRjG9xt9",
        "outputId": "b48b916e-c2e2-4194-d37a-a595a2fb209c",
        "colab": {
          "base_uri": "https://localhost:8080/",
          "height": 51
        }
      },
      "source": [
        "from scipy.stats import randint \n",
        "from sklearn.tree import DecisionTreeClassifier \n",
        "from sklearn.model_selection import RandomizedSearchCV \n",
        "  \n",
        "# Creating the hyperparameter grid  \n",
        "param_dist = {\"max_depth\": [3, None], \n",
        "              \"max_features\": randint(1, 9), \n",
        "              \"min_samples_leaf\": randint(1, 9), \n",
        "              \"criterion\": [\"gini\", \"entropy\"]} \n",
        "  \n",
        "# Instantiating Decision Tree classifier \n",
        "tree = DecisionTreeClassifier() \n",
        "  \n",
        "# Instantiating RandomizedSearchCV object \n",
        "tree_cv = RandomizedSearchCV(tree, param_dist, cv = 5) \n",
        "  \n",
        "tree_cv.fit(X_train, y_train) \n",
        "  \n",
        "# Print the tuned parameters and score \n",
        "print(\"Tuned Decision Tree Parameters: {}\".format(tree_cv.best_params_)) \n",
        "print(\"Best score is {}\".format(tree_cv.best_score_)) "
      ],
      "execution_count": 306,
      "outputs": [
        {
          "output_type": "stream",
          "text": [
            "Tuned Decision Tree Parameters: {'criterion': 'entropy', 'max_depth': None, 'max_features': 4, 'min_samples_leaf': 1}\n",
            "Best score is 0.9776847977684798\n"
          ],
          "name": "stdout"
        }
      ]
    },
    {
      "cell_type": "markdown",
      "metadata": {
        "colab_type": "text",
        "id": "TMLJK5Gzixf0"
      },
      "source": [
        "# Random Forest Classifier"
      ]
    },
    {
      "cell_type": "code",
      "metadata": {
        "colab_type": "code",
        "id": "x6Y88FnOjC59",
        "colab": {}
      },
      "source": [
        "from sklearn.ensemble import RandomForestClassifier\n",
        "model_rf=RandomForestClassifier(random_state = 1, max_depth = 15,     n_estimators = 500, min_samples_split = 2, min_samples_leaf = 1)"
      ],
      "execution_count": 0,
      "outputs": []
    },
    {
      "cell_type": "code",
      "metadata": {
        "colab_type": "code",
        "id": "8QgLTMqPjJqo",
        "outputId": "4fe4aa8b-e989-40a9-8712-ddc67afed0dc",
        "colab": {
          "base_uri": "https://localhost:8080/",
          "height": 136
        }
      },
      "source": [
        "model_rf.fit(X_train,y_train)"
      ],
      "execution_count": 308,
      "outputs": [
        {
          "output_type": "execute_result",
          "data": {
            "text/plain": [
              "RandomForestClassifier(bootstrap=True, class_weight=None, criterion='gini',\n",
              "                       max_depth=15, max_features='auto', max_leaf_nodes=None,\n",
              "                       min_impurity_decrease=0.0, min_impurity_split=None,\n",
              "                       min_samples_leaf=1, min_samples_split=2,\n",
              "                       min_weight_fraction_leaf=0.0, n_estimators=500,\n",
              "                       n_jobs=None, oob_score=False, random_state=1, verbose=0,\n",
              "                       warm_start=False)"
            ]
          },
          "metadata": {
            "tags": []
          },
          "execution_count": 308
        }
      ]
    },
    {
      "cell_type": "code",
      "metadata": {
        "colab_type": "code",
        "id": "Y9JzrPInjMC1",
        "colab": {}
      },
      "source": [
        "predict_rf=model_rf.predict(X_test)"
      ],
      "execution_count": 0,
      "outputs": []
    },
    {
      "cell_type": "code",
      "metadata": {
        "colab_type": "code",
        "id": "bccOtvqzjSen",
        "outputId": "c6e13305-b8ad-4998-c774-5cabfd693a44",
        "colab": {
          "base_uri": "https://localhost:8080/",
          "height": 34
        }
      },
      "source": [
        "accuracy_score(y_test, predict_dt)"
      ],
      "execution_count": 310,
      "outputs": [
        {
          "output_type": "execute_result",
          "data": {
            "text/plain": [
              "0.8636363636363636"
            ]
          },
          "metadata": {
            "tags": []
          },
          "execution_count": 310
        }
      ]
    },
    {
      "cell_type": "code",
      "metadata": {
        "colab_type": "code",
        "id": "aRWblRCKjW6x",
        "outputId": "920699d9-9912-4bad-a06b-50e95cfffbcd",
        "colab": {
          "base_uri": "https://localhost:8080/",
          "height": 340
        }
      },
      "source": [
        "from sklearn.metrics import accuracy_score, classification_report, confusion_matrix, roc_curve, auc\n",
        "cm = confusion_matrix(y_test, predict_rf)\n",
        "plt.rcParams['figure.figsize'] = (5, 5)\n",
        "sb.heatmap(cm, annot = True, annot_kws = {'size':15}, cmap = 'PuBu')"
      ],
      "execution_count": 311,
      "outputs": [
        {
          "output_type": "execute_result",
          "data": {
            "text/plain": [
              "<matplotlib.axes._subplots.AxesSubplot at 0x7f520b131828>"
            ]
          },
          "metadata": {
            "tags": []
          },
          "execution_count": 311
        },
        {
          "output_type": "display_data",
          "data": {
            "image/png": "[encoded data removed]",
            "text/plain": [
              "<Figure size 360x360 with 2 Axes>"
            ]
          },
          "metadata": {
            "tags": []
          }
        }
      ]
    },
    {
      "cell_type": "code",
      "metadata": {
        "colab_type": "code",
        "id": "XuS_0ux9jb1N",
        "outputId": "10b997ce-f44b-4e1c-e3ca-dc96fcd8c02b",
        "colab": {
          "base_uri": "https://localhost:8080/",
          "height": 51
        }
      },
      "source": [
        "total=sum(sum(cm))\n",
        "\n",
        "sensitivity = cm[0,0]/(cm[0,0]+cm[0,1])\n",
        "print('Sensitivity : ', sensitivity )\n",
        "\n",
        "specificity = cm[1,1]/(cm[1,0]+cm[1,1])\n",
        "print('Specificity : ', specificity)"
      ],
      "execution_count": 312,
      "outputs": [
        {
          "output_type": "stream",
          "text": [
            "Sensitivity :  0.9556962025316456\n",
            "Specificity :  0.98\n"
          ],
          "name": "stdout"
        }
      ]
    },
    {
      "cell_type": "code",
      "metadata": {
        "colab_type": "code",
        "id": "oRJvZeYOjf4X",
        "outputId": "b24beec9-9914-4a41-dde6-5d609be9d43a",
        "colab": {
          "base_uri": "https://localhost:8080/",
          "height": 350
        }
      },
      "source": [
        "from sklearn.metrics import roc_curve\n",
        "\n",
        "fpr, tpr, thresholds = roc_curve(y_test, predict_rf)\n",
        "\n",
        "fig, ax = plt.subplots()\n",
        "ax.plot(fpr, tpr)\n",
        "ax.plot([0, 1], [0, 1], transform=ax.transAxes, ls=\"-\", c=\".3\")\n",
        "plt.xlim([0.0, 1.0])\n",
        "plt.ylim([0.0, 1.0])\n",
        "\n",
        "plt.rcParams['figure.figsize'] = (15, 5)\n",
        "plt.title('ROC curve for Blood Pressure classifier', fontweight = 30)\n",
        "plt.xlabel('False Positive Rate (1 - Specificity)')\n",
        "plt.ylabel('True Positive Rate (Sensitivity)')\n",
        "plt.show()"
      ],
      "execution_count": 313,
      "outputs": [
        {
          "output_type": "display_data",
          "data": {
            "image/png": "[encoded data removed]",
            "text/plain": [
              "<Figure size 360x360 with 1 Axes>"
            ]
          },
          "metadata": {
            "tags": []
          }
        }
      ]
    },
    {
      "cell_type": "code",
      "metadata": {
        "colab_type": "code",
        "id": "6b__aEcX_PGW",
        "colab": {}
      },
      "source": [
        "#n_estimators = [100, 300, 500, 800, 1200]\n",
        "#max_depth = [5, 8, 15, 25, 30]\n",
        "#min_samples_split = [2, 5, 10, 15, 100]\n",
        "#min_samples_leaf = [1, 2, 5, 10] \n",
        "\n",
        "#hyperF = dict(n_estimators = n_estimators, max_depth = max_depth,  \n",
        "#            min_samples_split = min_samples_split, \n",
        "  #        min_samples_leaf = min_samples_leaf)\n",
        "\n",
        "#gridF = GridSearchCV(model_rf, hyperF, cv = 3, verbose = 1, \n",
        "#                n_jobs = -1)\n",
        "#bestF = gridF.fit(X_train, y_train) '''"
      ],
      "execution_count": 0,
      "outputs": []
    },
    {
      "cell_type": "markdown",
      "metadata": {
        "colab_type": "text",
        "id": "kSKaWv24jp4R"
      },
      "source": [
        "# Principal Component Analysis"
      ]
    },
    {
      "cell_type": "code",
      "metadata": {
        "colab_type": "code",
        "id": "RorVg0iqjyd6",
        "colab": {}
      },
      "source": [
        "from sklearn.decomposition import PCA\n",
        "model_p=PCA()"
      ],
      "execution_count": 0,
      "outputs": []
    },
    {
      "cell_type": "code",
      "metadata": {
        "colab_type": "code",
        "id": "phs06ZNyj8cz",
        "outputId": "2f507a01-acdb-4959-f091-76b8975a436d",
        "colab": {
          "base_uri": "https://localhost:8080/",
          "height": 51
        }
      },
      "source": [
        "model_p.fit(X_train,y_train)"
      ],
      "execution_count": 316,
      "outputs": [
        {
          "output_type": "execute_result",
          "data": {
            "text/plain": [
              "PCA(copy=True, iterated_power='auto', n_components=None, random_state=None,\n",
              "    svd_solver='auto', tol=0.0, whiten=False)"
            ]
          },
          "metadata": {
            "tags": []
          },
          "execution_count": 316
        }
      ]
    },
    {
      "cell_type": "code",
      "metadata": {
        "colab_type": "code",
        "id": "8JxZcFwHkD1v",
        "outputId": "2629628d-77de-49c9-b95e-310dc897e85d",
        "colab": {
          "base_uri": "https://localhost:8080/",
          "height": 1000
        }
      },
      "source": [
        "model_p.components_"
      ],
      "execution_count": 317,
      "outputs": [
        {
          "output_type": "execute_result",
          "data": {
            "text/plain": [
              "array([[ 3.15463690e-01,  5.60278238e-02, -2.70133026e-01,\n",
              "         1.71307500e-01,  1.62670037e-01,  7.77217271e-02,\n",
              "        -1.45427073e-01, -4.10589596e-01,  3.54832494e-01,\n",
              "         4.23340736e-01, -3.74742381e-01,  2.86226898e-01,\n",
              "         2.12859595e-01],\n",
              "       [ 3.95240650e-01, -3.11429323e-01,  3.34842082e-01,\n",
              "         4.51411924e-01,  3.14505068e-01,  3.35832290e-01,\n",
              "        -2.62408414e-01,  1.10954641e-01, -3.05202911e-01,\n",
              "        -7.98768606e-02,  7.03409519e-02,  1.19166793e-01,\n",
              "        -1.39144114e-01],\n",
              "       [ 1.34138093e-03, -2.37140499e-01, -3.83761369e-01,\n",
              "        -7.68169451e-02,  5.68398396e-01, -3.87646452e-01,\n",
              "        -9.16119292e-02,  9.38155944e-02,  4.80950068e-02,\n",
              "        -2.27670737e-01,  3.71890812e-01,  1.43716544e-01,\n",
              "         2.94862711e-01],\n",
              "       [ 1.41282495e-01, -6.26390037e-01, -9.41204448e-02,\n",
              "        -2.25282079e-01,  3.43382958e-02, -2.26680739e-01,\n",
              "         1.34252595e-01, -3.16324925e-01, -5.06635120e-03,\n",
              "         3.31544143e-02, -2.05758290e-01, -2.83212098e-01,\n",
              "        -4.83471987e-01],\n",
              "       [-2.52925753e-01, -1.80485552e-01,  2.59362011e-01,\n",
              "         3.23116851e-01,  1.92115741e-01, -2.95623361e-01,\n",
              "         1.56426085e-01,  2.86787853e-01, -1.42705701e-02,\n",
              "         3.67977296e-01, -3.19251877e-01, -3.76386764e-01,\n",
              "         3.48658369e-01],\n",
              "       [ 2.50267225e-01, -1.13711540e-01,  1.43291981e-01,\n",
              "        -3.90007754e-03, -9.27877864e-02, -3.08791821e-02,\n",
              "         7.89203403e-01, -1.30418411e-01, -2.19267694e-01,\n",
              "         3.93085845e-02,  1.28302463e-01,  3.55648279e-01,\n",
              "         2.48803983e-01],\n",
              "       [-1.55833366e-01, -1.94984890e-01, -2.41324391e-01,\n",
              "         1.96733466e-01,  1.00919923e-01,  6.06723741e-01,\n",
              "         3.41488559e-01,  4.86713770e-02,  4.56320069e-01,\n",
              "        -1.74718848e-01,  1.25907999e-01, -2.93899563e-01,\n",
              "         4.98899776e-02],\n",
              "       [-3.59406276e-01, -1.83494224e-01, -9.39109251e-03,\n",
              "        -4.81608661e-01,  2.81769730e-01,  3.66098827e-01,\n",
              "         1.22636268e-02,  2.75351988e-01, -1.61648922e-01,\n",
              "         2.26439177e-01, -2.83925530e-01,  3.92380108e-01,\n",
              "        -6.12317486e-02],\n",
              "       [ 3.01118562e-01,  1.43548008e-01,  3.20320232e-01,\n",
              "        -5.13048413e-01,  2.55729469e-01,  1.91685588e-01,\n",
              "        -6.04587625e-02, -2.14761566e-01, -3.69309485e-02,\n",
              "        -1.71021244e-01, -9.58176862e-02, -4.12176288e-01,\n",
              "         4.01617549e-01],\n",
              "       [ 2.74444803e-02,  4.97271071e-01,  1.75104285e-01,\n",
              "         3.35876580e-02,  5.61112615e-01, -1.16855386e-01,\n",
              "         2.99003421e-01, -5.44176238e-04,  1.68652406e-01,\n",
              "         1.03464464e-01,  5.55062389e-02, -2.92825631e-02,\n",
              "        -5.09102948e-01],\n",
              "       [-1.19343724e-01, -2.56179932e-01,  5.95744665e-01,\n",
              "        -1.24075059e-01, -8.81755106e-02, -1.09439577e-01,\n",
              "        -1.34239174e-01, -6.01583330e-02,  6.02383391e-01,\n",
              "         5.57495683e-02,  2.72808255e-01,  2.60407939e-01,\n",
              "         1.48682901e-02],\n",
              "       [ 5.11020061e-01, -2.01025780e-02, -1.55503561e-01,\n",
              "        -2.35364944e-01, -1.53454674e-01,  2.30530194e-02,\n",
              "        -2.20853668e-03,  5.51085270e-01,  1.39892158e-01,\n",
              "         4.60831506e-01,  2.66780159e-01, -1.56427857e-01,\n",
              "        -5.93288888e-02],\n",
              "       [ 2.78267680e-01,  1.26948443e-02,  1.70574929e-02,\n",
              "        -4.40530044e-03, -6.08599851e-02, -1.61636391e-01,\n",
              "         9.17441060e-02,  4.23511211e-01,  2.89348997e-01,\n",
              "        -5.35992951e-01, -5.48883655e-01,  1.77452453e-01,\n",
              "        -2.66957149e-02]])"
            ]
          },
          "metadata": {
            "tags": []
          },
          "execution_count": 317
        }
      ]
    },
    {
      "cell_type": "code",
      "metadata": {
        "colab_type": "code",
        "id": "NLNVexAukLDL",
        "colab": {}
      },
      "source": [
        "component = pd.DataFrame(model_p.components_)"
      ],
      "execution_count": 0,
      "outputs": []
    },
    {
      "cell_type": "code",
      "metadata": {
        "colab_type": "code",
        "id": "grFwr2IukPD3",
        "outputId": "73f969b9-3186-4112-fd5b-53ce93654385",
        "colab": {
          "base_uri": "https://localhost:8080/",
          "height": 452
        }
      },
      "source": [
        "component"
      ],
      "execution_count": 319,
      "outputs": [
        {
          "output_type": "execute_result",
          "data": {
            "text/html": [
              "<div>\n",
              "<style scoped>\n",
              "    .dataframe tbody tr th:only-of-type {\n",
              "        vertical-align: middle;\n",
              "    }\n",
              "\n",
              "    .dataframe tbody tr th {\n",
              "        vertical-align: top;\n",
              "    }\n",
              "\n",
              "    .dataframe thead th {\n",
              "        text-align: right;\n",
              "    }\n",
              "</style>\n",
              "<table border=\"1\" class=\"dataframe\">\n",
              "  <thead>\n",
              "    <tr style=\"text-align: right;\">\n",
              "      <th></th>\n",
              "      <th>0</th>\n",
              "      <th>1</th>\n",
              "      <th>2</th>\n",
              "      <th>3</th>\n",
              "      <th>4</th>\n",
              "      <th>5</th>\n",
              "      <th>6</th>\n",
              "      <th>7</th>\n",
              "      <th>8</th>\n",
              "      <th>9</th>\n",
              "      <th>10</th>\n",
              "      <th>11</th>\n",
              "      <th>12</th>\n",
              "    </tr>\n",
              "  </thead>\n",
              "  <tbody>\n",
              "    <tr>\n",
              "      <th>0</th>\n",
              "      <td>0.315464</td>\n",
              "      <td>0.056028</td>\n",
              "      <td>-0.270133</td>\n",
              "      <td>0.171307</td>\n",
              "      <td>0.162670</td>\n",
              "      <td>0.077722</td>\n",
              "      <td>-0.145427</td>\n",
              "      <td>-0.410590</td>\n",
              "      <td>0.354832</td>\n",
              "      <td>0.423341</td>\n",
              "      <td>-0.374742</td>\n",
              "      <td>0.286227</td>\n",
              "      <td>0.212860</td>\n",
              "    </tr>\n",
              "    <tr>\n",
              "      <th>1</th>\n",
              "      <td>0.395241</td>\n",
              "      <td>-0.311429</td>\n",
              "      <td>0.334842</td>\n",
              "      <td>0.451412</td>\n",
              "      <td>0.314505</td>\n",
              "      <td>0.335832</td>\n",
              "      <td>-0.262408</td>\n",
              "      <td>0.110955</td>\n",
              "      <td>-0.305203</td>\n",
              "      <td>-0.079877</td>\n",
              "      <td>0.070341</td>\n",
              "      <td>0.119167</td>\n",
              "      <td>-0.139144</td>\n",
              "    </tr>\n",
              "    <tr>\n",
              "      <th>2</th>\n",
              "      <td>0.001341</td>\n",
              "      <td>-0.237140</td>\n",
              "      <td>-0.383761</td>\n",
              "      <td>-0.076817</td>\n",
              "      <td>0.568398</td>\n",
              "      <td>-0.387646</td>\n",
              "      <td>-0.091612</td>\n",
              "      <td>0.093816</td>\n",
              "      <td>0.048095</td>\n",
              "      <td>-0.227671</td>\n",
              "      <td>0.371891</td>\n",
              "      <td>0.143717</td>\n",
              "      <td>0.294863</td>\n",
              "    </tr>\n",
              "    <tr>\n",
              "      <th>3</th>\n",
              "      <td>0.141282</td>\n",
              "      <td>-0.626390</td>\n",
              "      <td>-0.094120</td>\n",
              "      <td>-0.225282</td>\n",
              "      <td>0.034338</td>\n",
              "      <td>-0.226681</td>\n",
              "      <td>0.134253</td>\n",
              "      <td>-0.316325</td>\n",
              "      <td>-0.005066</td>\n",
              "      <td>0.033154</td>\n",
              "      <td>-0.205758</td>\n",
              "      <td>-0.283212</td>\n",
              "      <td>-0.483472</td>\n",
              "    </tr>\n",
              "    <tr>\n",
              "      <th>4</th>\n",
              "      <td>-0.252926</td>\n",
              "      <td>-0.180486</td>\n",
              "      <td>0.259362</td>\n",
              "      <td>0.323117</td>\n",
              "      <td>0.192116</td>\n",
              "      <td>-0.295623</td>\n",
              "      <td>0.156426</td>\n",
              "      <td>0.286788</td>\n",
              "      <td>-0.014271</td>\n",
              "      <td>0.367977</td>\n",
              "      <td>-0.319252</td>\n",
              "      <td>-0.376387</td>\n",
              "      <td>0.348658</td>\n",
              "    </tr>\n",
              "    <tr>\n",
              "      <th>5</th>\n",
              "      <td>0.250267</td>\n",
              "      <td>-0.113712</td>\n",
              "      <td>0.143292</td>\n",
              "      <td>-0.003900</td>\n",
              "      <td>-0.092788</td>\n",
              "      <td>-0.030879</td>\n",
              "      <td>0.789203</td>\n",
              "      <td>-0.130418</td>\n",
              "      <td>-0.219268</td>\n",
              "      <td>0.039309</td>\n",
              "      <td>0.128302</td>\n",
              "      <td>0.355648</td>\n",
              "      <td>0.248804</td>\n",
              "    </tr>\n",
              "    <tr>\n",
              "      <th>6</th>\n",
              "      <td>-0.155833</td>\n",
              "      <td>-0.194985</td>\n",
              "      <td>-0.241324</td>\n",
              "      <td>0.196733</td>\n",
              "      <td>0.100920</td>\n",
              "      <td>0.606724</td>\n",
              "      <td>0.341489</td>\n",
              "      <td>0.048671</td>\n",
              "      <td>0.456320</td>\n",
              "      <td>-0.174719</td>\n",
              "      <td>0.125908</td>\n",
              "      <td>-0.293900</td>\n",
              "      <td>0.049890</td>\n",
              "    </tr>\n",
              "    <tr>\n",
              "      <th>7</th>\n",
              "      <td>-0.359406</td>\n",
              "      <td>-0.183494</td>\n",
              "      <td>-0.009391</td>\n",
              "      <td>-0.481609</td>\n",
              "      <td>0.281770</td>\n",
              "      <td>0.366099</td>\n",
              "      <td>0.012264</td>\n",
              "      <td>0.275352</td>\n",
              "      <td>-0.161649</td>\n",
              "      <td>0.226439</td>\n",
              "      <td>-0.283926</td>\n",
              "      <td>0.392380</td>\n",
              "      <td>-0.061232</td>\n",
              "    </tr>\n",
              "    <tr>\n",
              "      <th>8</th>\n",
              "      <td>0.301119</td>\n",
              "      <td>0.143548</td>\n",
              "      <td>0.320320</td>\n",
              "      <td>-0.513048</td>\n",
              "      <td>0.255729</td>\n",
              "      <td>0.191686</td>\n",
              "      <td>-0.060459</td>\n",
              "      <td>-0.214762</td>\n",
              "      <td>-0.036931</td>\n",
              "      <td>-0.171021</td>\n",
              "      <td>-0.095818</td>\n",
              "      <td>-0.412176</td>\n",
              "      <td>0.401618</td>\n",
              "    </tr>\n",
              "    <tr>\n",
              "      <th>9</th>\n",
              "      <td>0.027444</td>\n",
              "      <td>0.497271</td>\n",
              "      <td>0.175104</td>\n",
              "      <td>0.033588</td>\n",
              "      <td>0.561113</td>\n",
              "      <td>-0.116855</td>\n",
              "      <td>0.299003</td>\n",
              "      <td>-0.000544</td>\n",
              "      <td>0.168652</td>\n",
              "      <td>0.103464</td>\n",
              "      <td>0.055506</td>\n",
              "      <td>-0.029283</td>\n",
              "      <td>-0.509103</td>\n",
              "    </tr>\n",
              "    <tr>\n",
              "      <th>10</th>\n",
              "      <td>-0.119344</td>\n",
              "      <td>-0.256180</td>\n",
              "      <td>0.595745</td>\n",
              "      <td>-0.124075</td>\n",
              "      <td>-0.088176</td>\n",
              "      <td>-0.109440</td>\n",
              "      <td>-0.134239</td>\n",
              "      <td>-0.060158</td>\n",
              "      <td>0.602383</td>\n",
              "      <td>0.055750</td>\n",
              "      <td>0.272808</td>\n",
              "      <td>0.260408</td>\n",
              "      <td>0.014868</td>\n",
              "    </tr>\n",
              "    <tr>\n",
              "      <th>11</th>\n",
              "      <td>0.511020</td>\n",
              "      <td>-0.020103</td>\n",
              "      <td>-0.155504</td>\n",
              "      <td>-0.235365</td>\n",
              "      <td>-0.153455</td>\n",
              "      <td>0.023053</td>\n",
              "      <td>-0.002209</td>\n",
              "      <td>0.551085</td>\n",
              "      <td>0.139892</td>\n",
              "      <td>0.460832</td>\n",
              "      <td>0.266780</td>\n",
              "      <td>-0.156428</td>\n",
              "      <td>-0.059329</td>\n",
              "    </tr>\n",
              "    <tr>\n",
              "      <th>12</th>\n",
              "      <td>0.278268</td>\n",
              "      <td>0.012695</td>\n",
              "      <td>0.017057</td>\n",
              "      <td>-0.004405</td>\n",
              "      <td>-0.060860</td>\n",
              "      <td>-0.161636</td>\n",
              "      <td>0.091744</td>\n",
              "      <td>0.423511</td>\n",
              "      <td>0.289349</td>\n",
              "      <td>-0.535993</td>\n",
              "      <td>-0.548884</td>\n",
              "      <td>0.177452</td>\n",
              "      <td>-0.026696</td>\n",
              "    </tr>\n",
              "  </tbody>\n",
              "</table>\n",
              "</div>"
            ],
            "text/plain": [
              "          0         1         2   ...        10        11        12\n",
              "0   0.315464  0.056028 -0.270133  ... -0.374742  0.286227  0.212860\n",
              "1   0.395241 -0.311429  0.334842  ...  0.070341  0.119167 -0.139144\n",
              "2   0.001341 -0.237140 -0.383761  ...  0.371891  0.143717  0.294863\n",
              "3   0.141282 -0.626390 -0.094120  ... -0.205758 -0.283212 -0.483472\n",
              "4  -0.252926 -0.180486  0.259362  ... -0.319252 -0.376387  0.348658\n",
              "5   0.250267 -0.113712  0.143292  ...  0.128302  0.355648  0.248804\n",
              "6  -0.155833 -0.194985 -0.241324  ...  0.125908 -0.293900  0.049890\n",
              "7  -0.359406 -0.183494 -0.009391  ... -0.283926  0.392380 -0.061232\n",
              "8   0.301119  0.143548  0.320320  ... -0.095818 -0.412176  0.401618\n",
              "9   0.027444  0.497271  0.175104  ...  0.055506 -0.029283 -0.509103\n",
              "10 -0.119344 -0.256180  0.595745  ...  0.272808  0.260408  0.014868\n",
              "11  0.511020 -0.020103 -0.155504  ...  0.266780 -0.156428 -0.059329\n",
              "12  0.278268  0.012695  0.017057  ... -0.548884  0.177452 -0.026696\n",
              "\n",
              "[13 rows x 13 columns]"
            ]
          },
          "metadata": {
            "tags": []
          },
          "execution_count": 319
        }
      ]
    },
    {
      "cell_type": "code",
      "metadata": {
        "colab_type": "code",
        "id": "s6I2WmsakSa7",
        "colab": {}
      },
      "source": [
        "value=model_p.explained_variance_ratio_"
      ],
      "execution_count": 0,
      "outputs": []
    },
    {
      "cell_type": "code",
      "metadata": {
        "colab_type": "code",
        "id": "qc_CP-x0kVC1",
        "outputId": "fea41f46-2095-40cd-d9dc-f72a2733023a",
        "colab": {
          "base_uri": "https://localhost:8080/",
          "height": 68
        }
      },
      "source": [
        "value"
      ],
      "execution_count": 321,
      "outputs": [
        {
          "output_type": "execute_result",
          "data": {
            "text/plain": [
              "array([0.21481932, 0.12391082, 0.09408249, 0.09002388, 0.07796942,\n",
              "       0.07432124, 0.06656572, 0.05711361, 0.05270271, 0.04811034,\n",
              "       0.04058281, 0.03119552, 0.02860212])"
            ]
          },
          "metadata": {
            "tags": []
          },
          "execution_count": 321
        }
      ]
    },
    {
      "cell_type": "code",
      "metadata": {
        "colab_type": "code",
        "id": "HoyXoOQUkTk6",
        "outputId": "545d28de-6e00-41f9-a626-d9318f9d5915",
        "colab": {
          "base_uri": "https://localhost:8080/",
          "height": 34
        }
      },
      "source": [
        "value.sum()"
      ],
      "execution_count": 322,
      "outputs": [
        {
          "output_type": "execute_result",
          "data": {
            "text/plain": [
              "1.0"
            ]
          },
          "metadata": {
            "tags": []
          },
          "execution_count": 322
        }
      ]
    },
    {
      "cell_type": "markdown",
      "metadata": {
        "colab_type": "text",
        "id": "zuZpEsHvkfRo"
      },
      "source": [
        "# K Nearest Neighbours"
      ]
    },
    {
      "cell_type": "code",
      "metadata": {
        "colab_type": "code",
        "id": "BG9LZ6CEkiMX",
        "colab": {}
      },
      "source": [
        "from sklearn.neighbors import KNeighborsClassifier\n",
        "model_knn =KNeighborsClassifier(algorithm='auto', leaf_size=30, metric='minkowski',\n",
        "                     metric_params=None, n_jobs=None, n_neighbors=10, p=2,\n",
        "                     weights='uniform')"
      ],
      "execution_count": 0,
      "outputs": []
    },
    {
      "cell_type": "code",
      "metadata": {
        "colab_type": "code",
        "id": "lH0vevBEkpfg",
        "outputId": "a394581a-adcf-4974-889b-c33f0336ea52",
        "colab": {
          "base_uri": "https://localhost:8080/",
          "height": 68
        }
      },
      "source": [
        "model_knn.fit(X_train,y_train)"
      ],
      "execution_count": 324,
      "outputs": [
        {
          "output_type": "execute_result",
          "data": {
            "text/plain": [
              "KNeighborsClassifier(algorithm='auto', leaf_size=30, metric='minkowski',\n",
              "                     metric_params=None, n_jobs=None, n_neighbors=10, p=2,\n",
              "                     weights='uniform')"
            ]
          },
          "metadata": {
            "tags": []
          },
          "execution_count": 324
        }
      ]
    },
    {
      "cell_type": "code",
      "metadata": {
        "colab_type": "code",
        "id": "VL_au4JdktYI",
        "colab": {}
      },
      "source": [
        "predict_knn=model_knn.predict(X_test)"
      ],
      "execution_count": 0,
      "outputs": []
    },
    {
      "cell_type": "code",
      "metadata": {
        "colab_type": "code",
        "id": "xb91h1kbkxcE",
        "outputId": "5524cefd-2d64-4817-ffd5-42948bcdb8d8",
        "colab": {
          "base_uri": "https://localhost:8080/",
          "height": 34
        }
      },
      "source": [
        "accuracy_score(y_test, predict_knn)"
      ],
      "execution_count": 326,
      "outputs": [
        {
          "output_type": "execute_result",
          "data": {
            "text/plain": [
              "0.8701298701298701"
            ]
          },
          "metadata": {
            "tags": []
          },
          "execution_count": 326
        }
      ]
    },
    {
      "cell_type": "code",
      "metadata": {
        "colab_type": "code",
        "id": "0KW_E-qWk1v8",
        "outputId": "ac419c99-3a38-4e2b-da12-9e6459bd770f",
        "colab": {
          "base_uri": "https://localhost:8080/",
          "height": 340
        }
      },
      "source": [
        "from sklearn.metrics import accuracy_score, classification_report, confusion_matrix, roc_curve, auc\n",
        "cm = confusion_matrix(y_test, predict_knn)\n",
        "plt.rcParams['figure.figsize'] = (5, 5)\n",
        "sb.heatmap(cm, annot = True, annot_kws = {'size':15}, cmap = 'PuBu')"
      ],
      "execution_count": 327,
      "outputs": [
        {
          "output_type": "execute_result",
          "data": {
            "text/plain": [
              "<matplotlib.axes._subplots.AxesSubplot at 0x7f520b2ca710>"
            ]
          },
          "metadata": {
            "tags": []
          },
          "execution_count": 327
        },
        {
          "output_type": "display_data",
          "data": {
            "image/png": "[encoded data removed]",
            "text/plain": [
              "<Figure size 360x360 with 2 Axes>"
            ]
          },
          "metadata": {
            "tags": []
          }
        }
      ]
    },
    {
      "cell_type": "code",
      "metadata": {
        "colab_type": "code",
        "id": "iKtmfmAMk-7B",
        "outputId": "34cf15d3-caad-4e25-c21f-427efa1a164d",
        "colab": {
          "base_uri": "https://localhost:8080/",
          "height": 51
        }
      },
      "source": [
        "total=sum(sum(cm))\n",
        "\n",
        "sensitivity = cm[0,0]/(cm[0,0]+cm[0,1])\n",
        "print('Sensitivity : ', sensitivity )\n",
        "\n",
        "specificity = cm[1,1]/(cm[1,0]+cm[1,1])\n",
        "print('Specificity : ', specificity)"
      ],
      "execution_count": 328,
      "outputs": [
        {
          "output_type": "stream",
          "text": [
            "Sensitivity :  0.8670886075949367\n",
            "Specificity :  0.8733333333333333\n"
          ],
          "name": "stdout"
        }
      ]
    },
    {
      "cell_type": "code",
      "metadata": {
        "colab_type": "code",
        "id": "GkuYznmulCzX",
        "outputId": "37edacfd-c536-4e46-e628-63453aeb46d7",
        "colab": {
          "base_uri": "https://localhost:8080/",
          "height": 350
        }
      },
      "source": [
        "from sklearn.metrics import roc_curve\n",
        "\n",
        "fpr, tpr, thresholds = roc_curve(y_test, predict_knn)\n",
        "\n",
        "fig, ax = plt.subplots()\n",
        "ax.plot(fpr, tpr)\n",
        "ax.plot([0, 1], [0, 1], transform=ax.transAxes, ls=\"-\", c=\".3\")\n",
        "plt.xlim([0.0, 1.0])\n",
        "plt.ylim([0.0, 1.0])\n",
        "\n",
        "plt.rcParams['figure.figsize'] = (15, 5)\n",
        "plt.title('ROC curve for Blood Pressure classifier', fontweight = 30)\n",
        "plt.xlabel('False Positive Rate (1 - Specificity)')\n",
        "plt.ylabel('True Positive Rate (Sensitivity)')\n",
        "plt.show()"
      ],
      "execution_count": 329,
      "outputs": [
        {
          "output_type": "display_data",
          "data": {
            "image/png": "[encoded data removed]",
            "text/plain": [
              "<Figure size 360x360 with 1 Axes>"
            ]
          },
          "metadata": {
            "tags": []
          }
        }
      ]
    },
    {
      "cell_type": "code",
      "metadata": {
        "colab_type": "code",
        "id": "g24wmI3ZCQ_v",
        "outputId": "3966f381-748c-4ecb-be75-8dfeefef59a5",
        "colab": {
          "base_uri": "https://localhost:8080/",
          "height": 54
        }
      },
      "source": [
        "myList = list(range(1,50))\n",
        "from sklearn.model_selection import cross_val_score\n",
        "# subsetting just the odd ones\n",
        "neighbors = filter(lambda x: x % 2 != 0, myList)\n",
        "\n",
        "# empty list that will hold cv scores\n",
        "cv_scores = []\n",
        "\n",
        "# perform 10-fold cross validation\n",
        "for k in neighbors:\n",
        "    knn = KNeighborsClassifier(n_neighbors=k)\n",
        "    scores = cross_val_score(knn, X_train, y_train, cv=10, scoring='accuracy')\n",
        "    cv_scores.append(scores.mean())\n",
        "    \n",
        "print(cv_scores)"
      ],
      "execution_count": 330,
      "outputs": [
        {
          "output_type": "stream",
          "text": [
            "[0.9818460994276158, 0.9093272343344696, 0.8370208695092931, 0.8508717066478017, 0.8523393787381826, 0.8411108967350526, 0.835612954745214, 0.8285707012240872, 0.8300193474392781, 0.8203140073316613, 0.825870098827363, 0.8313881385726842, 0.8327775634017194, 0.8355363153043068, 0.8299611979334148, 0.8243464209917036, 0.8299601260531224, 0.8328161510922459, 0.8412467575621155, 0.8370599931399662, 0.8398182091024073, 0.8384478101485626, 0.8356124188050679, 0.8384684438441916, 0.8356901301262676]\n"
          ],
          "name": "stdout"
        }
      ]
    },
    {
      "cell_type": "code",
      "metadata": {
        "colab_type": "code",
        "id": "fCMaJya5KkAF",
        "outputId": "c632b1ff-009a-4a84-9ce4-51e68941023b",
        "colab": {
          "base_uri": "https://localhost:8080/",
          "height": 34
        }
      },
      "source": [
        "from sklearn.model_selection import GridSearchCV\n",
        "k_range = list(range(1, 31))\n",
        "print(k_range)"
      ],
      "execution_count": 331,
      "outputs": [
        {
          "output_type": "stream",
          "text": [
            "[1, 2, 3, 4, 5, 6, 7, 8, 9, 10, 11, 12, 13, 14, 15, 16, 17, 18, 19, 20, 21, 22, 23, 24, 25, 26, 27, 28, 29, 30]\n"
          ],
          "name": "stdout"
        }
      ]
    },
    {
      "cell_type": "code",
      "metadata": {
        "colab_type": "code",
        "id": "1BRYcNGeKnTL",
        "outputId": "e47c70a5-1e14-47d8-99ab-e57c3da3b16f",
        "colab": {
          "base_uri": "https://localhost:8080/",
          "height": 34
        }
      },
      "source": [
        "# single key-value pair for param_grid\n",
        "param_grid = dict(n_neighbors=k_range)\n",
        "print(param_grid)"
      ],
      "execution_count": 332,
      "outputs": [
        {
          "output_type": "stream",
          "text": [
            "{'n_neighbors': [1, 2, 3, 4, 5, 6, 7, 8, 9, 10, 11, 12, 13, 14, 15, 16, 17, 18, 19, 20, 21, 22, 23, 24, 25, 26, 27, 28, 29, 30]}\n"
          ],
          "name": "stdout"
        }
      ]
    },
    {
      "cell_type": "code",
      "metadata": {
        "colab_type": "code",
        "id": "4ff7JLe6OeX9",
        "colab": {}
      },
      "source": [
        "grid = GridSearchCV(knn, param_grid, cv=10, scoring='accuracy')\n"
      ],
      "execution_count": 0,
      "outputs": []
    },
    {
      "cell_type": "code",
      "metadata": {
        "colab_type": "code",
        "id": "34vTOE95Og46",
        "outputId": "390171f0-bc5f-4f40-a3ad-89451cb646cf",
        "colab": {
          "base_uri": "https://localhost:8080/",
          "height": 275
        }
      },
      "source": [
        "grid.fit(X_train, y_train)\n"
      ],
      "execution_count": 334,
      "outputs": [
        {
          "output_type": "stream",
          "text": [
            "/usr/local/lib/python3.6/dist-packages/sklearn/model_selection/_search.py:814: DeprecationWarning: The default of the `iid` parameter will change from True to False in version 0.22 and will be removed in 0.24. This will change numeric results when test-set sizes are unequal.\n",
            "  DeprecationWarning)\n"
          ],
          "name": "stderr"
        },
        {
          "output_type": "execute_result",
          "data": {
            "text/plain": [
              "GridSearchCV(cv=10, error_score='raise-deprecating',\n",
              "             estimator=KNeighborsClassifier(algorithm='auto', leaf_size=30,\n",
              "                                            metric='minkowski',\n",
              "                                            metric_params=None, n_jobs=None,\n",
              "                                            n_neighbors=49, p=2,\n",
              "                                            weights='uniform'),\n",
              "             iid='warn', n_jobs=None,\n",
              "             param_grid={'n_neighbors': [1, 2, 3, 4, 5, 6, 7, 8, 9, 10, 11, 12,\n",
              "                                         13, 14, 15, 16, 17, 18, 19, 20, 21, 22,\n",
              "                                         23, 24, 25, 26, 27, 28, 29, 30]},\n",
              "             pre_dispatch='2*n_jobs', refit=True, return_train_score=False,\n",
              "             scoring='accuracy', verbose=0)"
            ]
          },
          "metadata": {
            "tags": []
          },
          "execution_count": 334
        }
      ]
    },
    {
      "cell_type": "code",
      "metadata": {
        "colab_type": "code",
        "id": "mEYlK2U-Ojne",
        "outputId": "da70f153-f9fe-42ea-ba96-3a367479ac25",
        "colab": {
          "base_uri": "https://localhost:8080/",
          "height": 221
        }
      },
      "source": [
        "grid.score\n"
      ],
      "execution_count": 335,
      "outputs": [
        {
          "output_type": "execute_result",
          "data": {
            "text/plain": [
              "<bound method BaseSearchCV.score of GridSearchCV(cv=10, error_score='raise-deprecating',\n",
              "             estimator=KNeighborsClassifier(algorithm='auto', leaf_size=30,\n",
              "                                            metric='minkowski',\n",
              "                                            metric_params=None, n_jobs=None,\n",
              "                                            n_neighbors=49, p=2,\n",
              "                                            weights='uniform'),\n",
              "             iid='warn', n_jobs=None,\n",
              "             param_grid={'n_neighbors': [1, 2, 3, 4, 5, 6, 7, 8, 9, 10, 11, 12,\n",
              "                                         13, 14, 15, 16, 17, 18, 19, 20, 21, 22,\n",
              "                                         23, 24, 25, 26, 27, 28, 29, 30]},\n",
              "             pre_dispatch='2*n_jobs', refit=True, return_train_score=False,\n",
              "             scoring='accuracy', verbose=0)>"
            ]
          },
          "metadata": {
            "tags": []
          },
          "execution_count": 335
        }
      ]
    },
    {
      "cell_type": "code",
      "metadata": {
        "colab_type": "code",
        "id": "MUinIEB7PAma",
        "outputId": "36ad6717-512d-4357-80e4-16ed9e8ef02a",
        "colab": {
          "base_uri": "https://localhost:8080/",
          "height": 102
        }
      },
      "source": [
        "print(grid.best_score_)\n",
        "\n",
        "# Dictionary containing the parameters (k) used to generate that score\n",
        "print(grid.best_params_)\n",
        "\n",
        "# Actual model object fit with those best parameters\n",
        "# Shows default parameters that we did not specify\n",
        "print(grid.best_estimator_)"
      ],
      "execution_count": 336,
      "outputs": [
        {
          "output_type": "stream",
          "text": [
            "0.9818688981868898\n",
            "{'n_neighbors': 1}\n",
            "KNeighborsClassifier(algorithm='auto', leaf_size=30, metric='minkowski',\n",
            "                     metric_params=None, n_jobs=None, n_neighbors=1, p=2,\n",
            "                     weights='uniform')\n"
          ],
          "name": "stdout"
        }
      ]
    },
    {
      "cell_type": "markdown",
      "metadata": {
        "colab_type": "text",
        "id": "UnOdGy34lbwF"
      },
      "source": [
        "# Support Vector Machine"
      ]
    },
    {
      "cell_type": "code",
      "metadata": {
        "colab_type": "code",
        "id": "zr3nv576leYz",
        "colab": {}
      },
      "source": [
        "from sklearn.svm import SVC\n",
        "model_svm= SVC(C=100, kernel='rbf', gamma=0.05)"
      ],
      "execution_count": 0,
      "outputs": []
    },
    {
      "cell_type": "code",
      "metadata": {
        "colab_type": "code",
        "id": "QeikH73Ulyk3",
        "outputId": "afd4b10f-efd9-4a10-f634-a8be238fc792",
        "colab": {
          "base_uri": "https://localhost:8080/",
          "height": 85
        }
      },
      "source": [
        "model_svm.fit(X_train, y_train)"
      ],
      "execution_count": 338,
      "outputs": [
        {
          "output_type": "execute_result",
          "data": {
            "text/plain": [
              "SVC(C=100, cache_size=200, class_weight=None, coef0=0.0,\n",
              "    decision_function_shape='ovr', degree=3, gamma=0.05, kernel='rbf',\n",
              "    max_iter=-1, probability=False, random_state=None, shrinking=True,\n",
              "    tol=0.001, verbose=False)"
            ]
          },
          "metadata": {
            "tags": []
          },
          "execution_count": 338
        }
      ]
    },
    {
      "cell_type": "code",
      "metadata": {
        "colab_type": "code",
        "id": "PEixeM1bl14d",
        "colab": {}
      },
      "source": [
        "predict_svm =model_svm.predict(X_test)"
      ],
      "execution_count": 0,
      "outputs": []
    },
    {
      "cell_type": "code",
      "metadata": {
        "colab_type": "code",
        "id": "3k-buwIRl56E",
        "outputId": "6bdf8388-b00c-433c-8195-4ec461c01407",
        "colab": {
          "base_uri": "https://localhost:8080/",
          "height": 34
        }
      },
      "source": [
        "accuracy_score(y_test, predict_svm)"
      ],
      "execution_count": 340,
      "outputs": [
        {
          "output_type": "execute_result",
          "data": {
            "text/plain": [
              "0.9577922077922078"
            ]
          },
          "metadata": {
            "tags": []
          },
          "execution_count": 340
        }
      ]
    },
    {
      "cell_type": "code",
      "metadata": {
        "colab_type": "code",
        "id": "j7KgMF3_l9iO",
        "outputId": "75bf7fbe-6083-4937-d5f4-8409963bb1ee",
        "colab": {
          "base_uri": "https://localhost:8080/",
          "height": 340
        }
      },
      "source": [
        "from sklearn.metrics import accuracy_score, classification_report, confusion_matrix, roc_curve, auc\n",
        "cm = confusion_matrix(y_test, predict_svm)\n",
        "plt.rcParams['figure.figsize'] = (5, 5)\n",
        "sb.heatmap(cm, annot = True, annot_kws = {'size':15}, cmap = 'PuBu')"
      ],
      "execution_count": 341,
      "outputs": [
        {
          "output_type": "execute_result",
          "data": {
            "text/plain": [
              "<matplotlib.axes._subplots.AxesSubplot at 0x7f520c004da0>"
            ]
          },
          "metadata": {
            "tags": []
          },
          "execution_count": 341
        },
        {
          "output_type": "display_data",
          "data": {
            "image/png": "[encoded data removed]",
            "text/plain": [
              "<Figure size 360x360 with 2 Axes>"
            ]
          },
          "metadata": {
            "tags": []
          }
        }
      ]
    },
    {
      "cell_type": "code",
      "metadata": {
        "colab_type": "code",
        "id": "AEOz59egmGN8",
        "outputId": "6504ea69-8646-48d4-d1f6-7ca048260be3",
        "colab": {
          "base_uri": "https://localhost:8080/",
          "height": 51
        }
      },
      "source": [
        "total=sum(sum(cm))\n",
        "\n",
        "sensitivity = cm[0,0]/(cm[0,0]+cm[0,1])\n",
        "print('Sensitivity : ', sensitivity )\n",
        "\n",
        "specificity = cm[1,1]/(cm[1,0]+cm[1,1])\n",
        "print('Specificity : ', specificity)"
      ],
      "execution_count": 342,
      "outputs": [
        {
          "output_type": "stream",
          "text": [
            "Sensitivity :  0.9556962025316456\n",
            "Specificity :  0.96\n"
          ],
          "name": "stdout"
        }
      ]
    },
    {
      "cell_type": "code",
      "metadata": {
        "colab_type": "code",
        "id": "zKB_zdC6mKs8",
        "outputId": "50315c22-0a9a-4065-c6d0-82c9255dc66f",
        "colab": {
          "base_uri": "https://localhost:8080/",
          "height": 350
        }
      },
      "source": [
        "from sklearn.metrics import roc_curve\n",
        "\n",
        "fpr, tpr, thresholds = roc_curve(y_test, predict_svm)\n",
        "\n",
        "fig, ax = plt.subplots()\n",
        "ax.plot(fpr, tpr)\n",
        "ax.plot([0, 1], [0, 1], transform=ax.transAxes, ls=\"-\", c=\".3\")\n",
        "plt.xlim([0.0, 1.0])\n",
        "plt.ylim([0.0, 1.0])\n",
        "\n",
        "plt.rcParams['figure.figsize'] = (15, 5)\n",
        "plt.title('ROC curve for Blood Pressure classifier', fontweight = 30)\n",
        "plt.xlabel('False Positive Rate (1 - Specificity)')\n",
        "plt.ylabel('True Positive Rate (Sensitivity)')\n",
        "plt.show()"
      ],
      "execution_count": 343,
      "outputs": [
        {
          "output_type": "display_data",
          "data": {
            "image/png": "[encoded data removed]",
            "text/plain": [
              "<Figure size 360x360 with 1 Axes>"
            ]
          },
          "metadata": {
            "tags": []
          }
        }
      ]
    },
    {
      "cell_type": "code",
      "metadata": {
        "colab_type": "code",
        "id": "s_7LBlT37w8B",
        "colab": {}
      },
      "source": [
        "from sklearn.model_selection import GridSearchCV\n",
        "#Grid Search  to find the value from kernel , c , gamma\n",
        "#parameters=[{'kernel':['linear'], 'C':[1,10,100,1000,10000]},\n",
        " #          {'kernel':['rbf'],'gamma':[0.5, 0.1, 0.05,0.07,0.08], 'C':[1,10,100,1000,10000]}]\n",
        "#grid_model_svc= GridSearchCV(SVC(), parameters)\n",
        "#grid_model_svc.fit(X_train, y_train)\n",
        "#grid_model_svc.best_score_"
      ],
      "execution_count": 0,
      "outputs": []
    },
    {
      "cell_type": "code",
      "metadata": {
        "colab_type": "code",
        "id": "ne69wwPk7zqD",
        "colab": {}
      },
      "source": [
        "#grid_model_svc.best_params_"
      ],
      "execution_count": 0,
      "outputs": []
    },
    {
      "cell_type": "markdown",
      "metadata": {
        "colab_type": "text",
        "id": "oZpt6IltnDSG"
      },
      "source": [
        "# XGBoost Classifier"
      ]
    },
    {
      "cell_type": "code",
      "metadata": {
        "colab_type": "code",
        "id": "MZp5Gf5VnGRl",
        "colab": {}
      },
      "source": [
        "from xgboost import XGBClassifier\n",
        "model_xg = XGBClassifier(learning_rate =0.1,\n",
        " n_estimators=1000,\n",
        " max_depth=3,\n",
        " min_child_weight=5,\n",
        " gamma=0.4,\n",
        " subsample=0.8,\n",
        " colsample_bytree=0.8,\n",
        " objective= 'binary:logistic',\n",
        " nthread=4,\n",
        " scale_pos_weight=1,\n",
        " seed=27)"
      ],
      "execution_count": 0,
      "outputs": []
    },
    {
      "cell_type": "code",
      "metadata": {
        "colab_type": "code",
        "id": "shWMi5NpnRDD",
        "outputId": "b81c3cb4-4d67-49f9-d9c4-961c794fa253",
        "colab": {
          "base_uri": "https://localhost:8080/",
          "height": 136
        }
      },
      "source": [
        "model_xg.fit(X_train,y_train)"
      ],
      "execution_count": 347,
      "outputs": [
        {
          "output_type": "execute_result",
          "data": {
            "text/plain": [
              "XGBClassifier(base_score=0.5, booster='gbtree', colsample_bylevel=1,\n",
              "              colsample_bynode=1, colsample_bytree=0.8, gamma=0.4,\n",
              "              learning_rate=0.1, max_delta_step=0, max_depth=3,\n",
              "              min_child_weight=5, missing=None, n_estimators=1000, n_jobs=1,\n",
              "              nthread=4, objective='binary:logistic', random_state=0,\n",
              "              reg_alpha=0, reg_lambda=1, scale_pos_weight=1, seed=27,\n",
              "              silent=None, subsample=0.8, verbosity=1)"
            ]
          },
          "metadata": {
            "tags": []
          },
          "execution_count": 347
        }
      ]
    },
    {
      "cell_type": "code",
      "metadata": {
        "colab_type": "code",
        "id": "aiBMAsF9nVvT",
        "colab": {}
      },
      "source": [
        "predict_xg= model_xg.predict(X_test)"
      ],
      "execution_count": 0,
      "outputs": []
    },
    {
      "cell_type": "code",
      "metadata": {
        "colab_type": "code",
        "id": "q2WmRHPHnbyC",
        "outputId": "e4afa34a-5a4e-45c1-a54c-aa0512855a85",
        "colab": {
          "base_uri": "https://localhost:8080/",
          "height": 34
        }
      },
      "source": [
        "accuracy_score(y_test, predict_xg)"
      ],
      "execution_count": 349,
      "outputs": [
        {
          "output_type": "execute_result",
          "data": {
            "text/plain": [
              "0.948051948051948"
            ]
          },
          "metadata": {
            "tags": []
          },
          "execution_count": 349
        }
      ]
    },
    {
      "cell_type": "code",
      "metadata": {
        "colab_type": "code",
        "id": "ni1fS1-4newy",
        "outputId": "55e26ca3-1683-44a9-a0f8-2e7d692c1c5e",
        "colab": {
          "base_uri": "https://localhost:8080/",
          "height": 340
        }
      },
      "source": [
        "from sklearn.metrics import accuracy_score, classification_report, confusion_matrix, roc_curve, auc\n",
        "cm = confusion_matrix(y_test, predict_xg)\n",
        "plt.rcParams['figure.figsize'] = (5, 5)\n",
        "sb.heatmap(cm, annot = True, annot_kws = {'size':15}, cmap = 'PuBu')"
      ],
      "execution_count": 350,
      "outputs": [
        {
          "output_type": "execute_result",
          "data": {
            "text/plain": [
              "<matplotlib.axes._subplots.AxesSubplot at 0x7f520bd2c2e8>"
            ]
          },
          "metadata": {
            "tags": []
          },
          "execution_count": 350
        },
        {
          "output_type": "display_data",
          "data": {
            "image/png": "[encoded data removed]",
            "text/plain": [
              "<Figure size 360x360 with 2 Axes>"
            ]
          },
          "metadata": {
            "tags": []
          }
        }
      ]
    },
    {
      "cell_type": "code",
      "metadata": {
        "colab_type": "code",
        "id": "vvrL7g5-nlF7",
        "outputId": "940da481-1dc5-41ea-a859-3b58570e92fe",
        "colab": {
          "base_uri": "https://localhost:8080/",
          "height": 51
        }
      },
      "source": [
        "total=sum(sum(cm))\n",
        "\n",
        "sensitivity = cm[0,0]/(cm[0,0]+cm[0,1])\n",
        "print('Sensitivity : ', sensitivity )\n",
        "\n",
        "specificity = cm[1,1]/(cm[1,0]+cm[1,1])\n",
        "print('Specificity : ', specificity)"
      ],
      "execution_count": 351,
      "outputs": [
        {
          "output_type": "stream",
          "text": [
            "Sensitivity :  0.9240506329113924\n",
            "Specificity :  0.9733333333333334\n"
          ],
          "name": "stdout"
        }
      ]
    },
    {
      "cell_type": "code",
      "metadata": {
        "colab_type": "code",
        "id": "yuY9OjpYnu0r",
        "outputId": "2d44b295-81bc-4087-9168-ab1924a6429e",
        "colab": {
          "base_uri": "https://localhost:8080/",
          "height": 350
        }
      },
      "source": [
        "from sklearn.metrics import roc_curve\n",
        "\n",
        "fpr, tpr, thresholds = roc_curve(y_test, predict_xg)\n",
        "\n",
        "fig, ax = plt.subplots()\n",
        "ax.plot(fpr, tpr)\n",
        "ax.plot([0, 1], [0, 1], transform=ax.transAxes, ls=\"-\", c=\".3\")\n",
        "plt.xlim([0.0, 1.0])\n",
        "plt.ylim([0.0, 1.0])\n",
        "\n",
        "plt.rcParams['figure.figsize'] = (15, 5)\n",
        "plt.title('ROC curve for Blood Pressure classifier', fontweight = 30)\n",
        "plt.xlabel('False Positive Rate (1 - Specificity)')\n",
        "plt.ylabel('True Positive Rate (Sensitivity)')\n",
        "plt.show()"
      ],
      "execution_count": 352,
      "outputs": [
        {
          "output_type": "display_data",
          "data": {
            "image/png": "[encoded data removed]",
            "text/plain": [
              "<Figure size 360x360 with 1 Axes>"
            ]
          },
          "metadata": {
            "tags": []
          }
        }
      ]
    },
    {
      "cell_type": "code",
      "metadata": {
        "colab_type": "code",
        "id": "w-XGY1LZxyry",
        "outputId": "591415bb-b832-419e-aee1-2ac9d741521f",
        "colab": {
          "base_uri": "https://localhost:8080/",
          "height": 323
        }
      },
      "source": [
        "param_test1 = {\n",
        " 'max_depth':range(3,10,2),\n",
        " 'min_child_weight':range(1,6,2)\n",
        "}\n",
        "gsearch1 = GridSearchCV(estimator = XGBClassifier( learning_rate =0.1, n_estimators=140, max_depth=5,\n",
        " min_child_weight=1, gamma=0, subsample=0.8, colsample_bytree=0.8,\n",
        " objective= 'binary:logistic', nthread=4, scale_pos_weight=1, seed=27), \n",
        " param_grid = param_test1, scoring='roc_auc',n_jobs=4,iid=False, cv=5)\n",
        "gsearch1.fit(X_train,y_train)\n",
        "gsearch1.score, gsearch1.best_params_, gsearch1.best_score_"
      ],
      "execution_count": 353,
      "outputs": [
        {
          "output_type": "execute_result",
          "data": {
            "text/plain": [
              "(<bound method BaseSearchCV.score of GridSearchCV(cv=5, error_score='raise-deprecating',\n",
              "              estimator=XGBClassifier(base_score=0.5, booster='gbtree',\n",
              "                                      colsample_bylevel=1, colsample_bynode=1,\n",
              "                                      colsample_bytree=0.8, gamma=0,\n",
              "                                      learning_rate=0.1, max_delta_step=0,\n",
              "                                      max_depth=5, min_child_weight=1,\n",
              "                                      missing=None, n_estimators=140, n_jobs=1,\n",
              "                                      nthread=4, objective='binary:logistic',\n",
              "                                      random_state=0, reg_alpha=0, reg_lambda=1,\n",
              "                                      scale_pos_weight=1, seed=27, silent=None,\n",
              "                                      subsample=0.8, verbosity=1),\n",
              "              iid=False, n_jobs=4,\n",
              "              param_grid={'max_depth': range(3, 10, 2),\n",
              "                          'min_child_weight': range(1, 6, 2)},\n",
              "              pre_dispatch='2*n_jobs', refit=True, return_train_score=False,\n",
              "              scoring='roc_auc', verbose=0)>,\n",
              " {'max_depth': 9, 'min_child_weight': 1},\n",
              " 0.9931115897159779)"
            ]
          },
          "metadata": {
            "tags": []
          },
          "execution_count": 353
        }
      ]
    },
    {
      "cell_type": "code",
      "metadata": {
        "colab_type": "code",
        "id": "HlqIp9cNyiV6",
        "outputId": "e135291a-c5ce-46cf-9837-6360369607bc",
        "colab": {
          "base_uri": "https://localhost:8080/",
          "height": 306
        }
      },
      "source": [
        "param_test3 = {\n",
        " 'gamma':[i/10.0 for i in range(0,5)]\n",
        "}\n",
        "gsearch3 = GridSearchCV(estimator = XGBClassifier( learning_rate =0.1, n_estimators=140, max_depth=4,\n",
        " min_child_weight=6, gamma=0, subsample=0.8, colsample_bytree=0.8,\n",
        " objective= 'binary:logistic', nthread=4, scale_pos_weight=1,seed=27), \n",
        " param_grid = param_test3, scoring='roc_auc',n_jobs=4,iid=False, cv=5)\n",
        "gsearch3.fit(X_train,y_train)\n",
        "gsearch3.score, gsearch3.best_params_, gsearch3.best_score_"
      ],
      "execution_count": 354,
      "outputs": [
        {
          "output_type": "execute_result",
          "data": {
            "text/plain": [
              "(<bound method BaseSearchCV.score of GridSearchCV(cv=5, error_score='raise-deprecating',\n",
              "              estimator=XGBClassifier(base_score=0.5, booster='gbtree',\n",
              "                                      colsample_bylevel=1, colsample_bynode=1,\n",
              "                                      colsample_bytree=0.8, gamma=0,\n",
              "                                      learning_rate=0.1, max_delta_step=0,\n",
              "                                      max_depth=4, min_child_weight=6,\n",
              "                                      missing=None, n_estimators=140, n_jobs=1,\n",
              "                                      nthread=4, objective='binary:logistic',\n",
              "                                      random_state=0, reg_alpha=0, reg_lambda=1,\n",
              "                                      scale_pos_weight=1, seed=27, silent=None,\n",
              "                                      subsample=0.8, verbosity=1),\n",
              "              iid=False, n_jobs=4,\n",
              "              param_grid={'gamma': [0.0, 0.1, 0.2, 0.3, 0.4]},\n",
              "              pre_dispatch='2*n_jobs', refit=True, return_train_score=False,\n",
              "              scoring='roc_auc', verbose=0)>,\n",
              " {'gamma': 0.2},\n",
              " 0.9790730021985912)"
            ]
          },
          "metadata": {
            "tags": []
          },
          "execution_count": 354
        }
      ]
    },
    {
      "cell_type": "code",
      "metadata": {
        "colab_type": "code",
        "id": "6mZvHUP2y7Lj",
        "outputId": "6ccddcba-d782-47d1-8967-9f63f75ff4d4",
        "colab": {
          "base_uri": "https://localhost:8080/",
          "height": 323
        }
      },
      "source": [
        "param_test4 = {\n",
        " 'subsample':[i/10.0 for i in range(6,10)],\n",
        " 'colsample_bytree':[i/10.0 for i in range(6,10)]\n",
        "}\n",
        "gsearch4 = GridSearchCV(estimator = XGBClassifier( learning_rate =0.1, n_estimators=177, max_depth=4,\n",
        " min_child_weight=6, gamma=0, subsample=0.8, colsample_bytree=0.8,\n",
        " objective= 'binary:logistic', nthread=4, scale_pos_weight=1,seed=27), \n",
        " param_grid = param_test4, scoring='roc_auc',n_jobs=4,iid=False, cv=5)\n",
        "gsearch4.fit(X_train,y_train)\n",
        "gsearch4.score, gsearch4.best_params_, gsearch4.best_score_"
      ],
      "execution_count": 355,
      "outputs": [
        {
          "output_type": "execute_result",
          "data": {
            "text/plain": [
              "(<bound method BaseSearchCV.score of GridSearchCV(cv=5, error_score='raise-deprecating',\n",
              "              estimator=XGBClassifier(base_score=0.5, booster='gbtree',\n",
              "                                      colsample_bylevel=1, colsample_bynode=1,\n",
              "                                      colsample_bytree=0.8, gamma=0,\n",
              "                                      learning_rate=0.1, max_delta_step=0,\n",
              "                                      max_depth=4, min_child_weight=6,\n",
              "                                      missing=None, n_estimators=177, n_jobs=1,\n",
              "                                      nthread=4, objective='binary:logistic',\n",
              "                                      random_state=0, reg_alpha=0, reg_lambda=1,\n",
              "                                      scale_pos_weight=1, seed=27, silent=None,\n",
              "                                      subsample=0.8, verbosity=1),\n",
              "              iid=False, n_jobs=4,\n",
              "              param_grid={'colsample_bytree': [0.6, 0.7, 0.8, 0.9],\n",
              "                          'subsample': [0.6, 0.7, 0.8, 0.9]},\n",
              "              pre_dispatch='2*n_jobs', refit=True, return_train_score=False,\n",
              "              scoring='roc_auc', verbose=0)>,\n",
              " {'colsample_bytree': 0.6, 'subsample': 0.9},\n",
              " 0.9831744963431597)"
            ]
          },
          "metadata": {
            "tags": []
          },
          "execution_count": 355
        }
      ]
    },
    {
      "cell_type": "code",
      "metadata": {
        "colab_type": "code",
        "id": "aP419ICBzMf0",
        "outputId": "ede01635-ce4b-46d5-df75-7d28d2550df3",
        "colab": {
          "base_uri": "https://localhost:8080/",
          "height": 306
        }
      },
      "source": [
        "param_test6 = {\n",
        " 'reg_alpha':[1e-5, 1e-2, 0.1, 1, 100]\n",
        "}\n",
        "gsearch6 = GridSearchCV(estimator = XGBClassifier( learning_rate =0.1, n_estimators=177, max_depth=4,\n",
        " min_child_weight=6, gamma=0.1, subsample=0.8, colsample_bytree=0.8,\n",
        " objective= 'binary:logistic', nthread=4, scale_pos_weight=1,seed=27), \n",
        " param_grid = param_test6, scoring='roc_auc',n_jobs=4,iid=False, cv=5)\n",
        "gsearch6.fit(X_train,y_train)\n",
        "gsearch6.score, gsearch6.best_params_, gsearch6.best_score_"
      ],
      "execution_count": 356,
      "outputs": [
        {
          "output_type": "execute_result",
          "data": {
            "text/plain": [
              "(<bound method BaseSearchCV.score of GridSearchCV(cv=5, error_score='raise-deprecating',\n",
              "              estimator=XGBClassifier(base_score=0.5, booster='gbtree',\n",
              "                                      colsample_bylevel=1, colsample_bynode=1,\n",
              "                                      colsample_bytree=0.8, gamma=0.1,\n",
              "                                      learning_rate=0.1, max_delta_step=0,\n",
              "                                      max_depth=4, min_child_weight=6,\n",
              "                                      missing=None, n_estimators=177, n_jobs=1,\n",
              "                                      nthread=4, objective='binary:logistic',\n",
              "                                      random_state=0, reg_alpha=0, reg_lambda=1,\n",
              "                                      scale_pos_weight=1, seed=27, silent=None,\n",
              "                                      subsample=0.8, verbosity=1),\n",
              "              iid=False, n_jobs=4,\n",
              "              param_grid={'reg_alpha': [1e-05, 0.01, 0.1, 1, 100]},\n",
              "              pre_dispatch='2*n_jobs', refit=True, return_train_score=False,\n",
              "              scoring='roc_auc', verbose=0)>,\n",
              " {'reg_alpha': 0.01},\n",
              " 0.9808172477228878)"
            ]
          },
          "metadata": {
            "tags": []
          },
          "execution_count": 356
        }
      ]
    },
    {
      "cell_type": "markdown",
      "metadata": {
        "colab_type": "text",
        "id": "fjJdo4Mbn4w2"
      },
      "source": [
        "# Ada Boost Classifier"
      ]
    },
    {
      "cell_type": "code",
      "metadata": {
        "colab_type": "code",
        "id": "wnJbIuWGo_Jf",
        "colab": {}
      },
      "source": [
        "from sklearn.ensemble import AdaBoostClassifier\n",
        "from sklearn import datasets"
      ],
      "execution_count": 0,
      "outputs": []
    },
    {
      "cell_type": "code",
      "metadata": {
        "colab_type": "code",
        "id": "PrludP2Uo_nl",
        "colab": {}
      },
      "source": [
        "model_abc= AdaBoostClassifier(n_estimators=100,\n",
        "                         learning_rate=1, base_estimator=model_rf)"
      ],
      "execution_count": 0,
      "outputs": []
    },
    {
      "cell_type": "code",
      "metadata": {
        "colab_type": "code",
        "id": "PRWqnSz1pHIh",
        "outputId": "8e5cd2ca-9e62-48d0-c112-23c2276fcb45",
        "colab": {
          "base_uri": "https://localhost:8080/",
          "height": 340
        }
      },
      "source": [
        "model_abc.fit(X_train, y_train)\n"
      ],
      "execution_count": 359,
      "outputs": [
        {
          "output_type": "execute_result",
          "data": {
            "text/plain": [
              "AdaBoostClassifier(algorithm='SAMME.R',\n",
              "                   base_estimator=RandomForestClassifier(bootstrap=True,\n",
              "                                                         class_weight=None,\n",
              "                                                         criterion='gini',\n",
              "                                                         max_depth=15,\n",
              "                                                         max_features='auto',\n",
              "                                                         max_leaf_nodes=None,\n",
              "                                                         min_impurity_decrease=0.0,\n",
              "                                                         min_impurity_split=None,\n",
              "                                                         min_samples_leaf=1,\n",
              "                                                         min_samples_split=2,\n",
              "                                                         min_weight_fraction_leaf=0.0,\n",
              "                                                         n_estimators=500,\n",
              "                                                         n_jobs=None,\n",
              "                                                         oob_score=False,\n",
              "                                                         random_state=1,\n",
              "                                                         verbose=0,\n",
              "                                                         warm_start=False),\n",
              "                   learning_rate=1, n_estimators=100, random_state=None)"
            ]
          },
          "metadata": {
            "tags": []
          },
          "execution_count": 359
        }
      ]
    },
    {
      "cell_type": "code",
      "metadata": {
        "colab_type": "code",
        "id": "eLq5x8M4pL-W",
        "colab": {}
      },
      "source": [
        "predict_abc = model_abc.predict(X_test)\n"
      ],
      "execution_count": 0,
      "outputs": []
    },
    {
      "cell_type": "code",
      "metadata": {
        "colab_type": "code",
        "id": "Ac_QnEgtpRGv",
        "outputId": "14284b38-bc57-4ec7-e6a2-b3225c22c99b",
        "colab": {
          "base_uri": "https://localhost:8080/",
          "height": 34
        }
      },
      "source": [
        "accuracy_score(y_test, predict_abc)"
      ],
      "execution_count": 361,
      "outputs": [
        {
          "output_type": "execute_result",
          "data": {
            "text/plain": [
              "0.9772727272727273"
            ]
          },
          "metadata": {
            "tags": []
          },
          "execution_count": 361
        }
      ]
    },
    {
      "cell_type": "code",
      "metadata": {
        "colab_type": "code",
        "id": "5xq3HYAspWlW",
        "outputId": "d5f86e45-b83c-4b44-f880-c36036b15649",
        "colab": {
          "base_uri": "https://localhost:8080/",
          "height": 340
        }
      },
      "source": [
        "from sklearn.metrics import accuracy_score, classification_report, confusion_matrix, roc_curve, auc\n",
        "cm = confusion_matrix(y_test, predict_abc)\n",
        "plt.rcParams['figure.figsize'] = (5, 5)\n",
        "sb.heatmap(cm, annot = True, annot_kws = {'size':15}, cmap = 'PuBu')"
      ],
      "execution_count": 362,
      "outputs": [
        {
          "output_type": "execute_result",
          "data": {
            "text/plain": [
              "<matplotlib.axes._subplots.AxesSubplot at 0x7f520b7651d0>"
            ]
          },
          "metadata": {
            "tags": []
          },
          "execution_count": 362
        },
        {
          "output_type": "display_data",
          "data": {
            "image/png": "[encoded data removed]",
            "text/plain": [
              "<Figure size 360x360 with 2 Axes>"
            ]
          },
          "metadata": {
            "tags": []
          }
        }
      ]
    },
    {
      "cell_type": "code",
      "metadata": {
        "colab_type": "code",
        "id": "EjD8fKCapbfD",
        "outputId": "3f9b6779-f82c-4f01-f672-87c3397892e5",
        "colab": {
          "base_uri": "https://localhost:8080/",
          "height": 51
        }
      },
      "source": [
        "total=sum(sum(cm))\n",
        "\n",
        "sensitivity = cm[0,0]/(cm[0,0]+cm[0,1])\n",
        "print('Sensitivity : ', sensitivity )\n",
        "\n",
        "specificity = cm[1,1]/(cm[1,0]+cm[1,1])\n",
        "print('Specificity : ', specificity)"
      ],
      "execution_count": 363,
      "outputs": [
        {
          "output_type": "stream",
          "text": [
            "Sensitivity :  0.9746835443037974\n",
            "Specificity :  0.98\n"
          ],
          "name": "stdout"
        }
      ]
    },
    {
      "cell_type": "code",
      "metadata": {
        "colab_type": "code",
        "id": "YDf5TpKzqWIt",
        "outputId": "70259af7-fd83-40e3-d2f1-a9051b32d45e",
        "colab": {
          "base_uri": "https://localhost:8080/",
          "height": 350
        }
      },
      "source": [
        "from sklearn.metrics import roc_curve\n",
        "\n",
        "fpr, tpr, thresholds = roc_curve(y_test, predict_abc)\n",
        "\n",
        "fig, ax = plt.subplots()\n",
        "ax.plot(fpr, tpr)\n",
        "ax.plot([0, 1], [0, 1], transform=ax.transAxes, ls=\"-\", c=\".3\")\n",
        "plt.xlim([0.0, 1.0])\n",
        "plt.ylim([0.0, 1.0])\n",
        "\n",
        "plt.rcParams['figure.figsize'] = (15, 5)\n",
        "plt.title('ROC curve for Blood Pressure classifier', fontweight = 30)\n",
        "plt.xlabel('False Positive Rate (1 - Specificity)')\n",
        "plt.ylabel('True Positive Rate (Sensitivity)')\n",
        "plt.show()"
      ],
      "execution_count": 364,
      "outputs": [
        {
          "output_type": "display_data",
          "data": {
            "image/png": "[encoded data removed]",
            "text/plain": [
              "<Figure size 360x360 with 1 Axes>"
            ]
          },
          "metadata": {
            "tags": []
          }
        }
      ]
    },
    {
      "cell_type": "code",
      "metadata": {
        "colab_type": "code",
        "id": "VMFzg0h2VumU",
        "outputId": "1c421298-3f06-4a13-d50a-d0582f737cbb",
        "colab": {
          "base_uri": "https://localhost:8080/",
          "height": 34
        }
      },
      "source": [
        "# Accuracy Logistic Regression\n",
        "lr_accuracy=accuracy_score(y_test, predict_lr)\n",
        "lr_accuracy\n"
      ],
      "execution_count": 365,
      "outputs": [
        {
          "output_type": "execute_result",
          "data": {
            "text/plain": [
              "0.8506493506493507"
            ]
          },
          "metadata": {
            "tags": []
          },
          "execution_count": 365
        }
      ]
    },
    {
      "cell_type": "code",
      "metadata": {
        "colab_type": "code",
        "id": "DtIf4aYuWqnH",
        "outputId": "14a7c987-dbf5-446d-be7b-d88c2628391d",
        "colab": {
          "base_uri": "https://localhost:8080/",
          "height": 34
        }
      },
      "source": [
        "# Accuracy Decision Tree\n",
        "dt_accuracy=accuracy_score(y_test, predict_dt)\n",
        "dt_accuracy"
      ],
      "execution_count": 366,
      "outputs": [
        {
          "output_type": "execute_result",
          "data": {
            "text/plain": [
              "0.8636363636363636"
            ]
          },
          "metadata": {
            "tags": []
          },
          "execution_count": 366
        }
      ]
    },
    {
      "cell_type": "code",
      "metadata": {
        "colab_type": "code",
        "id": "cFwVu_7iWsj1",
        "outputId": "e52687bc-0ee8-4fcc-aa9c-64654dde95fe",
        "colab": {
          "base_uri": "https://localhost:8080/",
          "height": 34
        }
      },
      "source": [
        "# Accuracy Random Forest\n",
        "rf_accuracy=accuracy_score(y_test, predict_rf)\n",
        "rf_accuracy"
      ],
      "execution_count": 367,
      "outputs": [
        {
          "output_type": "execute_result",
          "data": {
            "text/plain": [
              "0.9675324675324676"
            ]
          },
          "metadata": {
            "tags": []
          },
          "execution_count": 367
        }
      ]
    },
    {
      "cell_type": "code",
      "metadata": {
        "colab_type": "code",
        "id": "kaWk61tmW0zA",
        "outputId": "d228f807-55bd-4b6d-dfa2-a8767633ceec",
        "colab": {
          "base_uri": "https://localhost:8080/",
          "height": 34
        }
      },
      "source": [
        "# Accuracy  XGBoost\n",
        "xg_accuracy=accuracy_score(y_test, predict_xg)\n",
        "xg_accuracy"
      ],
      "execution_count": 368,
      "outputs": [
        {
          "output_type": "execute_result",
          "data": {
            "text/plain": [
              "0.948051948051948"
            ]
          },
          "metadata": {
            "tags": []
          },
          "execution_count": 368
        }
      ]
    },
    {
      "cell_type": "code",
      "metadata": {
        "colab_type": "code",
        "id": "MXa2D90UW3pb",
        "outputId": "7bd9449f-5a78-4d09-a0eb-e516a9bf7811",
        "colab": {
          "base_uri": "https://localhost:8080/",
          "height": 34
        }
      },
      "source": [
        "# Accuracy Ada Boost\n",
        "ada_accuracy=accuracy_score(y_test, predict_abc)\n",
        "ada_accuracy"
      ],
      "execution_count": 369,
      "outputs": [
        {
          "output_type": "execute_result",
          "data": {
            "text/plain": [
              "0.9772727272727273"
            ]
          },
          "metadata": {
            "tags": []
          },
          "execution_count": 369
        }
      ]
    },
    {
      "cell_type": "code",
      "metadata": {
        "colab_type": "code",
        "id": "UBBRsUzQW5Hh",
        "outputId": "a5f18859-3f90-4928-b010-13cbe059797a",
        "colab": {
          "base_uri": "https://localhost:8080/",
          "height": 34
        }
      },
      "source": [
        "# Accuracy KNN\n",
        "knn_accuracy=accuracy_score(y_test, predict_knn)\n",
        "knn_accuracy"
      ],
      "execution_count": 370,
      "outputs": [
        {
          "output_type": "execute_result",
          "data": {
            "text/plain": [
              "0.8701298701298701"
            ]
          },
          "metadata": {
            "tags": []
          },
          "execution_count": 370
        }
      ]
    },
    {
      "cell_type": "code",
      "metadata": {
        "colab_type": "code",
        "id": "GA7M1kTsW7Ru",
        "outputId": "2521b285-b099-47b8-acc2-2c82c7b42c82",
        "colab": {
          "base_uri": "https://localhost:8080/",
          "height": 34
        }
      },
      "source": [
        "# Accuracy  SVM\n",
        "svm_accuracy=accuracy_score(y_test, predict_svm)\n",
        "svm_accuracy"
      ],
      "execution_count": 371,
      "outputs": [
        {
          "output_type": "execute_result",
          "data": {
            "text/plain": [
              "0.9577922077922078"
            ]
          },
          "metadata": {
            "tags": []
          },
          "execution_count": 371
        }
      ]
    },
    {
      "cell_type": "code",
      "metadata": {
        "id": "RnNcX2x-9XCO",
        "colab_type": "code",
        "colab": {
          "base_uri": "https://localhost:8080/",
          "height": 416
        },
        "outputId": "52c1bf50-9b03-468a-9699-6a02d835cf05"
      },
      "source": [
        "models = ['Logistic Regression','Decision Tree','Random Forest','XGBoost','Ada Boost','KNeighborsClassifier','SVM']\n",
        "accuracy = [lr_accuracy,dt_accuracy,rf_accuracy,xg_accuracy,ada_accuracy,knn_accuracy,svm_accuracy]\n",
        "\n",
        "ax = sb.barplot(models,accuracy)\n",
        "\n",
        "plt.title(\"Accuracy of differet models\")\n",
        "\n",
        "ax.set_xticklabels(\n",
        "    ax.get_xticklabels(),\n",
        "    rotation=45,\n",
        "    horizontalalignment='right');"
      ],
      "execution_count": 372,
      "outputs": [
        {
          "output_type": "display_data",
          "data": {
            "image/png": "[encoded data removed]",
            "text/plain": [
              "<Figure size 1080x360 with 1 Axes>"
            ]
          },
          "metadata": {
            "tags": []
          }
        }
      ]
    }
  ]
}